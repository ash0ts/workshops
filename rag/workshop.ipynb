{
 "cells": [
  {
   "cell_type": "markdown",
   "metadata": {},
   "source": [
    "# Workshop: From Simple to Agentic RAG"
   ]
  },
  {
   "cell_type": "markdown",
   "metadata": {},
   "source": [
    "<a target=\"_blank\" href=\"https://colab.research.google.com/github/parambharat/workshops/blob/main/rag/workshop.ipynb\">\n",
    "  <img src=\"https://colab.research.google.com/assets/colab-badge.svg\" alt=\"Open In Colab\"/>\n",
    "</a>\n",
    "\n",
    "<!--- @wandbcode{pc-rag-workshop-nyc} -->"
   ]
  },
  {
   "cell_type": "markdown",
   "metadata": {},
   "source": [
    "## Setup\n",
    "\n",
    "Ensure you have a W&B account and API key. You should be able to get one from [here](https://wandb.ai/authorize).\n",
    "\n",
    "Next, you need to get the Pinecone API key. You can get one from [here](https://app.pinecone.io/settings/keys).\n",
    "\n",
    "Next head over to [Tavily](https://app.tavily.com/home) and sign up for a free account and get your API key.\n",
    "\n",
    "We will use [`uv`](https://docs.astral.sh/uv/getting-started/installation/) to install the workshop package and its dependencies.\n",
    "\n",
    "\n",
    "```bash\n",
    "!git clone https://github.com/parambharat/workshops.git\n",
    "%cd workshops/rag\n",
    "!pip install uv\n",
    "!uv sync\n",
    "```\n",
    "\n",
    "Create an `.env` file in the workshop/rag directory and add the API keys to it or set it in the colab secrets:\n",
    "\n",
    "```.env\n",
    "PINECONE_API_KEY=\"YOUR_PINECONE_API_KEY\"\n",
    "OPENAI_API_KEY=\"YOUR_OPENAI_API_KEY\"\n",
    "TAVILY_API_KEY=\"YOUR_TAVILY_API_KEY\"\n",
    "WANDB_API_KEY=\"YOUR_WANDB_API_KEY\"\n",
    "WANDB_PROJECT=\"rag-workshop-pc-nyc\"\n",
    "```\n"
   ]
  },
  {
   "cell_type": "code",
   "execution_count": 1,
   "metadata": {},
   "outputs": [],
   "source": [
    "IN_COLAB = False\n",
    "try:\n",
    "    import google.colab\n",
    "    IN_COLAB = True\n",
    "    !git clone https://github.com/ash0ts/workshops.git\n",
    "    %cd workshops/rag\n",
    "    !pip install -qqq uv \n",
    "    !uv pip install -r pyproject.toml --system -qqq\n",
    "except:\n",
    "    pass\n"
   ]
  },
  {
   "cell_type": "markdown",
   "metadata": {},
   "source": [
    "### IMPORTANT: If in Colab, restart the kernel\n",
    "\n",
    "**Restart the kernel to apply the changes from the installed dependencies.**\n",
    "\n",
    "**Do not run the next cell until you have restarted the kernel.**\n",
    "\n",
    "**Ensure you don't run the previous cell again after restarting the kernel.**\n"
   ]
  },
  {
   "cell_type": "code",
   "execution_count": 2,
   "metadata": {},
   "outputs": [
    {
     "name": "stderr",
     "output_type": "stream",
     "text": [
      "\u001b[32m2025-01-22 15:36:48.214\u001b[0m | \u001b[33m\u001b[1mWARNING \u001b[0m | \u001b[36mset_env.set_env\u001b[0m:\u001b[36mset_env\u001b[0m:\u001b[36m109\u001b[0m - \u001b[33m\u001b[1m\n",
      "        Unable to set WANDB_PROJECT=WANDB_PROJECT,\n",
      "        not in colab or Secrets not set, not kaggle\n",
      "        or Secrets not set, no .env/dotenv/env file\n",
      "        in the current working dir or parent dirs.\u001b[0m\n"
     ]
    },
    {
     "name": "stdout",
     "output_type": "stream",
     "text": [
      "loading envfile='/Users/anishshah/Documents/Manual Library/GitHub/workshops/rag/.env' with dotenv_values(envfile)\n",
      "WANDB_PROJECT is not set. Setting it to rag-workshop-pc-nyc\n"
     ]
    }
   ],
   "source": [
    "from set_env import set_env\n",
    "import os\n",
    "set_env(\"PINECONE_API_KEY\")\n",
    "set_env(\"OPENAI_API_KEY\")\n",
    "set_env(\"TAVILY_API_KEY\")\n",
    "set_env(\"WANDB_API_KEY\")\n",
    "set_env(\"WANDB_PROJECT\")\n",
    "\n",
    "if os.environ.get(\"WANDB_PROJECT\") is None:\n",
    "    print(\"WANDB_PROJECT is not set. Setting it to rag-workshop-pc-nyc\")\n",
    "    os.environ[\"WANDB_PROJECT\"] = \"rag-workshop-pc-nyc-3\"\n"
   ]
  },
  {
   "cell_type": "code",
   "execution_count": 3,
   "metadata": {},
   "outputs": [],
   "source": [
    "# %load_ext dotenv\n",
    "# %dotenv\n",
    "# %load_ext autoreload\n",
    "# %autoreload 2"
   ]
  },
  {
   "cell_type": "code",
   "execution_count": 4,
   "metadata": {},
   "outputs": [
    {
     "name": "stderr",
     "output_type": "stream",
     "text": [
      "[nltk_data] Downloading package wordnet to\n",
      "[nltk_data]     /Users/anishshah/nltk_data...\n",
      "[nltk_data]   Package wordnet is already up-to-date!\n",
      "[nltk_data] Downloading package punkt to /Users/anishshah/nltk_data...\n",
      "[nltk_data]   Package punkt is already up-to-date!\n",
      "[nltk_data] Downloading package punkt_tab to\n",
      "[nltk_data]     /Users/anishshah/nltk_data...\n",
      "[nltk_data]   Package punkt_tab is already up-to-date!\n"
     ]
    },
    {
     "name": "stdout",
     "output_type": "stream",
     "text": [
      "\u001b[34m\u001b[1mwandb\u001b[0m: Currently logged in as: \u001b[33ma-sh0ts\u001b[0m. Use \u001b[1m`wandb login --relogin`\u001b[0m to force relogin\n"
     ]
    }
   ],
   "source": [
    "import nltk\n",
    "nltk.download(\"wordnet\")\n",
    "nltk.download(\"punkt\")\n",
    "nltk.download(\"punkt_tab\")\n",
    "\n",
    "!wandb login"
   ]
  },
  {
   "cell_type": "code",
   "execution_count": 5,
   "metadata": {},
   "outputs": [],
   "source": [
    "import json\n",
    "import wandb\n",
    "import weave\n",
    "from copy import deepcopy\n",
    "import nest_asyncio\n",
    "import pathlib\n",
    "nest_asyncio.apply()"
   ]
  },
  {
   "cell_type": "code",
   "execution_count": 6,
   "metadata": {},
   "outputs": [
    {
     "name": "stderr",
     "output_type": "stream",
     "text": [
      "/Users/anishshah/Documents/Manual Library/GitHub/workshops/rag/.venv/lib/python3.11/site-packages/pydantic/_internal/_config.py:345: UserWarning: Valid config keys have changed in V2:\n",
      "* 'fields' has been removed\n",
      "  warnings.warn(message, UserWarning)\n",
      "Device set to use mps\n",
      "Device set to use mps\n",
      "Device set to use mps\n",
      "Device set to use mps\n"
     ]
    }
   ],
   "source": [
    "from utils import convert_contents_to_text, make_id, render_doc, printmd, chunk_simple, run_llm\n",
    "from retrieval_metrics import RetrievalScorer\n",
    "from response_metrics import ResponseScorer\n",
    "from retriever import TfidfSearchEngine, BM25SearchEngine, DenseSearchEngine, Retriever, RetrieverWithReranker, HybridRetrieverWithReranker, VectorStoreSearchEngine\n",
    "from generation import SimpleResponseGenerator, QueryEnhancedResponseGenerator\n",
    "from pipeline import SimpleRAGPipeline, QueryEnhancedRAGPipeline\n",
    "from query_enhancer import QueryEnhancer"
   ]
  },
  {
   "cell_type": "code",
   "execution_count": 7,
   "metadata": {},
   "outputs": [],
   "source": [
    "# WORKSHOP_DATASET = \"financebench\"\n",
    "WORKSHOP_DATASET = \"sec-10-q\"\n",
    "SAVE_DATA = False\n",
    "LOAD_PRECOMPUTED_DATA = True\n",
    "STORE_INTO_PINECONE = False\n"
   ]
  },
  {
   "cell_type": "markdown",
   "metadata": {},
   "source": [
    "## Weave\n",
    "\n",
    "Weave is a lightweight toolkit for tracking and evaluating LLM applications ( This is a very simplified description of Weave though).\n",
    "\n",
    "- Log and debug language model inputs, outputs, and traces\n",
    "- Build rigorous, apples-to-apples evaluations for language model use cases\n",
    "- Organize all the information generated across the LLM workflow, from experimentation to evaluations to production\n",
    "\n",
    "Don't worry about the details for now. We will see more of it as we build our RAG pipeline.\n",
    "\n",
    "For now let's initialize W&B Weave. Once intialized, weave will start tracking (more on it later) the inputs and the outputs along with underlying attributes (model name, top_k, etc.) of all the LLMs, functions, evaluations, etc. we will be calling."
   ]
  },
  {
   "cell_type": "code",
   "execution_count": 8,
   "metadata": {},
   "outputs": [
    {
     "name": "stdout",
     "output_type": "stream",
     "text": [
      "Logged in as Weights & Biases user: a-sh0ts.\n",
      "View Weave data at https://wandb.ai/a-sh0ts/rag-workshop-pc-nyc-3/weave\n"
     ]
    }
   ],
   "source": [
    "# Initialize Weave with the project name\n",
    "WANDB_PROJECT = os.environ.get(\"WANDB_PROJECT\")\n",
    "weave_client = weave.init(WANDB_PROJECT)"
   ]
  },
  {
   "cell_type": "code",
   "execution_count": 9,
   "metadata": {},
   "outputs": [
    {
     "name": "stdout",
     "output_type": "stream",
     "text": [
      "🍩 https://wandb.ai/a-sh0ts/rag-workshop-pc-nyc-3/r/call/01948fbb-8ed0-7b62-9345-364104d8e120\n"
     ]
    },
    {
     "data": {
      "text/markdown": [
       "**Weights and Biases (WandB)** and **Pinecone** are two powerful tools commonly used in the machine learning and data science ecosystem, each serving distinct but complementary purposes.\n",
       "\n",
       "### Weights and Biases (WandB)\n",
       "\n",
       "Weights and Biases is a platform designed for experiment tracking, model management, and collaboration in machine learning projects. It provides tools for:\n",
       "\n",
       "- **Experiment Tracking**: Automatically log hyperparameters, metrics, and system performance during model training.\n",
       "- **Visualization**: Create visualizations of training runs, compare different models, and analyze performance metrics over time.\n",
       "- **Collaboration**: Share results and insights with team members, making it easier to collaborate on machine learning projects.\n",
       "- **Model Management**: Version control for models, datasets, and experiments, allowing teams to keep track of changes and reproduce results.\n",
       "\n",
       "### Pinecone\n",
       "\n",
       "Pinecone is a managed vector database designed for machine learning applications, particularly for handling and querying high-dimensional vector embeddings. It provides:\n",
       "\n",
       "- **Vector Storage**: Efficiently store and manage large volumes of vector embeddings generated by machine learning models.\n",
       "- **Similarity Search**: Perform fast and scalable similarity searches to find the nearest neighbors of a given vector, which is essential for applications like recommendation systems, image retrieval, and natural language processing.\n",
       "- **Scalability**: Automatically scales to handle large datasets and high query volumes without the need for complex infrastructure management.\n",
       "\n",
       "### Why They Are a Good Fit Together\n",
       "\n",
       "1. **End-to-End Workflow**: Weights and Biases can be used to track experiments and model performance, while Pinecone can be used to deploy and manage the resulting models and their embeddings. This creates a seamless workflow from experimentation to deployment.\n",
       "\n",
       "2. **Model Evaluation**: After training models with WandB, you can generate embeddings and store them in Pinecone for efficient retrieval and similarity searches. This allows for quick evaluation of model performance in real-world applications.\n",
       "\n",
       "3. **Collaboration and Sharing**: Teams can use WandB to share insights and results from their experiments, while Pinecone can be used to share and manage the embeddings and similarity search capabilities, facilitating collaboration on projects that require real-time data retrieval.\n",
       "\n",
       "4. **Scalability**: Both tools are designed to handle large-scale machine learning projects. WandB helps manage the complexity of experiments, while Pinecone provides a scalable solution for managing vector data, making them suitable for enterprise-level applications.\n",
       "\n",
       "In summary, Weights and Biases and Pinecone complement each other by providing a comprehensive solution for managing the lifecycle of machine learning models, from experimentation to deployment and real-time inference."
      ],
      "text/plain": [
       "<IPython.core.display.Markdown object>"
      ]
     },
     "metadata": {},
     "output_type": "display_data"
    }
   ],
   "source": [
    "response = await run_llm(messages=[{\"role\": \"user\", \"content\": \"What is Weights and Biases and what is Pinecone? Why are they the best fit together?\"}])\n",
    "printmd(response)"
   ]
  },
  {
   "cell_type": "markdown",
   "metadata": {},
   "source": [
    "## Preparing the dataset\n",
    "We'll use [Weave Datasets](https://weave-docs.wandb.ai/guides/core-types/datasets) to track and version data as the inputs and outputs of our W&B Runs. \n",
    "\n",
    "To learn more about how we prepared the dataset for this workshop, checkout the [dataset preparation script](./download_finance_docs.py).\n"
   ]
  },
  {
   "cell_type": "code",
   "execution_count": 10,
   "metadata": {},
   "outputs": [],
   "source": [
    "from download_finance_docs import PDFProcessor\n",
    "\n",
    "if not LOAD_PRECOMPUTED_DATA:\n",
    "    if WORKSHOP_DATASET == \"financebench\":\n",
    "        kwargs = {\n",
    "            \"REPO_OWNER\": \"patronus-ai\",\n",
    "            \"REPO_NAME\": \"financebench\",\n",
    "            \"DOCS_PATH\": \"pdfs\",\n",
    "            \"data_dir\": pathlib.Path(\"./data/financebench_docs\")\n",
    "        }\n",
    "    elif WORKSHOP_DATASET == \"sec-10-q\":\n",
    "        kwargs = {\n",
    "            \"REPO_OWNER\": \"docugami\",\n",
    "            \"REPO_NAME\": \"KG-RAG-datasets\",\n",
    "            \"DOCS_PATH\": \"sec-10-q/data/v1/docs\",\n",
    "            \"data_dir\": pathlib.Path(\"./data/sec-10-q\")\n",
    "        }\n",
    "    else:\n",
    "        raise ValueError(f\"Invalid dataset: {WORKSHOP_DATASET}\")\n",
    "    processor = PDFProcessor(**kwargs)\n",
    "    data = processor.load_pdf_documents()\n",
    "else:\n",
    "    if WORKSHOP_DATASET == \"financebench\":\n",
    "        data = [dict(datum) for datum in weave.ref(\"weave:///a-sh0ts/rag-workshop-pc-nyc-financebench/object/raw_data:z3g6P8R5iaLV4EUrAHmGFA13KCtkaXGvLlYNviOr5ZI\").get().rows]\n",
    "    elif WORKSHOP_DATASET == \"sec-10-q\":\n",
    "        data = [dict(datum) for datum in weave.ref(\"weave:///a-sh0ts/rag-workshop-pc-nyc/object/raw_data:bcreeHzxeWoJVBgU4vNORfZVY8HiYRH2zfbTI5HpyOg\").get().rows]\n",
    "    else:\n",
    "        raise ValueError(f\"Invalid dataset: {WORKSHOP_DATASET}\")"
   ]
  },
  {
   "cell_type": "code",
   "execution_count": 11,
   "metadata": {},
   "outputs": [],
   "source": [
    "if not LOAD_PRECOMPUTED_DATA:\n",
    "    docs_dir = processor.data_dir"
   ]
  },
  {
   "cell_type": "code",
   "execution_count": 12,
   "metadata": {},
   "outputs": [],
   "source": [
    "if not LOAD_PRECOMPUTED_DATA:\n",
    "    docs_files = sorted(docs_dir.rglob(\"*.pdf\"))\n",
    "\n",
    "    print(f\"Number of files: {len(docs_files)}\\n\")\n",
    "    print(\"First 5 files:\\n{files}\".format(files=\"\\n\".join(map(str, docs_files[:5]))))"
   ]
  },
  {
   "cell_type": "markdown",
   "metadata": {},
   "source": [
    "Our documents can be stored as dictionaries with content (_raw text_) and additional metadata.\n",
    "\n",
    "Metadata is extra information for that data point which can be used to group together similar data points, or filter out a few data points.\n",
    "We will see in future chapters the importance of metadata and why it should not be ignored while building the ingestion pipeline.\n",
    "\n",
    "The metadata can be derived (`file_type`) or is inherent (`uri`) to the data point.\n"
   ]
  },
  {
   "cell_type": "code",
   "execution_count": 13,
   "metadata": {},
   "outputs": [
    {
     "name": "stdout",
     "output_type": "stream",
     "text": [
      "Total tokens: 476354\n"
     ]
    }
   ],
   "source": [
    "total_tokens = sum(map(lambda x: x[\"metadata\"][\"raw_tokens\"], data))\n",
    "print(f\"Total tokens: {total_tokens}\")"
   ]
  },
  {
   "cell_type": "markdown",
   "metadata": {},
   "source": [
    "\n",
    "Checking the total number of tokens of your data source is a good practice. In this case, the total tokens is 450k+. Surely, most LLM providers cannot process this many tokens. Building a RAG is justified in such cases.\n",
    "\n",
    "**Note** We are simply counting words  and calling them `tokens` here. It's only an approximation of the actual token count which will be a bigger number.\n",
    "In practice we would be using a [tokenizer](https://docs.cohere.com/docs/tokens-and-tokenizers) to calculate the token counts but this naive calculation is an okay approximation for now."
   ]
  },
  {
   "cell_type": "code",
   "execution_count": 14,
   "metadata": {},
   "outputs": [],
   "source": [
    "# build weave dataset\n",
    "if not LOAD_PRECOMPUTED_DATA:\n",
    "    raw_data = weave.Dataset(name=\"raw_data\", rows=data)\n",
    "\n",
    "    if SAVE_DATA:\n",
    "        # publish the dataset\n",
    "        weave.publish(raw_data)"
   ]
  },
  {
   "cell_type": "markdown",
   "metadata": {},
   "source": [
    "## A simple RAG pipeline\n",
    "\n",
    "First, we will build a very simple RAG pipeline.\n",
    "We will mainly focus on how to preprocess and chunk the data followed by building the simplest retrieval engine without using any fancy \"Vector databases\".\n",
    "The idea is to get a sense of the inner workings of a retrieval pipeline and understand the workflow from a user query to a generated response from an LLM.\n",
    "This end to end workflow will help you understand the importance of each step in a RAG pipeline.\n",
    "\n",
    "![](./imgs/SimpleRAG.png)"
   ]
  },
  {
   "cell_type": "markdown",
   "metadata": {},
   "source": [
    "### Chunking the data\n",
    "\n",
    "Each document contains a large number of tokens, so we need to split it into smaller chunks to manage the number of tokens per chunk. This approach serves three main purposes:\n",
    "\n",
    "* Most embedding models have a limit of tokens per input (based on their training data and parameters).\n",
    "\n",
    "* Chunking allows us to retrieve and send only the most relevant portions to our LLM, significantly reducing the total token count. This helps keep the LLM's cost and processing time manageable.\n",
    "\n",
    "* When the text is small-sized, embedding models tend to generate better vectors as they can capture more fine-grained details and nuances in the text, resulting in more accurate representations.\n",
    "\n",
    "![](./imgs/SimpleChunking.png)\n",
    "\n",
    "\n",
    "When choosing chunk size, consider these trade-offs:\n",
    "\n",
    "- Smaller chunks (100-200 tokens):\n",
    "  * More precise retrieval\n",
    "  * Better for finding specific details\n",
    "  * May lack broader context\n",
    "\n",
    "- Larger chunks (500-1000 tokens):\n",
    "  * Provide more context\n",
    "  * Capture more coherent ideas\n",
    "  * May introduce noise and reduce precision\n",
    "\n",
    "The optimal size depends on your data, expected queries, and model capabilities. Experiment with different sizes to find the best balance for your use case.\n",
    "\n",
    "Here we are chunking each content (text) to a maximum length of 500 tokens (`CHUNK_SIZE`). This is called **FIXED CHUNKING**. Although naive, it's a good starting point.\n",
    "\n",
    "For now, we will not be overlapping (`CHUNK_OVERLAP`) the content of one chunk with another chunk.\n",
    "\n",
    "We will be using the `chunk_simple` function to chunk the data.\n",
    "\n"
   ]
  },
  {
   "cell_type": "code",
   "execution_count": 15,
   "metadata": {},
   "outputs": [
    {
     "name": "stderr",
     "output_type": "stream",
     "text": [
      "Expected length of response rows (100) to match prefetched rows (1553). Ignoring prefetched rows.\n"
     ]
    }
   ],
   "source": [
    "if LOAD_PRECOMPUTED_DATA:\n",
    "    if WORKSHOP_DATASET == \"financebench\":\n",
    "        document_chunks = [dict(document_chunk) for document_chunk in weave.ref(\"weave:///a-sh0ts/rag-workshop-pc-nyc-financebench/object/chunked_data:7O0kS8Idu6R8am6Jd7eqkWQ1mookqeNqhit10XsiLFs\").get().rows]\n",
    "    elif WORKSHOP_DATASET == \"sec-10-q\":\n",
    "        document_chunks = [dict(document_chunk) for document_chunk in weave.ref(\"weave:///a-sh0ts/rag-workshop-pc-nyc/object/chunked_data:IkbgNRJ6T8ZLkJD8a9ocbpHxW2f1BThEqY1lagKispc\").get().rows]\n",
    "    else:\n",
    "        raise ValueError(f\"Invalid dataset: {WORKSHOP_DATASET}\")"
   ]
  },
  {
   "cell_type": "code",
   "execution_count": 16,
   "metadata": {},
   "outputs": [],
   "source": [
    "if not LOAD_PRECOMPUTED_DATA:\n",
    "    document_chunks = []\n",
    "    for doc in data:\n",
    "        # Chunk the content of each document\n",
    "        chunks = chunk_simple(doc[\"content\"], chunk_size=500, model=\"gpt-4o-mini\")\n",
    "        # Create a unique ID for the document\n",
    "        doc_id = make_id(doc[\"content\"])\n",
    "        # Iterate over the chunks and create a new document for each chunk\n",
    "        for i, chunk in enumerate(chunks):\n",
    "            doc_chunk = deepcopy(doc)\n",
    "            # Remove the content from the document\n",
    "            del doc_chunk[\"content\"]\n",
    "            # Store the chunk as part of the document\n",
    "            doc_chunk[\"chunk\"] = chunk\n",
    "            # Convert the chunk to text to be used as input for the LLM\n",
    "            doc_chunk[\"text\"] = convert_contents_to_text(chunk)\n",
    "            # Note which chunk number it is\n",
    "            doc_chunk[\"chunk_number\"] = i\n",
    "            # Create a unique ID for the chunk\n",
    "            doc_chunk[\"chunk_id\"] = make_id(chunk)\n",
    "            # Add the document ID to the chunk\n",
    "            doc_chunk[\"doc_id\"] = doc_id\n",
    "            # Append the chunk to the list of document chunks\n",
    "            document_chunks.append(doc_chunk)"
   ]
  },
  {
   "cell_type": "code",
   "execution_count": 17,
   "metadata": {},
   "outputs": [
    {
     "data": {
      "text/plain": [
       "[{'metadata': WeaveDict({'source': '2022 Q3 AAPL.pdf', 'raw_tokens': 11081, 'file_type': 'pdf'}),\n",
       "  'chunk': 'UNITED STATES\\nSECURITIES AND EXCHANGE COMMISSION\\nWashington, D.C. 20549\\nFORM 10-Q\\n(Mark One)\\n�� QUARTERL Y REPORT PURSUANT T O SECTION 13 OR 15(d) OF THE SECURITIES EXCHANGE ACT OF 1934\\nFor the quarterly period ended June 25, 2022\\nor\\n�� TRANSITION REPORT PURSUANT T O SECTION 13 OR 15(d) OF THE SECURITIES EXCHANGE ACT OF 1934\\nFor the transition period from              to             .Commission File Number: 001-36743\\nApple Inc.\\n(Exact name of Registrant as specified in its charter)\\nCalifornia 94-24041 10\\n(State or other jurisdiction\\nof incorporation or organization)(I.R.S.Employer Identification No.)',\n",
       "  'text': 'UNITED STATES\\nSECURITIES AND EXCHANGE COMMISSION\\nWashington, D.C. 20549\\nFORM 10-Q\\n(Mark One)\\n�� QUARTERL Y REPORT PURSUANT T O SECTION 13 OR 15(d) OF THE SECURITIES EXCHANGE ACT OF 1934\\nFor the quarterly period ended June 25, 2022\\nor\\n�� TRANSITION REPORT PURSUANT T O SECTION 13 OR 15(d) OF THE SECURITIES EXCHANGE ACT OF 1934\\nFor the transition period from to .Commission File Number: 001-36743\\nApple Inc.\\n(Exact name of Registrant as specified in its charter)\\nCalifornia 94-24041 10\\n(State or other jurisdiction\\nof incorporation or organization)(I.R.S.Employer Identification No.)',\n",
       "  'chunk_number': 0,\n",
       "  'chunk_id': '05b8156eb6a7b5caf41a32ccecb6f223',\n",
       "  'doc_id': 'd526fb0c9708ec6e7103a267f08b9a6a'},\n",
       " {'metadata': WeaveDict({'source': '2022 Q3 AAPL.pdf', 'raw_tokens': 11081, 'file_type': 'pdf'}),\n",
       "  'chunk': 'One Apple Park W ay\\nCupertino, California 95014\\n(Address of principal executive offices) (Zip Code)\\n(408) 996-1010\\n(Registrant’s telephone number, including area code)\\nSecurities registered pursuant to Section 12(b) of the Act:\\nTitle of each class Trading symbol(s) Name of each exchange on which registered\\nCommon Stock, $0.00001 par value per share AAPL The Nasdaq Stock Market LLC\\n1.000% Notes due 2022 — The Nasdaq Stock Market LLC\\n1.375% Notes due 2024 — The Nasdaq Stock Market LLC\\n0.000% Notes due 2025 — The Nasdaq Stock Market LLC\\n0.875% Notes due 2025 — The Nasdaq Stock Market LLC\\n1.625% Notes due 2026 — The Nasdaq Stock Market LLC\\n2.000% Notes due 2027 — The Nasdaq Stock Market LLC\\n1.375% Notes due 2029 — The Nasdaq Stock Market LLC\\n3.050% Notes due 2029 — The Nasdaq Stock Market LLC\\n0.500% Notes due 2031 — The Nasdaq Stock Market LLC\\n3.600% Notes due 2042 — The Nasdaq Stock Market LLC\\nIndicate by check mark whether the Registrant (1) has filed all reports required to be filed by Section 13 or 15(d) of the Securities Exchange Act of 1934 during the preceding 12\\nmonths (or for such shorter period that the Registrant was required to file such reports), and (2) has been subject to such filing requirements for the past 90 days.Yes  ��     No  ��\\nIndicate by check mark whether the Registrant has submitted electronically every Interactive Data File required to be submitted pursuant to Rule 405 of Regulation S-T (§232.405 of\\nthis chapter) during the preceding 12 months (or for such shorter period that the Registrant was required to submit such files).Yes  ��     No  ��\\nIndicate by check mark whether the Registrant is a large accelerated filer, an accelerated filer, a non-accelerated filer, a smaller reporting company, or an emerging growth company.',\n",
       "  'text': 'One Apple Park W ay\\nCupertino, California 95014\\n(Address of principal executive offices) (Zip Code)\\n(408) 996-1010\\n(Registrant’s telephone number, including area code)\\nSecurities registered pursuant to Section 12(b) of the Act:\\nTitle of each class Trading symbol(s) Name of each exchange on which registered\\nCommon Stock, $0.00001 par value per share AAPL The Nasdaq Stock Market LLC\\n1.000% Notes due 2022 — The Nasdaq Stock Market LLC\\n1.375% Notes due 2024 — The Nasdaq Stock Market LLC\\n0.000% Notes due 2025 — The Nasdaq Stock Market LLC\\n0.875% Notes due 2025 — The Nasdaq Stock Market LLC\\n1.625% Notes due 2026 — The Nasdaq Stock Market LLC\\n2.000% Notes due 2027 — The Nasdaq Stock Market LLC\\n1.375% Notes due 2029 — The Nasdaq Stock Market LLC\\n3.050% Notes due 2029 — The Nasdaq Stock Market LLC\\n0.500% Notes due 2031 — The Nasdaq Stock Market LLC\\n3.600% Notes due 2042 — The Nasdaq Stock Market LLC\\nIndicate by check mark whether the Registrant (1) has filed all reports required to be filed by Section 13 or 15(d) of the Securities Exchange Act of 1934 during the preceding 12\\nmonths (or for such shorter period that the Registrant was required to file such reports), and (2) has been subject to such filing requirements for the past 90 days.Yes �� No ��\\nIndicate by check mark whether the Registrant has submitted electronically every Interactive Data File required to be submitted pursuant to Rule 405 of Regulation S-T (§232.405 of\\nthis chapter) during the preceding 12 months (or for such shorter period that the Registrant was required to submit such files).Yes �� No ��\\nIndicate by check mark whether the Registrant is a large accelerated filer, an accelerated filer, a non-accelerated filer, a smaller reporting company, or an emerging growth company.',\n",
       "  'chunk_number': 1,\n",
       "  'chunk_id': '73cf3e576b6b6e395df6f4638b2d7faa',\n",
       "  'doc_id': 'd526fb0c9708ec6e7103a267f08b9a6a'},\n",
       " {'metadata': WeaveDict({'source': '2022 Q3 AAPL.pdf', 'raw_tokens': 11081, 'file_type': 'pdf'}),\n",
       "  'chunk': 'See the definitions of “large accelerated filer,” “accelerated filer,” “smaller reporting company,” and “emerging growth company” in Rule 12b-2 of the Exchange Act.Large accelerated filer �� Accelerated filer ��\\nNon-accelerated filer �� Smaller reporting company ��\\nEmerging growth company ��If an emerging growth company, indicate by check mark if the Registrant has elected not to use the extended transition period for complying with any new or revised financial\\naccounting standards provided pursuant to Section 13(a) of the Exchange Act.��\\nIndicate by check mark whether the Registrant is a shell company (as defined in Rule 12b-2 of the Exchange Act).Yes  ��     No  ��\\n16,070,752,000 shares of common stock were issued and outstanding as of July 15, 2022.Apple Inc.\\nForm 10-Q\\nFor the Fiscal Quarter Ended June 25, 2022\\nTABLE OF CONTENTS\\nPage\\nPart I\\nItem 1.Financial Statements 1\\nItem 2.Management’ s Discussion and Analysis of Financial Condition and Results of Operations 14\\nItem 3.Quantitative and Qualitative Disclosures About Market Risk 19\\nItem 4.Controls and Procedures 19\\nPart II\\nItem 1.Legal Proceedings 20\\nItem 1A.Risk Factors 20\\nItem 2.Unregistered Sales of Equity Securities and Use of Proceeds 20\\nItem 3.Defaults Upon Senior Securities 21\\nItem 4.Mine Safety Disclosures 21\\nItem 5.Other Information 21\\nItem 6.Exhibits 21PART I — FINANCIAL  INFORMA TION\\nItem 1.',\n",
       "  'text': 'See the definitions of “large accelerated filer,” “accelerated filer,” “smaller reporting company,” and “emerging growth company” in Rule 12b-2 of the Exchange Act.Large accelerated filer �� Accelerated filer ��\\nNon-accelerated filer �� Smaller reporting company ��\\nEmerging growth company ��If an emerging growth company, indicate by check mark if the Registrant has elected not to use the extended transition period for complying with any new or revised financial\\naccounting standards provided pursuant to Section 13(a) of the Exchange Act.��\\nIndicate by check mark whether the Registrant is a shell company (as defined in Rule 12b-2 of the Exchange Act).Yes �� No ��\\n16070752000 shares of common stock were issued and outstanding as of July 15, 2022.Apple Inc.\\nForm 10-Q\\nFor the Fiscal Quarter Ended June 25, 2022\\nTABLE OF CONTENTS\\nPage\\nPart I\\nItem 1.Financial Statements 1\\nItem 2.Management’ s Discussion and Analysis of Financial Condition and Results of Operations 14\\nItem 3.Quantitative and Qualitative Disclosures About Market Risk 19\\nItem 4.Controls and Procedures 19\\nPart II\\nItem 1.Legal Proceedings 20\\nItem 1A.Risk Factors 20\\nItem 2.Unregistered Sales of Equity Securities and Use of Proceeds 20\\nItem 3.Defaults Upon Senior Securities 21\\nItem 4.Mine Safety Disclosures 21\\nItem 5.Other Information 21\\nItem 6.Exhibits 21PART I — FINANCIAL INFORMA TION\\nItem 1.',\n",
       "  'chunk_number': 2,\n",
       "  'chunk_id': '2d38890f77050d167bc87658c9d452eb',\n",
       "  'doc_id': 'd526fb0c9708ec6e7103a267f08b9a6a'},\n",
       " {'metadata': WeaveDict({'source': '2022 Q3 AAPL.pdf', 'raw_tokens': 11081, 'file_type': 'pdf'}),\n",
       "  'chunk': 'Financial Statements\\nApple Inc.\\nCONDENSED CONSOLIDA TED ST ATEMENTS OF OPERA TIONS (Unaudited)\\n(In millions, except number of shares which are reflected in thousands and per share amounts)\\nThree Months Ended Nine Months Ended\\nJune 25,\\n2022June 26,\\n2021June 25,\\n2022June 26,\\n2021\\nNet sales:\\n   Products $ 63,355 $ 63,948 $ 245,241 $ 232,309 \\n   Services 19,604 17,486 58,941 50,148 \\nTotal net sales 82,959 81,434 304,182 282,457 \\nCost of sales:\\n   Products 41,485 40,899 155,084 149,476 \\n   Services 5,589 5,280 16,41 1 15,319 \\nTotal cost of sales 47,074 46,179 171,495 164,795 \\nGross margin 35,885 35,255 132,687 117,662 \\nOperating expenses:\\nResearch and development 6,797 5,717 19,490 16,142 \\nSelling, general and administrative 6,012 5,412 18,654 16,357 \\nTotal operating expenses 12,809 11,129 38,144 32,499 \\nOperating income 23,076 24,126 94,543 85,163 \\nOther income/(expense), net (10) 243 (97) 796 \\nIncome before provision for income taxes 23,066 24,369 94,446 85,959 \\nProvision for income taxes 3,624 2,625 15,364 11,830 \\nNet income $ 19,442 $ 21,744 $ 79,082 $ 74,129 \\nEarnings per share:\\nBasic $ 1.20 $ 1.31 $ 4.86 $ 4.42 \\nDiluted $ 1.20 $ 1.30 $ 4.82 $ 4.38 \\nShares used in computing earnings per share:\\nBasic 16,162,945 16,629,371 16,277,824 16,772,656 \\nDiluted 16,262,203 16,781,735 16,394,937 16,941,527 \\nSee accompanying Notes to Condensed Consolidated Financial Statements.',\n",
       "  'text': 'Financial Statements\\nApple Inc.\\nCONDENSED CONSOLIDA TED ST ATEMENTS OF OPERA TIONS (Unaudited)\\n(In millions, except number of shares which are reflected in thousands and per share amounts)\\nThree Months Ended Nine Months Ended\\nJune 25,\\n2022June 26,\\n2021June 25,\\n2022June 26,\\n2021\\nNet sales: Products $ 63355 $ 63948 $ 245241 $ 232309 Services 19604 17486 58941 50148 Total net sales 82959 81434 304182 282457 Cost of sales: Products 41485 40899 155084 149476 Services 5589 5280 1641 1 15319 Total cost of sales 47074 46179 171495 164795 Gross margin 35885 35255 132687 117662 Operating expenses:\\nResearch and development 6797 5717 19490 16142 Selling, general and administrative 6012 5412 18654 16357 Total operating expenses 12809 11129 38144 32499 Operating income 23076 24126 94543 85163 Other income/(expense), net (10) 243 (97) 796 Income before provision for income taxes 23066 24369 94446 85959 Provision for income taxes 3624 2625 15364 11830 Net income $ 19442 $ 21744 $ 79082 $ 74129 Earnings per share:\\nBasic $ 1.20 $ 1.31 $ 4.86 $ 4.42 Diluted $ 1.20 $ 1.30 $ 4.82 $ 4.38 Shares used in computing earnings per share:\\nBasic 16162945 16629371 16277824 16772656 Diluted 16262203 16781735 16394937 16941527 See accompanying Notes to Condensed Consolidated Financial Statements.',\n",
       "  'chunk_number': 3,\n",
       "  'chunk_id': '08ff87d03f481d739f1bc1961b34e77b',\n",
       "  'doc_id': 'd526fb0c9708ec6e7103a267f08b9a6a'},\n",
       " {'metadata': WeaveDict({'source': '2022 Q3 AAPL.pdf', 'raw_tokens': 11081, 'file_type': 'pdf'}),\n",
       "  'chunk': 'Apple Inc. | Q3 2022 Form 10-Q | 1Apple Inc.\\nCONDENSED CONSOLIDA TED ST ATEMENTS OF COMPREHENSIVE INCOME (Unaudited)\\n(In millions)\\nThree Months Ended Nine Months Ended\\nJune 25,\\n2022June 26,\\n2021June 25,\\n2022June 26,\\n2021\\nNet income $ 19,442 $ 21,744 $ 79,082 $ 74,129 \\nOther comprehensive income/(loss):\\nChange in foreign currency translation, net of tax (721) 188 (1,102) 659 \\nChange in unrealized gains/losses on derivative instruments, net of tax:\\nChange in fair value of derivative instruments 852 (24) 1,548 4 \\nAdjustment for net (gains)/losses realized and included in net income 121 17 (87) 593 \\nTotal change in unrealized gains/losses on derivative instruments 973 (7) 1,461 597 \\nChange in unrealized gains/losses on marketable debt securities, net of tax:\\nChange in fair value of marketable debt securities (3,150) 217 (9,959) (558)\\nAdjustment for net (gains)/losses realized and included in net income 95 (54) 140 (234)\\nTotal change in unrealized gains/losses on marketable debt\\nsecurities (3,055) 163 (9,819) (792)\\nTotal other comprehensive income/(loss) (2,803) 344 (9,460) 464 \\nTotal comprehensive income $ 16,639 $ 22,088 $ 69,622 $ 74,593 \\nSee accompanying Notes to Condensed Consolidated Financial Statements.',\n",
       "  'text': 'Apple Inc. | Q3 2022 Form 10-Q | 1Apple Inc.\\nCONDENSED CONSOLIDA TED ST ATEMENTS OF COMPREHENSIVE INCOME (Unaudited)\\n(In millions)\\nThree Months Ended Nine Months Ended\\nJune 25,\\n2022June 26,\\n2021June 25,\\n2022June 26,\\n2021\\nNet income $ 19442 $ 21744 $ 79082 $ 74129 Other comprehensive income/(loss):\\nChange in foreign currency translation, net of tax (721) 188 (1102) 659 Change in unrealized gains/losses on derivative instruments, net of tax:\\nChange in fair value of derivative instruments 852 (24) 1548 4 Adjustment for net (gains)/losses realized and included in net income 121 17 (87) 593 Total change in unrealized gains/losses on derivative instruments 973 (7) 1461 597 Change in unrealized gains/losses on marketable debt securities, net of tax:\\nChange in fair value of marketable debt securities (3150) 217 (9959) (558)\\nAdjustment for net (gains)/losses realized and included in net income 95 (54) 140 (234)\\nTotal change in unrealized gains/losses on marketable debt\\nsecurities (3055) 163 (9819) (792)\\nTotal other comprehensive income/(loss) (2803) 344 (9460) 464 Total comprehensive income $ 16639 $ 22088 $ 69622 $ 74593 See accompanying Notes to Condensed Consolidated Financial Statements.',\n",
       "  'chunk_number': 4,\n",
       "  'chunk_id': '33faab84c63c5d2b66e81b634fe3ea6f',\n",
       "  'doc_id': 'd526fb0c9708ec6e7103a267f08b9a6a'}]"
      ]
     },
     "execution_count": 17,
     "metadata": {},
     "output_type": "execute_result"
    }
   ],
   "source": [
    "# Let's see the first 5 chunks\n",
    "document_chunks[:5]"
   ]
  },
  {
   "cell_type": "code",
   "execution_count": 18,
   "metadata": {},
   "outputs": [],
   "source": [
    "if not LOAD_PRECOMPUTED_DATA:\n",
    "    dataset = weave.Dataset(name=\"chunked_data\", rows=document_chunks)\n",
    "\n",
    "    if SAVE_DATA:\n",
    "        weave.publish(dataset)"
   ]
  },
  {
   "cell_type": "markdown",
   "metadata": {},
   "source": [
    "### Building the simplest retrieval engine\n",
    "\n",
    "One of the key ingredient of most retrieval systems is to represent the given modality (text in our case) as a vector.\n",
    "\n",
    "This vector is a numerical representation representing the \"content\" of that modality (text).\n",
    "\n",
    "Text vectorization (text to vector) can be done using various techniques like \n",
    "- [bag-of-words](https://en.wikipedia.org/wiki/Bag-of-words_model), \n",
    "- [TF-IDF](https://en.wikipedia.org/wiki/Tf–idf) (Term Frequency-Inverse Document Frequency), \n",
    "- and static embeddings like [Word2Vec](https://en.wikipedia.org/wiki/Word2vec), [GloVe](https://nlp.stanford.edu/projects/glove/), \n",
    "- and context aware embeddings based on transformer based models like BERT and more, which capture the semantic meaning and relationships between words or sentences.\n",
    "\n",
    "![](./imgs/EmbeddingLayer.png)\n",
    "\n",
    "First, we'll use TF-IDF (Term Frequency-Inverse Document Frequency) to vectorize our contents. Here's why:\n",
    "\n",
    "- **Simplicity**: TF-IDF is straightforward to implement and understand, making it an excellent starting point for RAG systems.\n",
    "- **Efficiency**: It's computationally lightweight, allowing for quick processing of large document collections.\n",
    "- **No training required**: Unlike embedding models, TF-IDF doesn't need pre-training, making it easy to get started quickly.\n",
    "- **Interpretability**: The resulting vectors are directly related to word frequencies, making them easy to interpret.\n",
    "\n",
    "While more advanced methods like embeddings **might** provide better performance, especially for semantic understanding, we'll explore these in later as we progress through the workshop.\n"
   ]
  },
  {
   "cell_type": "code",
   "execution_count": 19,
   "metadata": {},
   "outputs": [],
   "source": [
    "query = \"How has Apple's total net sales changed over time?\""
   ]
  },
  {
   "cell_type": "code",
   "execution_count": 20,
   "metadata": {},
   "outputs": [
    {
     "name": "stdout",
     "output_type": "stream",
     "text": [
      "🍩 https://wandb.ai/a-sh0ts/rag-workshop-pc-nyc-3/r/call/01948fbc-1809-7310-8a71-db258c7a5724\n"
     ]
    },
    {
     "data": {
      "text/markdown": [
       "- score: 0.2206\n",
       "- metadata: WeaveDict({'source': '2022 Q3 AAPL.pdf', 'raw_tokens': 11081, 'file_type': 'pdf'})\n",
       "- chunk_number: 23\n",
       "- chunk_id: d33428f0dd6ff1183372542f1452fdb2\n",
       "- doc_id: d526fb0c9708ec6e7103a267f08b9a6a\n",
       "\n",
       "\n",
       "(2)Wearables, Home and Accessories net sales include sales of AirPods, Apple TV, Apple Watch, Beats products, HomePod mini and accessories.(3)Services net sales include sales from the Company’s advertising, AppleCare, cloud, digital content, payment and other services.Services net sales also include\n",
       "amortization of the deferred value of services bundled in the sales price of certain products.iPhone\n",
       "iPhone net sales increas ed during the third quarter and first nine months of 2022 compared to the same periods in 2021 due primarily to higher net sales from\n",
       "the Company’ s new iPhone models.Mac\n",
       "Mac net sales decrease d during the third quarter of 2022 compared to the third quarter of 2021 due primarily to lower net sales of MacBook Air and iMac ,\n",
       "partially offset by higher net sales of MacBook Pro.Year-over-year Mac net sales increased durin g the first nine months of 2022 due primarily to higher net sales\n",
       "of MacBook Pro, partially of fset by lower net sales of MacBook Air.iPad\n",
       "iPad net sales decrease d during the third quarter of 2022 compared to the third quarter of 2021  due primarily to lower net sales of iPad Pro , partially offset by\n",
       "higher net sales of all other iPad models.Year-ov er-year iPad net sales decreased during the first nine months of 2022 due primarily to lower net sales of the 10-\n",
       "inch version of iPad and iPad Air, partially of fset by higher net sales of iPad mini .Wearables, Home and Accessories\n",
       "Wearables, Home and Accessories net sales decreased during the third quarter of 2022 compared to the third quarter of 2021 due primarily to lower net sales of\n",
       "AirPods and Apple Watch.Year-over-year Wearables, Home and Accessories net sales increased  during the first nine months of 2022 due primarily to higher net\n",
       "sales of Apple W atch and AirPods.(1)\n",
       "(1)\n",
       " (1)\n",
       "(1)(2)\n",
       "(3)\n",
       "®\n",
       "®\n",
       "® ®\n",
       "Apple Inc. | Q3 2022 Form 10-Q | 15Services\n",
       "Services net sales increased during the third quarter of 2022 compared to the third quarter of 2021 due primarily to higher net sales from advertising, cloud\n",
       "services and AppleCare.\n",
       "\n",
       "---\n",
       "\n"
      ],
      "text/plain": [
       "<IPython.core.display.Markdown object>"
      ]
     },
     "metadata": {},
     "output_type": "display_data"
    },
    {
     "data": {
      "text/markdown": [
       "- score: 0.1874\n",
       "- metadata: WeaveDict({'source': '2023 Q1 AAPL.pdf', 'raw_tokens': 19713, 'file_type': 'pdf'})\n",
       "- chunk_number: 25\n",
       "- chunk_id: 08b9afbc4602c0acf9a05d7ebed88bb0\n",
       "- doc_id: a1c822cc02697e5675aaa83c47357247\n",
       "\n",
       "\n",
       "Rest of Asia Pacific\n",
       "Rest of Asia Pacific net sales decreased during the first quarter of 2023 compared to the same quarter in 2022 due to the weakness in foreign currencies relative\n",
       "to the U.S. dollar .The weakness in foreign curre ncies contributed to lower net sales of iPhone and Mac, which was partially offset by higher net sales of Services\n",
       "and iPad.Products and Services Performance\n",
       "The following table shows net sales by category for the three months ended December 31, 2022 and December 25, 2021 (dollars in millions):\n",
       "Three Months Ended\n",
       "December 31,\n",
       "2022December 25,\n",
       "2021 Change\n",
       "Net sales by category:\n",
       "iPhone $ 65,775 $ 71,628 (8)%\n",
       "Mac 7,735 10,852 (29)%\n",
       "iPad 9,396 7,248 30 %\n",
       "Wearables, Home and Accessories 13,482 14,701 (8)%\n",
       "Services 20,766 19,516 6 %\n",
       "Total net sales $ 117,154 $ 123,945 (5)%\n",
       "(1)Products net sales include amortization of the deferred value of unspecified software upgrade rights, which are bundled in the sales price of the respective\n",
       "product.(2)Wearables, Home and Accessories net sales include sales of AirPods, Apple TV, Apple Watch, Beats products, HomePod mini and accessories.(3)Services net sales include sales from the Company’s advertising, AppleCare, cloud, digital content, payment and other services.Services net sales also include\n",
       "amortization of the deferred value of services bundled in the sales price of certain products.iPhone\n",
       "iPhone net sales decreased during the first quarter of 2023 compared to the same quarter in 2022 due primarily to lower net sales from the Company’ s new\n",
       "iPhone models launched in the fourth quarter of 2022.Mac\n",
       "Mac net sales decreased during the first quarter of 2023 compared to the same quarter in 2022 due primarily to lower net sales of MacBook Pro .iPad\n",
       "iPad net sales increased during the first quarter of 2023 compared to the same quarter in 2022 due primarily to higher net sales of iPad and iPad Air.\n",
       "\n",
       "---\n",
       "\n"
      ],
      "text/plain": [
       "<IPython.core.display.Markdown object>"
      ]
     },
     "metadata": {},
     "output_type": "display_data"
    },
    {
     "data": {
      "text/markdown": [
       "- score: 0.1775\n",
       "- metadata: WeaveDict({'source': '2023 Q3 AAPL.pdf', 'raw_tokens': 10898, 'file_type': 'pdf'})\n",
       "- chunk_number: 27\n",
       "- chunk_id: d4bde8367402ec76fb4ebd18b5078d6d\n",
       "- doc_id: a4d28158d90e45af01c17fa1bf5fe6f9\n",
       "\n",
       "\n",
       "Apple Inc. | Q3 2023 Form 10-Q | 15Products and Services Performance\n",
       "The following table shows net sales by category for the three- and nine-month periods ended July 1, 2023 and June 25, 2022 (dollars in millions):\n",
       "Three Months Ended Nine Months Ended\n",
       "July 1,\n",
       "2023June 25,\n",
       "2022 ChangeJuly 1,\n",
       "2023June 25,\n",
       "2022 Change\n",
       "Net sales by category:\n",
       "iPhone $ 39,669 $ 40,665 (2)%$ 156,778 $ 162,863 (4)%\n",
       "Mac 6,840 7,382 (7)% 21,743 28,669 (24)%\n",
       "iPad 5,791 7,224 (20)% 21,857 22,118 (1)%\n",
       "Wearables, Home and Accessories 8,284 8,084 2 % 30,523 31,591 (3)%\n",
       "Services 21,213 19,604 8 % 62,886 58,941 7 %\n",
       "Total net sales $ 81,797 $ 82,959 (1)%$ 293,787 $ 304,182 (3)%\n",
       "iPhone\n",
       "iPhone net sales decreased during the third quarter and first nine months of 2023 compared to the same periods in 2022 due primarily to lower net sales from\n",
       "certain iPhone models, partially of fset by higher net sales of iPhone 14 Pro models.Mac\n",
       "Mac net sales decreased during the third quarter and first nine months of 2023 compared to the same periods in 2022 due primarily to lower net sales of laptops.iPad\n",
       "iPad net sales decreased during the third quarter of 2023 compared to the third quarter of 2022 due primarily to lower net sales across most iPad models.Year-\n",
       "over-year iPad net sales were relatively flat during the first nine months of 2023.Wearables, Home and Accessories\n",
       "Wearables, Home and Accessories net sales increased during the third quarter of 2023 compare d to the third quarter of 2022 due primarily to higher net sales of\n",
       "Wearables, which includes AirPods , Apple Watch  and Beats  products, partially offset by lower net sales of accessories.\n",
       "\n",
       "---\n",
       "\n"
      ],
      "text/plain": [
       "<IPython.core.display.Markdown object>"
      ]
     },
     "metadata": {},
     "output_type": "display_data"
    },
    {
     "data": {
      "text/markdown": [
       "- score: 0.1719\n",
       "- metadata: WeaveDict({'source': '2023 Q3 AAPL.pdf', 'raw_tokens': 10898, 'file_type': 'pdf'})\n",
       "- chunk_number: 25\n",
       "- chunk_id: 4bfc7956f4762e0779c6874510dbe986\n",
       "- doc_id: a4d28158d90e45af01c17fa1bf5fe6f9\n",
       "\n",
       "\n",
       "Segment Operating Performance\n",
       "The following table shows net sales by reportable segment for the three- and nine-month periods ended July 1, 2023 and June 25, 2022 (dollars in millions):\n",
       "Three Months Ended Nine Months Ended\n",
       "July 1,\n",
       "2023June 25,\n",
       "2022 ChangeJuly 1,\n",
       "2023June 25,\n",
       "2022 Change\n",
       "Net sales by reportable segment:\n",
       "Americas $ 35,383 $ 37,472 (6)%$ 122,445 $ 129,850 (6)%\n",
       "Europe 20,205 19,287 5 % 71,831 72,323 (1)%\n",
       "Greater China 15,758 14,604 8 % 57,475 58,730 (2)%\n",
       "Japan 4,821 5,446 (11)% 18,752 20,277 (8)%\n",
       "Rest of Asia Pacific 5,630 6,150 (8)% 23,284 23,002 1 %\n",
       "Total net sales $ 81,797 $ 82,959 (1)%$ 293,787 $ 304,182 (3)%\n",
       "Americas\n",
       "Americas net sales decreased during the third quarter and first nine months of 2023 compared to the same periods in 2022 due primarily to lower net sales of\n",
       "iPhone and Mac, partially of fset by higher net sales of Services.Europe\n",
       "The weakness in foreign  currencies relative to the U.S. dollar had a net unfavorable year-over-y ear impact on Europe net sales during the third quarter and first\n",
       "nine months  of 2023.During the third quarter of 2023, the Europe net sales increase consiste d primarily of higher net sales of iPhone.During the first nine\n",
       "months of 2023, the Europe net sales decrease consisted primarily of lower net sales of Mac, partially of fset by higher net sales of iPhone.Greater China\n",
       "The weakness in the renminbi relative to the U.S. dollar had an unfavorable year-over-year impact on Greater China net sales during the third quarter and first\n",
       "nine months of 2023.During the third quarter of 2023, the Greater China net sales increase consisted primarily of higher net sales of iPhone.During the first\n",
       "nine months of 2023, the Greater China net sales decrease consisted primarily of lower net sales of iPhone.\n",
       "\n",
       "---\n",
       "\n"
      ],
      "text/plain": [
       "<IPython.core.display.Markdown object>"
      ]
     },
     "metadata": {},
     "output_type": "display_data"
    },
    {
     "data": {
      "text/markdown": [
       "- score: 0.1602\n",
       "- metadata: WeaveDict({'source': '2022 Q3 AAPL.pdf', 'raw_tokens': 11081, 'file_type': 'pdf'})\n",
       "- chunk_number: 25\n",
       "- chunk_id: fed3877be83a64ed1694fddbcf141f7c\n",
       "- doc_id: d526fb0c9708ec6e7103a267f08b9a6a\n",
       "\n",
       "\n",
       "Furth er informat ion regarding the Com pany’ s reportable segments can be found in Part I, Item 1 of this Form 10-Q in the Notes to Condensed\n",
       "Consolidated Financial Statements in Note 9, “Segment Information and Geographic Data.”\n",
       "The following table shows net sales by reportable segment for the three- and nine-month periods ended June 25, 2022 and June 26, 2021 (dollars in millions):\n",
       "Three Months Ended Nine Months Ended\n",
       "June 25,\n",
       "2022June 26,\n",
       "2021 ChangeJune 25,\n",
       "2022June 26,\n",
       "2021 Change\n",
       "Net sales by reportable segment:\n",
       "Americas $ 37,472 $ 35,870 4 %$ 129,850 $ 116,486 11 %\n",
       "Europe 19,287 18,943 2 % 72,323 68,513 6 %\n",
       "Greater China 14,604 14,762 (1)% 58,730 53,803 9 %\n",
       "Japan 5,446 6,464 (16)% 20,277 22,491 (10)%\n",
       "Rest of Asia Pacific 6,150 5,395 14 % 23,002 21,164 9 %\n",
       "Total net sales $ 82,959 $ 81,434 2 %$ 304,182 $ 282,457 8 %\n",
       "Americas\n",
       "Americas net sales increased during the third quarter of 2022 compared to the third quarter of 2021 due primarily to higher net sales of Services and iPhone,\n",
       "partially offset by lower net sales of Mac and Wearables, Home and Accessories.Year-over-ye ar Americas net sales increased during the first nine months of\n",
       "2022 due primarily to higher net sales of iPhone, Services and W earables, Home and Accessories.Europe\n",
       "Europe net sales increas ed during the third quarter of 2022 compared to the third quarter of 2021 due primarily to higher net sales of iPhone, partially offset by\n",
       "lower net sales of Mac.Year-over-year Europe net sales increased during the first nine months of 2022 due primarily to higher net sales of Services and iPhone.The weakness in foreign  currencies relative to the U.S. dollar had a net unfavorable impact on Europe net sales during the third quarter and first nine months of\n",
       "2022.\n",
       "\n",
       "---\n",
       "\n"
      ],
      "text/plain": [
       "<IPython.core.display.Markdown object>"
      ]
     },
     "metadata": {},
     "output_type": "display_data"
    }
   ],
   "source": [
    "# our search engine a very simple class, that first indexes the documents and \n",
    "# then uses the search method to retrieve the top-k results \n",
    "# that are most similar to the query using cosine distance\n",
    "# these are what we call sparse retrieval engines because they are based on the term frequency of the words in the documents\n",
    "# they are more to do with lexical similarity than semantic similarity\n",
    "tfidf_search_engine = await TfidfSearchEngine().fit(document_chunks)\n",
    "\n",
    "# The retriever is a simple wrapper around the search engine that uses the search method\n",
    "# this is mostly for the sake of consistency and to have a common interface for all the retrieval engines\n",
    "class TFIDFRetriever(Retriever):\n",
    "    pass\n",
    "\n",
    "tfidf_retriever = TFIDFRetriever(search_engine=tfidf_search_engine)\n",
    "\n",
    "\n",
    "retrieved_docs = await tfidf_retriever.invoke(query=query, top_k=5)\n",
    "# we can look at the retrieved docs by printing them with the render_doc\n",
    "# basically a fancy print statement with some formatting for the doc content and metadata\n",
    "for doc in retrieved_docs:\n",
    "    render_doc(doc)"
   ]
  },
  {
   "cell_type": "markdown",
   "metadata": {},
   "source": [
    "Note that the `Retriever` class above is inherited from `weave.Model`.\n",
    "\n",
    "A `Model` is a combination of data (which can include configuration, trained model weights, or other information) and code that defines how the model operates. By structuring your code to be compatible with this API, you benefit from a structured way to version your application so you can more systematically keep track of your experiments.\n",
    "\n",
    "To create a model in Weave, you need the following:\n",
    "\n",
    "- a class that inherits from `weave.Model`\n",
    "- type definitions on all attributes\n",
    "- a typed `predict`, `invoke` or `forward` method with `@weave.op` decorator.\n",
    "\n",
    "Imagine `weave.op` to be a drop in replacement for `print` or logging statement.\n",
    "However, it does a lot more than just printing and logging by tracking the inputs and outputs of the function and storing them as Weave objects.\n",
    "In addition to state tracking you also get a nice weave UI to inspect the inputs, outputs, and other metadata.\n",
    "\n",
    "If you have not initialized a weave run by doing `weave.init`, the code will work as it is without any tracking.\n",
    "\n",
    "The `predict` method decorated with `weave.op()` will track the model settings along with the inputs and outputs anytime you call it."
   ]
  },
  {
   "cell_type": "markdown",
   "metadata": {},
   "source": [
    "### Generating a response\n",
    "\n",
    "There are two components of any RAG pipeline - a `Retriever` and a `ResponseGenerator`. Having designed a simple retriever, here we are designing a `SimpleResponseGenerator`.\n",
    "\n",
    "The `SimpleResponseGenerator` takes the user question along with the retrieved context (documents) as inputs and makes a LLM call using the `model` and `prompt` (system prompt). This way the generated answer is grounded on the documentation (our usecase). In this case we are using Cohere's `command-r` model.\n",
    "\n",
    "As earlier, we have wrapped this `SimpleResponseGenerator` class with weave for tracking the inputs and the output.\n",
    "\n",
    "The `ResponseGenerator` also has a `system_prompt` that we pass to the LLM. Consider this to be set of instructions we give to the LLM on what to do with the user's query and the retrieved documents.\n",
    "In practice, the system prompt can be detailed and involved (depending on the usecase) but we are using a very simple prompt here.\n",
    "Later we will iterate on it and show how improving the system prompt improves the quality of the generated response."
   ]
  },
  {
   "cell_type": "code",
   "execution_count": 21,
   "metadata": {},
   "outputs": [
    {
     "name": "stdout",
     "output_type": "stream",
     "text": [
      "🍩 https://wandb.ai/a-sh0ts/rag-workshop-pc-nyc-3/r/call/01948fbc-186a-76d3-b56c-6088f9d5926f\n"
     ]
    },
    {
     "data": {
      "text/markdown": [
       "Apple's total net sales have shown fluctuations over time, as indicated by the provided financial data. For the three-month period ended December 31, 2022, total net sales were $117,154 million, which was a decrease from $123,945 million for the same period in 2021, reflecting a 5% decline. \n",
       "\n",
       "In the following quarters, for the three months ended July 1, 2023, total net sales were reported at $81,797 million, slightly down from $82,959 million in the same period of 2022, which indicates a 1% decrease. Over the nine-month periods, total net sales decreased from $304,182 million in 2022 to $293,787 million in 2023, a decline of 3%.\n",
       "\n",
       "Overall, the trend shows a decrease in total net sales in certain quarters compared to previous years, indicating variability in sales performance across different product categories and time periods."
      ],
      "text/plain": [
       "<IPython.core.display.Markdown object>"
      ]
     },
     "metadata": {},
     "output_type": "display_data"
    }
   ],
   "source": [
    "docs_data = [{\"document\": item[\"text\"]} for item in retrieved_docs]\n",
    "simple_response_generator = SimpleResponseGenerator()\n",
    "response = await simple_response_generator.invoke(\n",
    "    query=query, documents=docs_data\n",
    ")\n",
    "printmd(response[\"choices\"][0][\"message\"][\"content\"])"
   ]
  },
  {
   "cell_type": "markdown",
   "metadata": {},
   "source": [
    "### Bringing everything together\n",
    "\n",
    "Finally, with all the components ready, we can bring everything together into a single pipeline.\n",
    "\n",
    "Here, we define a `weave.Model` class `SimpleRAGPipeline` which combines the steps of retrieval and response generation.\n",
    "\n",
    "We'll define a `invoke` method that takes the user query, retrieves relevant context using the retriever and finally synthesizes a response using the response generator.\n",
    "\n",
    "We'll also define a few convinence methods to format the documents retrieved from the retriever and create a system prompt for the response generator."
   ]
  },
  {
   "cell_type": "code",
   "execution_count": 22,
   "metadata": {},
   "outputs": [
    {
     "name": "stdout",
     "output_type": "stream",
     "text": [
      "🍩 https://wandb.ai/a-sh0ts/rag-workshop-pc-nyc-3/r/call/01948fbc-2957-7f81-8d2d-6fc60f5a44c7\n"
     ]
    },
    {
     "data": {
      "text/markdown": [
       "Based on the provided documents, Apple's total net sales have experienced fluctuations over time. Here are some key points regarding the changes in total net sales:\n",
       "\n",
       "1. **Q3 2022**: Total net sales were $82,959 million, which was an increase from the previous year (Q3 2021) when they were $81,434 million, representing a year-over-year increase of approximately 2%.\n",
       "\n",
       "2. **Q1 2023**: Total net sales decreased to $117,154 million compared to $123,945 million in Q1 2022, showing a decline of about 5%.\n",
       "\n",
       "3. **Q3 2023**: Total net sales slightly decreased to $81,797 million compared to $82,959 million in Q3 2022, reflecting a 1% decrease. However, for the nine-month period ending July 1, 2023, total net sales were $293,787 million, which is down from $304,182 million for the same period in the previous year, indicating a 3% decline.\n",
       "\n",
       "Overall, while there were periods of growth in Apple's total net sales, there have also been declines in certain quarters, particularly when comparing year-over-year figures."
      ],
      "text/plain": [
       "<IPython.core.display.Markdown object>"
      ]
     },
     "metadata": {},
     "output_type": "display_data"
    }
   ],
   "source": [
    "# we are using the SimpleRAGPipeline class to combine the steps of retrieval and response generation\n",
    "\n",
    "class TFIDFRAGPipeline(SimpleRAGPipeline):\n",
    "    pass\n",
    "\n",
    "# Instantiate the pipeline with the retriever and response generator\n",
    "tfidf_rag_pipeline = TFIDFRAGPipeline(\n",
    "    retriever=tfidf_retriever,\n",
    "    generator=simple_response_generator\n",
    ")\n",
    "\n",
    "# Invoke the pipeline with the user query\n",
    "response = await tfidf_rag_pipeline.invoke(query=query,)\n",
    "printmd(response[\"answer\"])"
   ]
  },
  {
   "cell_type": "markdown",
   "metadata": {},
   "source": [
    "## Evaluating the RAG Pipeline\n",
    "\n",
    "Before we starting making further changes to the RAG pipeline, it is a good practice to evaluate the current state of the pipeline\n",
    "This will help us understand the current performance of the pipeline and identify areas of improvement.\n",
    "Think of evaluation as a way to measure the performance of your system - a benchmark to compare the performance of your system against.\n",
    "\n",
    "Evaluating a RAG pipeline is a crucial step in ensuring its robustness and effectiveness.\n",
    "We will evaluate the two main components of a RAG pipeline - retriever and response generator.\n",
    "\n",
    "Evaluating the retriever can be considered component evaluation. \n",
    "Depending on your RAG pipeline, there can be a few components and for ensuring robustness of your system,\n",
    "it is recommended to come up with evaluation for each component.\n",
    "\n",
    "![](./imgs/EvolvingRAG.png)\n"
   ]
  },
  {
   "cell_type": "markdown",
   "metadata": {},
   "source": [
    "### Collecting data for evaluation\n",
    "\n",
    "We are using a subset of the evaluation dataset we had created for wandbot.\n",
    "\n",
    "Learn more about how we created the evaluation dataset here:\n",
    "\n",
    "- [How to Evaluate an LLM, Part 1: Building an Evaluation Dataset for our LLM System](https://wandb.ai/wandbot/wandbot-eval/reports/How-to-Evaluate-an-LLM-Part-1-Building-an-Evaluation-Dataset-for-our-LLM-System--Vmlldzo1NTAwNTcy)\n",
    "- [How to Evaluate an LLM, Part 2: Manual Evaluation of Wandbot, our LLM-Powered Docs Assistant](https://wandb.ai/wandbot/wandbot-eval/reports/How-to-Evaluate-an-LLM-Part-2-Manual-Evaluation-of-Wandbot-our-LLM-Powered-Docs-Assistant--Vmlldzo1NzU4NTM3)\n",
    "\n",
    "The main take away from these reports are:\n",
    "\n",
    "- we first deployed wandbot for internal usage based on rigorous eyeballing based evalution.\n",
    "- the user query distribution was throughly analyzed and clustered. we sampled a good representative queries from these clusters and created a gold standard set of queries.\n",
    "- we then used in-house MLEs to perform manual evaluation using Argilla. Creating such evaluation platforms are easy.\n",
    "- To summarize, speed is the key here. Use whatever means you have to create a meaningful eval set.\n",
    "\n",
    "The evaluation samples are logged as [`weave.Dataset`](https://wandb.github.io/weave/guides/core-types/datasets/). `weave.Dataset` enables you to collect examples for evaluation and automatically track versions for accurate comparisons.\n",
    "\n",
    "Below we will download the latest version locally with a simple API."
   ]
  },
  {
   "cell_type": "code",
   "execution_count": 23,
   "metadata": {},
   "outputs": [
    {
     "name": "stdout",
     "output_type": "stream",
     "text": [
      "Number of evaluation samples:  9\n"
     ]
    }
   ],
   "source": [
    "# here we are downloading the latest version of the dataset from Weave\n",
    "if WORKSHOP_DATASET == \"financebench\":\n",
    "    eval_dataset = weave.ref(\"weave:///a-sh0ts/rag-workshop-pc-nyc-financebench/object/financebench_eval_dataset:9lYVoXzGjqcmd4tiCd4SvwrW3T8pdo9J4wYbgBKDwUc\").get()\n",
    "elif WORKSHOP_DATASET == \"sec-10-q\":\n",
    "    eval_dataset = weave.ref(\"weave:///a-sh0ts/rag-course-finance/object/eval_data:CoQDvdOENbZqkwg7IlhZm33drBCAf9OUNvf8ar6YHzM\").get()\n",
    "\n",
    "print(\"Number of evaluation samples: \", len(eval_dataset.rows))"
   ]
  },
  {
   "cell_type": "markdown",
   "metadata": {},
   "source": [
    "Iterating through each sample is easy.\n",
    "\n",
    "We have the question, ground truth answer and ground truth contexts."
   ]
  },
  {
   "cell_type": "code",
   "execution_count": 24,
   "metadata": {},
   "outputs": [
    {
     "data": {
      "text/plain": [
       "WeaveDict({'question': \"How has Apple's total net sales changed over time?\", 'answer': \"Based on the provided documents, Apple's total net sales have changed over time as follows:\\n\\n- For the quarterly period ended June 25, 2022, the total net sales were $82,959 million. (SOURCE: 2022 Q3 AAPL.pdf)\\n- For the quarterly period ended December 31, 2022, the total net sales were $117,154 million. (SOURCE: 2023 Q1 AAPL.pdf)\\n- For the quarterly period ended April 1, 2023, the total net sales were $94,836 million. (SOURCE: 2023 Q2 AAPL.pdf)\\n- For the quarterly period ended July 1, 2023, the total net sales were $81,797 million. (SOURCE: 2023 Q3 AAPL.pdf)\\n\\nFrom these figures, it can be observed that there was an increase in total net sales from the quarter ended June 25, 2022, to the quarter ended December 31, 2022. However, there was a subsequent decrease in total net sales in the quarters ended April 1, 2023, and July 1, 2023.\\n\\nSOURCE(S): 2022 Q3 AAPL.pdf, 2023 Q1 AAPL.pdf, 2023 Q2 AAPL.pdf, 2023 Q3 AAPL.pdf\", 'source_docs': '*AAPL*', 'question_type': 'Multi-Doc RAG', 'source_chunk_type': 'Table', 'contexts': [{'content': 'Apple Inc. | Q3 2022 Form 10-Q | 1Apple Inc. CONDENSED CONSOLIDATED STATEMENTS OF OPERATIONS (Unaudited) (In millions, except number of shares which are reflected in thousands and per share amounts) Three Months Ended Nine Months Ended June 25, 2022June 26, 2021June 25, 2022June 26, 2021 Net sales: Products $ 63,355 $ 63,948 $ 245,241 $ 232,309 Services 19,604 17,486 58,941 50,148 Total net sales 82,959 81,434 304,182 282,457', 'source': '2022 Q3 AAPL.pdf', 'score': 0.95, 'relevance': 2, 'chunk_index': 2}, {'content': 'Apple Inc. CONDENSED CONSOLIDATED STATEMENTS OF OPERATIONS (Unaudited) (In millions, except number of shares which are reflected in thousands and per share amounts) Three Months Ended Six Months Ended April 1, 2023March 26, 2022April 1, 2023March 26, 2022 Net sales: Products $ 73,929 $ 77,457 $ 170,317 $ 181,886 Services 20,907 19,821 41,673 39,337 Total net sales 94,836 97,278 211,990 221,223', 'source': '2023 Q2 AAPL.pdf', 'score': 0.95, 'relevance': 2, 'chunk_index': 2}, {'content': 'Apple Inc. CONDENSED CONSOLIDATED STATEMENTS OF OPERATIONS (Unaudited) (In millions, except number of shares which are reflected in thousands and per share amounts) Three Months Ended December 31, 2022December 25, 2021 Net sales: Products $ 96,388 $ 104,429 Services 20,766 19,516 Total net sales 117,154 123,945', 'source': '2023 Q1 AAPL.pdf', 'score': 0.95, 'relevance': 2, 'chunk_index': 2}, {'content': 'Three Months Ended Nine Months Ended July 1, 2023June 25, 2022July 1, 2023June 25, 2022 Net sales: Products $ 60,584 $ 63,355 $ 230,901 $ 245,241 Services 21,213 19,604 62,886 58,941 Total net sales 81,797 82,959 293,787 304,182', 'source': '2023 Q3 AAPL.pdf', 'score': 0.95, 'relevance': 2, 'chunk_index': 2}, {'content': 'Based on my knowledge, the financial statements, and other financial information included in this report, fairly present in all material respects the financial condition, results of operations and cash flows of the Registrant as of, and for , the periods presented in this report;', 'source': '2023 Q3 AAPL.pdf', 'score': 0.5, 'relevance': 1, 'chunk_index': 32}]})"
      ]
     },
     "execution_count": 24,
     "metadata": {},
     "output_type": "execute_result"
    }
   ],
   "source": [
    "eval_dataset.rows[0]"
   ]
  },
  {
   "cell_type": "markdown",
   "metadata": {},
   "source": [
    "Again, we'll use W&B Weave for our evaluation purposes.\n",
    "The `weave.Evaluation` class is a light weight class that can be used to evaluate the performance of a `weave.Model` on a `weave.Dataset`.\n",
    "\n",
    "### Evaluating the Retriever\n",
    "\n",
    "The fundamental idea of evaluating a retriever is to check how well the retrieved content matches the expected contents.\n",
    "To evaluate a RAG pipeline, we need query and ground truth answer pairs. \n",
    "The ground truth answer must be grounded on some \"ground\" truth chunks.\n",
    "This is a search problem, it's easiest to start with traditional Information retrieval metrics.\n",
    "\n",
    "\n",
    "\n",
    "You might already have access to such evaluation dataset depending on the nature of your application or you can synthetically build one. \n",
    "To build one you can retrieve random documents/chunks and ask an LLM to generate query-answer pairs - the underlying documents/chunks will act as your ground truth chunk.\n",
    "\n",
    "Here, we will look at different metrics that can be used to evaluate the retriever we built earlier.\n",
    "\n",
    "### Metrics to evaluate retriever\n",
    "\n",
    "We can evaluate a retriever using traditional ML metrics. We can also evaluate it by using a powerful LLM (next section).\n",
    "\n",
    "Below we are importing both traditional metrics and classifier based metric from the [`retrieval_metrics.py`](retrieval_metrics.py) file.\n",
    "\n",
    "* **Hit Rate**: Measures the proportion of queries where the retriever successfully returns at least one relevant document.\n",
    "* **MRR (Mean Reciprocal Rank)**: Evaluates how quickly the retriever returns the first relevant document, based on the reciprocal of its rank.\n",
    "* **NDCG (Normalized Discounted Cumulative Gain)**: Assesses the quality of the ranked retrieval results, giving more importance to relevant documents appearing earlier.\n",
    "* **MAP (Mean Average Precision)**: Computes the mean precision across all relevant documents retrieved, considering the rank of each relevant document.\n",
    "* **Precision**: Measures the ratio of relevant documents retrieved to the total documents retrieved by the retriever.\n",
    "* **Recall**: Evaluates the ratio of relevant documents retrieved to the total relevant documents available for the query.\n",
    "* **F1 Score**: The harmonic mean of precision and recall, providing a balance between both metrics to gauge retriever performance.\n",
    "* **Relevance Score**: A binary score predicted by a pre-trained classifier that measures the relevance of the retrieved documents to the query.\n",
    "\n",
    "We will be using the `RetrievalScorer` class to evaluate the retriever.\n",
    "Each metric expects an `output` which is a list of retrieved chunks from the retriever and `contexts` which is a list of ground truth contexts from the evaluation dataset.\n"
   ]
  },
  {
   "cell_type": "code",
   "execution_count": 25,
   "metadata": {},
   "outputs": [],
   "source": [
    "retrieval_evaluation = weave.Evaluation(\n",
    "    name=\"Retrieval_Evaluation\",\n",
    "    dataset=eval_dataset,\n",
    "    scorers=[RetrievalScorer(name=\"retrieval_scorer\", description=\"Retrieval metrics\")],\n",
    "    preprocess_model_input=lambda x: {\"query\": x[\"question\"], \"top_k\": 5},\n",
    ")"
   ]
  },
  {
   "cell_type": "code",
   "execution_count": 26,
   "metadata": {},
   "outputs": [
    {
     "name": "stderr",
     "output_type": "stream",
     "text": [
      "Compiling the model with `torch.compile` and using a `torch.mps` device is not supported. Falling back to non-compiled mode.\n"
     ]
    },
    {
     "data": {
      "text/html": [
       "<pre style=\"white-space:pre;overflow-x:auto;line-height:normal;font-family:Menlo,'DejaVu Sans Mono',consolas,'Courier New',monospace\">Evaluated <span style=\"color: #008080; text-decoration-color: #008080; font-weight: bold\">1</span> of <span style=\"color: #008080; text-decoration-color: #008080; font-weight: bold\">9</span> examples\n",
       "</pre>\n"
      ],
      "text/plain": [
       "Evaluated \u001b[1;36m1\u001b[0m of \u001b[1;36m9\u001b[0m examples\n"
      ]
     },
     "metadata": {},
     "output_type": "display_data"
    },
    {
     "data": {
      "text/html": [
       "<pre style=\"white-space:pre;overflow-x:auto;line-height:normal;font-family:Menlo,'DejaVu Sans Mono',consolas,'Courier New',monospace\">Evaluated <span style=\"color: #008080; text-decoration-color: #008080; font-weight: bold\">2</span> of <span style=\"color: #008080; text-decoration-color: #008080; font-weight: bold\">9</span> examples\n",
       "</pre>\n"
      ],
      "text/plain": [
       "Evaluated \u001b[1;36m2\u001b[0m of \u001b[1;36m9\u001b[0m examples\n"
      ]
     },
     "metadata": {},
     "output_type": "display_data"
    },
    {
     "data": {
      "text/html": [
       "<pre style=\"white-space:pre;overflow-x:auto;line-height:normal;font-family:Menlo,'DejaVu Sans Mono',consolas,'Courier New',monospace\">Evaluated <span style=\"color: #008080; text-decoration-color: #008080; font-weight: bold\">3</span> of <span style=\"color: #008080; text-decoration-color: #008080; font-weight: bold\">9</span> examples\n",
       "</pre>\n"
      ],
      "text/plain": [
       "Evaluated \u001b[1;36m3\u001b[0m of \u001b[1;36m9\u001b[0m examples\n"
      ]
     },
     "metadata": {},
     "output_type": "display_data"
    },
    {
     "data": {
      "text/html": [
       "<pre style=\"white-space:pre;overflow-x:auto;line-height:normal;font-family:Menlo,'DejaVu Sans Mono',consolas,'Courier New',monospace\">Evaluated <span style=\"color: #008080; text-decoration-color: #008080; font-weight: bold\">4</span> of <span style=\"color: #008080; text-decoration-color: #008080; font-weight: bold\">9</span> examples\n",
       "</pre>\n"
      ],
      "text/plain": [
       "Evaluated \u001b[1;36m4\u001b[0m of \u001b[1;36m9\u001b[0m examples\n"
      ]
     },
     "metadata": {},
     "output_type": "display_data"
    },
    {
     "data": {
      "text/html": [
       "<pre style=\"white-space:pre;overflow-x:auto;line-height:normal;font-family:Menlo,'DejaVu Sans Mono',consolas,'Courier New',monospace\">Evaluated <span style=\"color: #008080; text-decoration-color: #008080; font-weight: bold\">5</span> of <span style=\"color: #008080; text-decoration-color: #008080; font-weight: bold\">9</span> examples\n",
       "</pre>\n"
      ],
      "text/plain": [
       "Evaluated \u001b[1;36m5\u001b[0m of \u001b[1;36m9\u001b[0m examples\n"
      ]
     },
     "metadata": {},
     "output_type": "display_data"
    },
    {
     "data": {
      "text/html": [
       "<pre style=\"white-space:pre;overflow-x:auto;line-height:normal;font-family:Menlo,'DejaVu Sans Mono',consolas,'Courier New',monospace\">Evaluated <span style=\"color: #008080; text-decoration-color: #008080; font-weight: bold\">6</span> of <span style=\"color: #008080; text-decoration-color: #008080; font-weight: bold\">9</span> examples\n",
       "</pre>\n"
      ],
      "text/plain": [
       "Evaluated \u001b[1;36m6\u001b[0m of \u001b[1;36m9\u001b[0m examples\n"
      ]
     },
     "metadata": {},
     "output_type": "display_data"
    },
    {
     "data": {
      "text/html": [
       "<pre style=\"white-space:pre;overflow-x:auto;line-height:normal;font-family:Menlo,'DejaVu Sans Mono',consolas,'Courier New',monospace\">Evaluated <span style=\"color: #008080; text-decoration-color: #008080; font-weight: bold\">7</span> of <span style=\"color: #008080; text-decoration-color: #008080; font-weight: bold\">9</span> examples\n",
       "</pre>\n"
      ],
      "text/plain": [
       "Evaluated \u001b[1;36m7\u001b[0m of \u001b[1;36m9\u001b[0m examples\n"
      ]
     },
     "metadata": {},
     "output_type": "display_data"
    },
    {
     "data": {
      "text/html": [
       "<pre style=\"white-space:pre;overflow-x:auto;line-height:normal;font-family:Menlo,'DejaVu Sans Mono',consolas,'Courier New',monospace\">Evaluated <span style=\"color: #008080; text-decoration-color: #008080; font-weight: bold\">8</span> of <span style=\"color: #008080; text-decoration-color: #008080; font-weight: bold\">9</span> examples\n",
       "</pre>\n"
      ],
      "text/plain": [
       "Evaluated \u001b[1;36m8\u001b[0m of \u001b[1;36m9\u001b[0m examples\n"
      ]
     },
     "metadata": {},
     "output_type": "display_data"
    },
    {
     "data": {
      "text/html": [
       "<pre style=\"white-space:pre;overflow-x:auto;line-height:normal;font-family:Menlo,'DejaVu Sans Mono',consolas,'Courier New',monospace\">Evaluated <span style=\"color: #008080; text-decoration-color: #008080; font-weight: bold\">9</span> of <span style=\"color: #008080; text-decoration-color: #008080; font-weight: bold\">9</span> examples\n",
       "</pre>\n"
      ],
      "text/plain": [
       "Evaluated \u001b[1;36m9\u001b[0m of \u001b[1;36m9\u001b[0m examples\n"
      ]
     },
     "metadata": {},
     "output_type": "display_data"
    },
    {
     "data": {
      "text/html": [
       "<pre style=\"white-space:pre;overflow-x:auto;line-height:normal;font-family:Menlo,'DejaVu Sans Mono',consolas,'Courier New',monospace\">Evaluation summary\n",
       "<span style=\"font-weight: bold\">{</span>\n",
       "    <span style=\"color: #008000; text-decoration-color: #008000\">'retrieval_scorer'</span>: <span style=\"font-weight: bold\">{</span>\n",
       "        <span style=\"color: #008000; text-decoration-color: #008000\">'precision'</span>: <span style=\"font-weight: bold\">{</span><span style=\"color: #008000; text-decoration-color: #008000\">'mean'</span>: <span style=\"color: #008080; text-decoration-color: #008080; font-weight: bold\">0.4740740740740741</span><span style=\"font-weight: bold\">}</span>,\n",
       "        <span style=\"color: #008000; text-decoration-color: #008000\">'hit_rate'</span>: <span style=\"font-weight: bold\">{</span><span style=\"color: #008000; text-decoration-color: #008000\">'mean'</span>: <span style=\"color: #008080; text-decoration-color: #008080; font-weight: bold\">0.4666666666666667</span><span style=\"font-weight: bold\">}</span>,\n",
       "        <span style=\"color: #008000; text-decoration-color: #008000\">'map'</span>: <span style=\"font-weight: bold\">{</span><span style=\"color: #008000; text-decoration-color: #008000\">'mean'</span>: <span style=\"color: #008080; text-decoration-color: #008080; font-weight: bold\">0.5819444444444444</span><span style=\"font-weight: bold\">}</span>,\n",
       "        <span style=\"color: #008000; text-decoration-color: #008000\">'relevance'</span>: <span style=\"font-weight: bold\">{</span><span style=\"color: #008000; text-decoration-color: #008000\">'mean'</span>: <span style=\"color: #008080; text-decoration-color: #008080; font-weight: bold\">0.0</span><span style=\"font-weight: bold\">}</span>,\n",
       "        <span style=\"color: #008000; text-decoration-color: #008000\">'relevance_score'</span>: <span style=\"font-weight: bold\">{</span><span style=\"color: #008000; text-decoration-color: #008000\">'mean'</span>: <span style=\"color: #008080; text-decoration-color: #008080; font-weight: bold\">0.25402222222222215</span><span style=\"font-weight: bold\">}</span>,\n",
       "        <span style=\"color: #008000; text-decoration-color: #008000\">'mrr'</span>: <span style=\"font-weight: bold\">{</span><span style=\"color: #008000; text-decoration-color: #008000\">'mean'</span>: <span style=\"color: #008080; text-decoration-color: #008080; font-weight: bold\">0.21222222222222223</span><span style=\"font-weight: bold\">}</span>,\n",
       "        <span style=\"color: #008000; text-decoration-color: #008000\">'ndcg'</span>: <span style=\"font-weight: bold\">{</span><span style=\"color: #008000; text-decoration-color: #008000\">'mean'</span>: <span style=\"color: #008080; text-decoration-color: #008080; font-weight: bold\">0.4775712605563381</span><span style=\"font-weight: bold\">}</span>,\n",
       "        <span style=\"color: #008000; text-decoration-color: #008000\">'f1_score'</span>: <span style=\"font-weight: bold\">{</span><span style=\"color: #008000; text-decoration-color: #008000\">'mean'</span>: <span style=\"color: #008080; text-decoration-color: #008080; font-weight: bold\">0.4645502645502645</span><span style=\"font-weight: bold\">}</span>,\n",
       "        <span style=\"color: #008000; text-decoration-color: #008000\">'recall'</span>: <span style=\"font-weight: bold\">{</span><span style=\"color: #008000; text-decoration-color: #008000\">'mean'</span>: <span style=\"color: #008080; text-decoration-color: #008080; font-weight: bold\">0.4722222222222222</span><span style=\"font-weight: bold\">}</span>\n",
       "    <span style=\"font-weight: bold\">}</span>,\n",
       "    <span style=\"color: #008000; text-decoration-color: #008000\">'model_latency'</span>: <span style=\"font-weight: bold\">{</span><span style=\"color: #008000; text-decoration-color: #008000\">'mean'</span>: <span style=\"color: #008080; text-decoration-color: #008080; font-weight: bold\">0.09644577238294813</span><span style=\"font-weight: bold\">}</span>\n",
       "<span style=\"font-weight: bold\">}</span>\n",
       "</pre>\n"
      ],
      "text/plain": [
       "Evaluation summary\n",
       "\u001b[1m{\u001b[0m\n",
       "    \u001b[32m'retrieval_scorer'\u001b[0m: \u001b[1m{\u001b[0m\n",
       "        \u001b[32m'precision'\u001b[0m: \u001b[1m{\u001b[0m\u001b[32m'mean'\u001b[0m: \u001b[1;36m0.4740740740740741\u001b[0m\u001b[1m}\u001b[0m,\n",
       "        \u001b[32m'hit_rate'\u001b[0m: \u001b[1m{\u001b[0m\u001b[32m'mean'\u001b[0m: \u001b[1;36m0.4666666666666667\u001b[0m\u001b[1m}\u001b[0m,\n",
       "        \u001b[32m'map'\u001b[0m: \u001b[1m{\u001b[0m\u001b[32m'mean'\u001b[0m: \u001b[1;36m0.5819444444444444\u001b[0m\u001b[1m}\u001b[0m,\n",
       "        \u001b[32m'relevance'\u001b[0m: \u001b[1m{\u001b[0m\u001b[32m'mean'\u001b[0m: \u001b[1;36m0.0\u001b[0m\u001b[1m}\u001b[0m,\n",
       "        \u001b[32m'relevance_score'\u001b[0m: \u001b[1m{\u001b[0m\u001b[32m'mean'\u001b[0m: \u001b[1;36m0.25402222222222215\u001b[0m\u001b[1m}\u001b[0m,\n",
       "        \u001b[32m'mrr'\u001b[0m: \u001b[1m{\u001b[0m\u001b[32m'mean'\u001b[0m: \u001b[1;36m0.21222222222222223\u001b[0m\u001b[1m}\u001b[0m,\n",
       "        \u001b[32m'ndcg'\u001b[0m: \u001b[1m{\u001b[0m\u001b[32m'mean'\u001b[0m: \u001b[1;36m0.4775712605563381\u001b[0m\u001b[1m}\u001b[0m,\n",
       "        \u001b[32m'f1_score'\u001b[0m: \u001b[1m{\u001b[0m\u001b[32m'mean'\u001b[0m: \u001b[1;36m0.4645502645502645\u001b[0m\u001b[1m}\u001b[0m,\n",
       "        \u001b[32m'recall'\u001b[0m: \u001b[1m{\u001b[0m\u001b[32m'mean'\u001b[0m: \u001b[1;36m0.4722222222222222\u001b[0m\u001b[1m}\u001b[0m\n",
       "    \u001b[1m}\u001b[0m,\n",
       "    \u001b[32m'model_latency'\u001b[0m: \u001b[1m{\u001b[0m\u001b[32m'mean'\u001b[0m: \u001b[1;36m0.09644577238294813\u001b[0m\u001b[1m}\u001b[0m\n",
       "\u001b[1m}\u001b[0m\n"
      ]
     },
     "metadata": {},
     "output_type": "display_data"
    },
    {
     "name": "stdout",
     "output_type": "stream",
     "text": [
      "🍩 https://wandb.ai/a-sh0ts/rag-workshop-pc-nyc-3/r/call/01948fbc-3e3f-7270-9cf7-f7f021a47174\n"
     ]
    }
   ],
   "source": [
    "tfidf_retrieval_scores = await retrieval_evaluation.evaluate(\n",
    "    model=tfidf_retriever,\n",
    "    __weave={\"display_name\": \"TFIDF Retrieval\"}\n",
    ")\n"
   ]
  },
  {
   "cell_type": "markdown",
   "metadata": {},
   "source": [
    "### Evaluating the Response Generation\n",
    "\n",
    "Evaluating the generated response is a bit more complex. Although we have some ground truth answers, they are not directly comparable to the generated response. This could be due to a few reasons:\n",
    "\n",
    "- The generated response might be a paraphrased version of the ground truth answer.\n",
    "- The generated response might be a more detailed version of the ground truth answer.\n",
    "- The generated response might be a more concise version of the ground truth answer.\n",
    "- The generated response might be a more structured version of the ground truth answer.\n",
    "\n",
    "\n",
    "Some of these metrics are based on the distance between the generated response and the ground truth answer.\n",
    "- **Diff Score**: compute the similarity ratio between the normalized model output and the expected answer.\n",
    "- **Levenshtein Score**: compute the Levenshtein ratio between the normalized model output and the answer.\n",
    "- **ROUGE Score**: compute the ROUGE-L F1 score between the normalized model output and the reference answer.\n",
    "- **BLEU Score**: compute the BLEU score between the normalized model output and the reference answer.\n",
    "- **METEOR Score**: compute the METEOR score between the normalized model output and the reference answer.\n",
    "- **Correctness Score**: a binary score predicted by a pre-trained classifier that measures the correctness of the generated response.\n",
    "- **Helpfulness Score**: a binary score predicted by a pre-trained classifier that measures the helpfulness of the generated response.\n",
    "- **Relevance Score**: a binary score predicted by a pre-trained classifier that measures the relevance of the generated response to the query.\n",
    "\n",
    "While these metrics are not perfect, they provide a good north star for evaluating the response generation and can be used to compare the performance of the response generation model.\n",
    "\n",
    "We will be using the `ResponseScorer` class to evaluate the response generation.\n",
    "Each metric expects an `output` containing the generated response and the ground truth `answer`."
   ]
  },
  {
   "cell_type": "code",
   "execution_count": 27,
   "metadata": {},
   "outputs": [],
   "source": [
    "# Again, we are using the `weave.Evaluation` class to evaluate the response generation.\n",
    "response_evaluation = weave.Evaluation(\n",
    "    name=\"Response_Evaluation\",\n",
    "    dataset=eval_dataset,\n",
    "    scorers=[ResponseScorer(name=\"response_scorer\", description=\"Response metrics\")],\n",
    "    preprocess_model_input=lambda x: {\"query\": x[\"question\"]},\n",
    ")\n"
   ]
  },
  {
   "cell_type": "code",
   "execution_count": 28,
   "metadata": {},
   "outputs": [
    {
     "data": {
      "text/html": [
       "<pre style=\"white-space:pre;overflow-x:auto;line-height:normal;font-family:Menlo,'DejaVu Sans Mono',consolas,'Courier New',monospace\">Evaluated <span style=\"color: #008080; text-decoration-color: #008080; font-weight: bold\">1</span> of <span style=\"color: #008080; text-decoration-color: #008080; font-weight: bold\">9</span> examples\n",
       "</pre>\n"
      ],
      "text/plain": [
       "Evaluated \u001b[1;36m1\u001b[0m of \u001b[1;36m9\u001b[0m examples\n"
      ]
     },
     "metadata": {},
     "output_type": "display_data"
    },
    {
     "data": {
      "text/html": [
       "<pre style=\"white-space:pre;overflow-x:auto;line-height:normal;font-family:Menlo,'DejaVu Sans Mono',consolas,'Courier New',monospace\">Evaluated <span style=\"color: #008080; text-decoration-color: #008080; font-weight: bold\">2</span> of <span style=\"color: #008080; text-decoration-color: #008080; font-weight: bold\">9</span> examples\n",
       "</pre>\n"
      ],
      "text/plain": [
       "Evaluated \u001b[1;36m2\u001b[0m of \u001b[1;36m9\u001b[0m examples\n"
      ]
     },
     "metadata": {},
     "output_type": "display_data"
    },
    {
     "data": {
      "text/html": [
       "<pre style=\"white-space:pre;overflow-x:auto;line-height:normal;font-family:Menlo,'DejaVu Sans Mono',consolas,'Courier New',monospace\">Evaluated <span style=\"color: #008080; text-decoration-color: #008080; font-weight: bold\">3</span> of <span style=\"color: #008080; text-decoration-color: #008080; font-weight: bold\">9</span> examples\n",
       "</pre>\n"
      ],
      "text/plain": [
       "Evaluated \u001b[1;36m3\u001b[0m of \u001b[1;36m9\u001b[0m examples\n"
      ]
     },
     "metadata": {},
     "output_type": "display_data"
    },
    {
     "data": {
      "text/html": [
       "<pre style=\"white-space:pre;overflow-x:auto;line-height:normal;font-family:Menlo,'DejaVu Sans Mono',consolas,'Courier New',monospace\">Evaluated <span style=\"color: #008080; text-decoration-color: #008080; font-weight: bold\">4</span> of <span style=\"color: #008080; text-decoration-color: #008080; font-weight: bold\">9</span> examples\n",
       "</pre>\n"
      ],
      "text/plain": [
       "Evaluated \u001b[1;36m4\u001b[0m of \u001b[1;36m9\u001b[0m examples\n"
      ]
     },
     "metadata": {},
     "output_type": "display_data"
    },
    {
     "data": {
      "text/html": [
       "<pre style=\"white-space:pre;overflow-x:auto;line-height:normal;font-family:Menlo,'DejaVu Sans Mono',consolas,'Courier New',monospace\">Evaluated <span style=\"color: #008080; text-decoration-color: #008080; font-weight: bold\">5</span> of <span style=\"color: #008080; text-decoration-color: #008080; font-weight: bold\">9</span> examples\n",
       "</pre>\n"
      ],
      "text/plain": [
       "Evaluated \u001b[1;36m5\u001b[0m of \u001b[1;36m9\u001b[0m examples\n"
      ]
     },
     "metadata": {},
     "output_type": "display_data"
    },
    {
     "data": {
      "text/html": [
       "<pre style=\"white-space:pre;overflow-x:auto;line-height:normal;font-family:Menlo,'DejaVu Sans Mono',consolas,'Courier New',monospace\">Evaluated <span style=\"color: #008080; text-decoration-color: #008080; font-weight: bold\">6</span> of <span style=\"color: #008080; text-decoration-color: #008080; font-weight: bold\">9</span> examples\n",
       "</pre>\n"
      ],
      "text/plain": [
       "Evaluated \u001b[1;36m6\u001b[0m of \u001b[1;36m9\u001b[0m examples\n"
      ]
     },
     "metadata": {},
     "output_type": "display_data"
    },
    {
     "data": {
      "text/html": [
       "<pre style=\"white-space:pre;overflow-x:auto;line-height:normal;font-family:Menlo,'DejaVu Sans Mono',consolas,'Courier New',monospace\">Evaluated <span style=\"color: #008080; text-decoration-color: #008080; font-weight: bold\">7</span> of <span style=\"color: #008080; text-decoration-color: #008080; font-weight: bold\">9</span> examples\n",
       "</pre>\n"
      ],
      "text/plain": [
       "Evaluated \u001b[1;36m7\u001b[0m of \u001b[1;36m9\u001b[0m examples\n"
      ]
     },
     "metadata": {},
     "output_type": "display_data"
    },
    {
     "data": {
      "text/html": [
       "<pre style=\"white-space:pre;overflow-x:auto;line-height:normal;font-family:Menlo,'DejaVu Sans Mono',consolas,'Courier New',monospace\">Evaluated <span style=\"color: #008080; text-decoration-color: #008080; font-weight: bold\">8</span> of <span style=\"color: #008080; text-decoration-color: #008080; font-weight: bold\">9</span> examples\n",
       "</pre>\n"
      ],
      "text/plain": [
       "Evaluated \u001b[1;36m8\u001b[0m of \u001b[1;36m9\u001b[0m examples\n"
      ]
     },
     "metadata": {},
     "output_type": "display_data"
    },
    {
     "data": {
      "text/html": [
       "<pre style=\"white-space:pre;overflow-x:auto;line-height:normal;font-family:Menlo,'DejaVu Sans Mono',consolas,'Courier New',monospace\">Evaluated <span style=\"color: #008080; text-decoration-color: #008080; font-weight: bold\">9</span> of <span style=\"color: #008080; text-decoration-color: #008080; font-weight: bold\">9</span> examples\n",
       "</pre>\n"
      ],
      "text/plain": [
       "Evaluated \u001b[1;36m9\u001b[0m of \u001b[1;36m9\u001b[0m examples\n"
      ]
     },
     "metadata": {},
     "output_type": "display_data"
    },
    {
     "data": {
      "text/html": [
       "<pre style=\"white-space:pre;overflow-x:auto;line-height:normal;font-family:Menlo,'DejaVu Sans Mono',consolas,'Courier New',monospace\">Evaluation summary\n",
       "<span style=\"font-weight: bold\">{</span>\n",
       "    <span style=\"color: #008000; text-decoration-color: #008000\">'response_scorer'</span>: <span style=\"font-weight: bold\">{</span>\n",
       "        <span style=\"color: #008000; text-decoration-color: #008000\">'levenshtein'</span>: <span style=\"font-weight: bold\">{</span><span style=\"color: #008000; text-decoration-color: #008000\">'mean'</span>: <span style=\"color: #008080; text-decoration-color: #008080; font-weight: bold\">0.4786544443961286</span><span style=\"font-weight: bold\">}</span>,\n",
       "        <span style=\"color: #008000; text-decoration-color: #008000\">'rouge'</span>: <span style=\"font-weight: bold\">{</span><span style=\"color: #008000; text-decoration-color: #008000\">'mean'</span>: <span style=\"color: #008080; text-decoration-color: #008080; font-weight: bold\">0.27619175049180633</span><span style=\"font-weight: bold\">}</span>,\n",
       "        <span style=\"color: #008000; text-decoration-color: #008000\">'correctness'</span>: <span style=\"font-weight: bold\">{</span>\n",
       "            <span style=\"color: #008000; text-decoration-color: #008000\">'correct'</span>: <span style=\"font-weight: bold\">{</span><span style=\"color: #008000; text-decoration-color: #008000\">'true_count'</span>: <span style=\"color: #008080; text-decoration-color: #008080; font-weight: bold\">4</span>, <span style=\"color: #008000; text-decoration-color: #008000\">'true_fraction'</span>: <span style=\"color: #008080; text-decoration-color: #008080; font-weight: bold\">0.4444444444444444</span><span style=\"font-weight: bold\">}</span>,\n",
       "            <span style=\"color: #008000; text-decoration-color: #008000\">'extras'</span>: <span style=\"font-weight: bold\">{</span><span style=\"color: #008000; text-decoration-color: #008000\">'label'</span>: <span style=\"font-weight: bold\">{</span><span style=\"color: #008000; text-decoration-color: #008000\">'mean'</span>: <span style=\"color: #008080; text-decoration-color: #008080; font-weight: bold\">0.4444444444444444</span><span style=\"font-weight: bold\">}</span>, <span style=\"color: #008000; text-decoration-color: #008000\">'score'</span>: <span style=\"font-weight: bold\">{</span><span style=\"color: #008000; text-decoration-color: #008000\">'mean'</span>: <span style=\"color: #008080; text-decoration-color: #008080; font-weight: bold\">0.5839604271782769</span><span style=\"font-weight: bold\">}}</span>\n",
       "        <span style=\"font-weight: bold\">}</span>,\n",
       "        <span style=\"color: #008000; text-decoration-color: #008000\">'helpfulness'</span>: <span style=\"font-weight: bold\">{</span>\n",
       "            <span style=\"color: #008000; text-decoration-color: #008000\">'helpful'</span>: <span style=\"font-weight: bold\">{</span><span style=\"color: #008000; text-decoration-color: #008000\">'true_count'</span>: <span style=\"color: #008080; text-decoration-color: #008080; font-weight: bold\">6</span>, <span style=\"color: #008000; text-decoration-color: #008000\">'true_fraction'</span>: <span style=\"color: #008080; text-decoration-color: #008080; font-weight: bold\">0.6666666666666666</span><span style=\"font-weight: bold\">}</span>,\n",
       "            <span style=\"color: #008000; text-decoration-color: #008000\">'extras'</span>: <span style=\"font-weight: bold\">{</span><span style=\"color: #008000; text-decoration-color: #008000\">'label'</span>: <span style=\"font-weight: bold\">{</span><span style=\"color: #008000; text-decoration-color: #008000\">'mean'</span>: <span style=\"color: #008080; text-decoration-color: #008080; font-weight: bold\">0.6666666666666666</span><span style=\"font-weight: bold\">}</span>, <span style=\"color: #008000; text-decoration-color: #008000\">'score'</span>: <span style=\"font-weight: bold\">{</span><span style=\"color: #008000; text-decoration-color: #008000\">'mean'</span>: <span style=\"color: #008080; text-decoration-color: #008080; font-weight: bold\">0.7262296080589294</span><span style=\"font-weight: bold\">}}</span>\n",
       "        <span style=\"font-weight: bold\">}</span>,\n",
       "        <span style=\"color: #008000; text-decoration-color: #008000\">'bleu'</span>: <span style=\"font-weight: bold\">{</span><span style=\"color: #008000; text-decoration-color: #008000\">'mean'</span>: <span style=\"color: #008080; text-decoration-color: #008080; font-weight: bold\">0.1082992182370372</span><span style=\"font-weight: bold\">}</span>,\n",
       "        <span style=\"color: #008000; text-decoration-color: #008000\">'relevance'</span>: <span style=\"font-weight: bold\">{</span>\n",
       "            <span style=\"color: #008000; text-decoration-color: #008000\">'extras'</span>: <span style=\"font-weight: bold\">{</span><span style=\"color: #008000; text-decoration-color: #008000\">'label'</span>: <span style=\"font-weight: bold\">{</span><span style=\"color: #008000; text-decoration-color: #008000\">'mean'</span>: <span style=\"color: #008080; text-decoration-color: #008080; font-weight: bold\">0.6666666666666666</span><span style=\"font-weight: bold\">}</span>, <span style=\"color: #008000; text-decoration-color: #008000\">'score'</span>: <span style=\"font-weight: bold\">{</span><span style=\"color: #008000; text-decoration-color: #008000\">'mean'</span>: <span style=\"color: #008080; text-decoration-color: #008080; font-weight: bold\">0.7022299104266696</span><span style=\"font-weight: bold\">}}</span>,\n",
       "            <span style=\"color: #008000; text-decoration-color: #008000\">'relevant'</span>: <span style=\"font-weight: bold\">{</span><span style=\"color: #008000; text-decoration-color: #008000\">'true_count'</span>: <span style=\"color: #008080; text-decoration-color: #008080; font-weight: bold\">6</span>, <span style=\"color: #008000; text-decoration-color: #008000\">'true_fraction'</span>: <span style=\"color: #008080; text-decoration-color: #008080; font-weight: bold\">0.6666666666666666</span><span style=\"font-weight: bold\">}</span>\n",
       "        <span style=\"font-weight: bold\">}</span>,\n",
       "        <span style=\"color: #008000; text-decoration-color: #008000\">'diff'</span>: <span style=\"font-weight: bold\">{</span><span style=\"color: #008000; text-decoration-color: #008000\">'mean'</span>: <span style=\"color: #008080; text-decoration-color: #008080; font-weight: bold\">0.08479422258454458</span><span style=\"font-weight: bold\">}</span>,\n",
       "        <span style=\"color: #008000; text-decoration-color: #008000\">'meteor'</span>: <span style=\"font-weight: bold\">{</span><span style=\"color: #008000; text-decoration-color: #008000\">'mean'</span>: <span style=\"color: #008080; text-decoration-color: #008080; font-weight: bold\">0.29596666666666666</span><span style=\"font-weight: bold\">}</span>\n",
       "    <span style=\"font-weight: bold\">}</span>,\n",
       "    <span style=\"color: #008000; text-decoration-color: #008000\">'model_latency'</span>: <span style=\"font-weight: bold\">{</span><span style=\"color: #008000; text-decoration-color: #008000\">'mean'</span>: <span style=\"color: #008080; text-decoration-color: #008080; font-weight: bold\">3.429615709516737</span><span style=\"font-weight: bold\">}</span>\n",
       "<span style=\"font-weight: bold\">}</span>\n",
       "</pre>\n"
      ],
      "text/plain": [
       "Evaluation summary\n",
       "\u001b[1m{\u001b[0m\n",
       "    \u001b[32m'response_scorer'\u001b[0m: \u001b[1m{\u001b[0m\n",
       "        \u001b[32m'levenshtein'\u001b[0m: \u001b[1m{\u001b[0m\u001b[32m'mean'\u001b[0m: \u001b[1;36m0.4786544443961286\u001b[0m\u001b[1m}\u001b[0m,\n",
       "        \u001b[32m'rouge'\u001b[0m: \u001b[1m{\u001b[0m\u001b[32m'mean'\u001b[0m: \u001b[1;36m0.27619175049180633\u001b[0m\u001b[1m}\u001b[0m,\n",
       "        \u001b[32m'correctness'\u001b[0m: \u001b[1m{\u001b[0m\n",
       "            \u001b[32m'correct'\u001b[0m: \u001b[1m{\u001b[0m\u001b[32m'true_count'\u001b[0m: \u001b[1;36m4\u001b[0m, \u001b[32m'true_fraction'\u001b[0m: \u001b[1;36m0.4444444444444444\u001b[0m\u001b[1m}\u001b[0m,\n",
       "            \u001b[32m'extras'\u001b[0m: \u001b[1m{\u001b[0m\u001b[32m'label'\u001b[0m: \u001b[1m{\u001b[0m\u001b[32m'mean'\u001b[0m: \u001b[1;36m0.4444444444444444\u001b[0m\u001b[1m}\u001b[0m, \u001b[32m'score'\u001b[0m: \u001b[1m{\u001b[0m\u001b[32m'mean'\u001b[0m: \u001b[1;36m0.5839604271782769\u001b[0m\u001b[1m}\u001b[0m\u001b[1m}\u001b[0m\n",
       "        \u001b[1m}\u001b[0m,\n",
       "        \u001b[32m'helpfulness'\u001b[0m: \u001b[1m{\u001b[0m\n",
       "            \u001b[32m'helpful'\u001b[0m: \u001b[1m{\u001b[0m\u001b[32m'true_count'\u001b[0m: \u001b[1;36m6\u001b[0m, \u001b[32m'true_fraction'\u001b[0m: \u001b[1;36m0.6666666666666666\u001b[0m\u001b[1m}\u001b[0m,\n",
       "            \u001b[32m'extras'\u001b[0m: \u001b[1m{\u001b[0m\u001b[32m'label'\u001b[0m: \u001b[1m{\u001b[0m\u001b[32m'mean'\u001b[0m: \u001b[1;36m0.6666666666666666\u001b[0m\u001b[1m}\u001b[0m, \u001b[32m'score'\u001b[0m: \u001b[1m{\u001b[0m\u001b[32m'mean'\u001b[0m: \u001b[1;36m0.7262296080589294\u001b[0m\u001b[1m}\u001b[0m\u001b[1m}\u001b[0m\n",
       "        \u001b[1m}\u001b[0m,\n",
       "        \u001b[32m'bleu'\u001b[0m: \u001b[1m{\u001b[0m\u001b[32m'mean'\u001b[0m: \u001b[1;36m0.1082992182370372\u001b[0m\u001b[1m}\u001b[0m,\n",
       "        \u001b[32m'relevance'\u001b[0m: \u001b[1m{\u001b[0m\n",
       "            \u001b[32m'extras'\u001b[0m: \u001b[1m{\u001b[0m\u001b[32m'label'\u001b[0m: \u001b[1m{\u001b[0m\u001b[32m'mean'\u001b[0m: \u001b[1;36m0.6666666666666666\u001b[0m\u001b[1m}\u001b[0m, \u001b[32m'score'\u001b[0m: \u001b[1m{\u001b[0m\u001b[32m'mean'\u001b[0m: \u001b[1;36m0.7022299104266696\u001b[0m\u001b[1m}\u001b[0m\u001b[1m}\u001b[0m,\n",
       "            \u001b[32m'relevant'\u001b[0m: \u001b[1m{\u001b[0m\u001b[32m'true_count'\u001b[0m: \u001b[1;36m6\u001b[0m, \u001b[32m'true_fraction'\u001b[0m: \u001b[1;36m0.6666666666666666\u001b[0m\u001b[1m}\u001b[0m\n",
       "        \u001b[1m}\u001b[0m,\n",
       "        \u001b[32m'diff'\u001b[0m: \u001b[1m{\u001b[0m\u001b[32m'mean'\u001b[0m: \u001b[1;36m0.08479422258454458\u001b[0m\u001b[1m}\u001b[0m,\n",
       "        \u001b[32m'meteor'\u001b[0m: \u001b[1m{\u001b[0m\u001b[32m'mean'\u001b[0m: \u001b[1;36m0.29596666666666666\u001b[0m\u001b[1m}\u001b[0m\n",
       "    \u001b[1m}\u001b[0m,\n",
       "    \u001b[32m'model_latency'\u001b[0m: \u001b[1m{\u001b[0m\u001b[32m'mean'\u001b[0m: \u001b[1;36m3.429615709516737\u001b[0m\u001b[1m}\u001b[0m\n",
       "\u001b[1m}\u001b[0m\n"
      ]
     },
     "metadata": {},
     "output_type": "display_data"
    },
    {
     "name": "stdout",
     "output_type": "stream",
     "text": [
      "🍩 https://wandb.ai/a-sh0ts/rag-workshop-pc-nyc-3/r/call/01948fbc-62ec-7fc1-a221-091d295a1ecf\n"
     ]
    }
   ],
   "source": [
    "tfidf_response_scores = await response_evaluation.evaluate(\n",
    "    model=tfidf_rag_pipeline,\n",
    "    __weave={\"display_name\": \"TFIDF RAG Pipeline\"}\n",
    ")"
   ]
  },
  {
   "cell_type": "markdown",
   "metadata": {},
   "source": [
    "## Improving the RAG Pipeline\n",
    "\n",
    "One of the most common ways to improve the performance of a RAG pipeline is to use a better retrieval algorithm. It is the low hanging fruit and often the first thing to try. This is because the retrieval step is one of the most important steps in a RAG pipeline. With a good retrieval algorithm, we can retrieve more relevant documents and improve the quality and relevance of the generated response."
   ]
  },
  {
   "cell_type": "markdown",
   "metadata": {},
   "source": [
    "### Using BM25 for Retrieval\n",
    "\n",
    "BM25 is a popular retrieval algorithm that uses the term frequency of the words in the documents to retrieve the most relevant documents. \n",
    "Many production IR systems use BM25.\n",
    "\n",
    "For instance Elasticsearch uses BM25 as its default retrieval algorithm. \n",
    "It's a simple algorithm that is easy to implement and has been shown to be effective in many cases.\n",
    "Although it doesn't perform semantic search, it's a good starting point for improving the retrieval step.\n",
    "You'll be suprised how much it alone can improve the performance of the RAG pipeline.\n",
    "\n",
    "We will be using the `BM25SearchEngine` class to create a BM25 search engine.\n"
   ]
  },
  {
   "cell_type": "code",
   "execution_count": 29,
   "metadata": {},
   "outputs": [
    {
     "name": "stdout",
     "output_type": "stream",
     "text": [
      "🍩 https://wandb.ai/a-sh0ts/rag-workshop-pc-nyc-3/r/call/01948fbc-84f7-7bb0-94de-776edc620245\n"
     ]
    },
    {
     "name": "stderr",
     "output_type": "stream",
     "text": [
      "huggingface/tokenizers: The current process just got forked, after parallelism has already been used. Disabling parallelism to avoid deadlocks...\n",
      "To disable this warning, you can either:\n",
      "\t- Avoid using `tokenizers` before the fork if possible\n",
      "\t- Explicitly set the environment variable TOKENIZERS_PARALLELISM=(true | false)\n"
     ]
    },
    {
     "data": {
      "text/markdown": [
       "- score: 5.6303\n",
       "- metadata: WeaveDict({'source': '2023 Q2 AAPL.pdf', 'raw_tokens': 10826, 'file_type': 'pdf'})\n",
       "- chunk_number: 23\n",
       "- chunk_id: f0fc181ba63b9d137a32b7f1bdc9a8b5\n",
       "- doc_id: 892ac7f7702cd56f574dae211e89bfa9\n",
       "\n",
       "\n",
       "Available Information\n",
       "The Company periodically provides certain information for investors on its corporate website, www .apple.com, and its investor relations website,\n",
       "investor .apple.com.This includes press releases and other information about financial performance, information on environmental, social and governance\n",
       "matters, and details related to the Company’ s annual meeting of shareholders.The information contained on the websites referenced in this Form 10-Q is not\n",
       "incorporated by reference into this filing.Further , the Company’ s references to website URLs are intended to be inactive textual references only .Business Seasonality and Product Introductions\n",
       "The Company has historically experienced higher net sales in its first quarter compared to other quarters in its fiscal year due in part to seasonal holiday\n",
       "demand.Additionally , new product and service introductions can significantly impact net sales , cost of sales and operating expenses.The timing of product\n",
       "introductions can also impact the Company’ s net sales to its indirect distribution channels as these channels are filled with new inventory following a product\n",
       "launch, and channel inventory of an older product often declines as the launch of a newer produ ct approaches.Net sales can also be affected when consumers\n",
       "and distributors anticipate a product introduction.Fiscal Period\n",
       "The Compan y’s fiscal year is the 52- or 53-week period that ends on the last Saturday of September .An additional week is included in the first fiscal quarter\n",
       "every five or six years to realign the Company’ s fiscal quarters with calendar quarters, which occurred in the first quarter of 2023.The Company’ s fiscal years\n",
       "2023 and 2022 span 53 and 52 weeks, respectively .Quarterly Highlights\n",
       "Weakness in foreign currencies relative to the U.S. dollar had an unfavorable impact on the Com pany’ s total net sales, which decreased 3% or $2.4 billion during\n",
       "the second quarter of 2023 compared to the same quarter in 2022.The year-over-year net sales decrease consisted primarily of lower net sales of Mac, partially\n",
       "offset by higher net sales of Services.During the second quarter of 2023, the Company announced the following new products:\n",
       "•MacBook Pro  14” and MacBook Pro 16”, powered by the Apple M2 Pro and M2 Max chip;\n",
       "•Mac mini , powered by the Apple M2 and M2 Pro chip; and\n",
       "•Second-generation HomePod .\n",
       "\n",
       "---\n",
       "\n"
      ],
      "text/plain": [
       "<IPython.core.display.Markdown object>"
      ]
     },
     "metadata": {},
     "output_type": "display_data"
    },
    {
     "data": {
      "text/markdown": [
       "- score: 5.3702\n",
       "- metadata: WeaveDict({'source': '2023 Q3 AAPL.pdf', 'raw_tokens': 10898, 'file_type': 'pdf'})\n",
       "- chunk_number: 23\n",
       "- chunk_id: ee0556acf374c90418fef0e1d28d98b2\n",
       "- doc_id: a4d28158d90e45af01c17fa1bf5fe6f9\n",
       "\n",
       "\n",
       "Available Information\n",
       "The Company periodically provides certain information for investors on its corporate website, www .apple.com, and its investor relations website,\n",
       "investor .apple.com.This includes press releases and other information about financial performance, information on environmental, social and governance\n",
       "matters, and details related to the Company’ s annual meeting of shareholders.The information contained on the websites referenced in this Form 10-Q is not\n",
       "incorporated by reference into this filing.Further , the Company’ s references to website URLs are intended to be inactive textual references only .Business Seasonality and Product Introductions\n",
       "The Company has historically experienced higher net sales in its first quarter compared to other quarters in its fiscal year due in part to seasonal holiday\n",
       "demand.Additionally , new product and service introductions can significantly impact net sales , cost of sales and operating expenses.The timing of product\n",
       "introductions can also impact the Company’ s net sales to its indirect distribution channels as these channels are filled with new inventory following a product\n",
       "launch, and channel inventory of an older product often declines as the launch of a newer produ ct approaches.Net sales can also be affected when consumers\n",
       "and distributors anticipate a product introduction.Fiscal Period\n",
       "The Compan y’s fiscal year is the 52- or 53-week period that ends on the last Saturday of September .An additional week is included in the first fiscal quarter\n",
       "every five or six years to realign the Company’ s fiscal quarters with calendar quarters, which occurred in the first quarter of 2023.The Company’ s fiscal years\n",
       "2023 and 2022 span 53 and 52 weeks, respectively .Quarterly Highlights\n",
       "Weakness in foreign currencies relative to the U.S. dollar had an unfavorable impact on the Com pany’ s total net sales, which decreased 1% or $1.2 billion during\n",
       "the third quarter of 2023 compared to the same quarter in 2022.The year-over-year net sales decrease consisted primarily of lower net sales of iPad and\n",
       "iPhone, partially of fset by higher net sales of Services.\n",
       "\n",
       "---\n",
       "\n"
      ],
      "text/plain": [
       "<IPython.core.display.Markdown object>"
      ]
     },
     "metadata": {},
     "output_type": "display_data"
    },
    {
     "data": {
      "text/markdown": [
       "- score: 5.185\n",
       "- metadata: WeaveDict({'source': '2022 Q3 AAPL.pdf', 'raw_tokens': 11081, 'file_type': 'pdf'})\n",
       "- chunk_number: 23\n",
       "- chunk_id: d33428f0dd6ff1183372542f1452fdb2\n",
       "- doc_id: d526fb0c9708ec6e7103a267f08b9a6a\n",
       "\n",
       "\n",
       "(2)Wearables, Home and Accessories net sales include sales of AirPods, Apple TV, Apple Watch, Beats products, HomePod mini and accessories.(3)Services net sales include sales from the Company’s advertising, AppleCare, cloud, digital content, payment and other services.Services net sales also include\n",
       "amortization of the deferred value of services bundled in the sales price of certain products.iPhone\n",
       "iPhone net sales increas ed during the third quarter and first nine months of 2022 compared to the same periods in 2021 due primarily to higher net sales from\n",
       "the Company’ s new iPhone models.Mac\n",
       "Mac net sales decrease d during the third quarter of 2022 compared to the third quarter of 2021 due primarily to lower net sales of MacBook Air and iMac ,\n",
       "partially offset by higher net sales of MacBook Pro.Year-over-year Mac net sales increased durin g the first nine months of 2022 due primarily to higher net sales\n",
       "of MacBook Pro, partially of fset by lower net sales of MacBook Air.iPad\n",
       "iPad net sales decrease d during the third quarter of 2022 compared to the third quarter of 2021  due primarily to lower net sales of iPad Pro , partially offset by\n",
       "higher net sales of all other iPad models.Year-ov er-year iPad net sales decreased during the first nine months of 2022 due primarily to lower net sales of the 10-\n",
       "inch version of iPad and iPad Air, partially of fset by higher net sales of iPad mini .Wearables, Home and Accessories\n",
       "Wearables, Home and Accessories net sales decreased during the third quarter of 2022 compared to the third quarter of 2021 due primarily to lower net sales of\n",
       "AirPods and Apple Watch.Year-over-year Wearables, Home and Accessories net sales increased  during the first nine months of 2022 due primarily to higher net\n",
       "sales of Apple W atch and AirPods.(1)\n",
       "(1)\n",
       " (1)\n",
       "(1)(2)\n",
       "(3)\n",
       "®\n",
       "®\n",
       "® ®\n",
       "Apple Inc. | Q3 2022 Form 10-Q | 15Services\n",
       "Services net sales increased during the third quarter of 2022 compared to the third quarter of 2021 due primarily to higher net sales from advertising, cloud\n",
       "services and AppleCare.\n",
       "\n",
       "---\n",
       "\n"
      ],
      "text/plain": [
       "<IPython.core.display.Markdown object>"
      ]
     },
     "metadata": {},
     "output_type": "display_data"
    },
    {
     "data": {
      "text/markdown": [
       "- score: 5.006\n",
       "- metadata: WeaveDict({'source': '2023 Q3 AAPL.pdf', 'raw_tokens': 10898, 'file_type': 'pdf'})\n",
       "- chunk_number: 27\n",
       "- chunk_id: d4bde8367402ec76fb4ebd18b5078d6d\n",
       "- doc_id: a4d28158d90e45af01c17fa1bf5fe6f9\n",
       "\n",
       "\n",
       "Apple Inc. | Q3 2023 Form 10-Q | 15Products and Services Performance\n",
       "The following table shows net sales by category for the three- and nine-month periods ended July 1, 2023 and June 25, 2022 (dollars in millions):\n",
       "Three Months Ended Nine Months Ended\n",
       "July 1,\n",
       "2023June 25,\n",
       "2022 ChangeJuly 1,\n",
       "2023June 25,\n",
       "2022 Change\n",
       "Net sales by category:\n",
       "iPhone $ 39,669 $ 40,665 (2)%$ 156,778 $ 162,863 (4)%\n",
       "Mac 6,840 7,382 (7)% 21,743 28,669 (24)%\n",
       "iPad 5,791 7,224 (20)% 21,857 22,118 (1)%\n",
       "Wearables, Home and Accessories 8,284 8,084 2 % 30,523 31,591 (3)%\n",
       "Services 21,213 19,604 8 % 62,886 58,941 7 %\n",
       "Total net sales $ 81,797 $ 82,959 (1)%$ 293,787 $ 304,182 (3)%\n",
       "iPhone\n",
       "iPhone net sales decreased during the third quarter and first nine months of 2023 compared to the same periods in 2022 due primarily to lower net sales from\n",
       "certain iPhone models, partially of fset by higher net sales of iPhone 14 Pro models.Mac\n",
       "Mac net sales decreased during the third quarter and first nine months of 2023 compared to the same periods in 2022 due primarily to lower net sales of laptops.iPad\n",
       "iPad net sales decreased during the third quarter of 2023 compared to the third quarter of 2022 due primarily to lower net sales across most iPad models.Year-\n",
       "over-year iPad net sales were relatively flat during the first nine months of 2023.Wearables, Home and Accessories\n",
       "Wearables, Home and Accessories net sales increased during the third quarter of 2023 compare d to the third quarter of 2022 due primarily to higher net sales of\n",
       "Wearables, which includes AirPods , Apple Watch  and Beats  products, partially offset by lower net sales of accessories.\n",
       "\n",
       "---\n",
       "\n"
      ],
      "text/plain": [
       "<IPython.core.display.Markdown object>"
      ]
     },
     "metadata": {},
     "output_type": "display_data"
    },
    {
     "data": {
      "text/markdown": [
       "- score: 4.8996\n",
       "- metadata: WeaveDict({'source': '2022 Q3 AAPL.pdf', 'raw_tokens': 11081, 'file_type': 'pdf'})\n",
       "- chunk_number: 21\n",
       "- chunk_id: b2d7313fb7914541a5f775519a2a3fe5\n",
       "- doc_id: d526fb0c9708ec6e7103a267f08b9a6a\n",
       "\n",
       "\n",
       "Available Information\n",
       "The Company periodically provides certain information for investors on its corporate website, www .apple.com, and its investor relations website,\n",
       "investor .apple.com.This includes press releases and other information about financial performance, information on environmental, social and corporate\n",
       "governance matters, and details related to the Company’ s annual meeting of shareholders.The information contained on the websites referenced in this Form\n",
       "10-Q is not incorporated by reference into this filing.Further , the Company’ s references to website URLs are intended to be inactive textual references only .Business Seasonality and Product Introductions\n",
       "The Company has historically experienced higher net sales in its first quarter compared to other quarters in its fiscal year due in part to seasonal holiday\n",
       "demand.Additionally , new product and service introductions can significantly impact net sales , cost of sales and operating expenses.The timing of product\n",
       "introductions can also impact the Company’ s net sales to its indirect distribution channels as these channels are filled with new inventory following a product\n",
       "launch, and channel inventory of an older product often declines as the launch of a newer produ ct approaches.Net sales can also be affected when consumers\n",
       "and distributors anticipate a product introduction.Quarterly Highlights\n",
       "Total net sales increased 2% or $1.5 billion during the third quarter of 2022 compared to the same quarter in 2021, driven primarily by higher net sales of\n",
       "Services and iPhone, partially offset by lower net sales of Mac and Wearables, Home and Accessories.The weakness in foreign currencies relative to the U.S.\n",
       "dollar had an unfavorable impact on all Products and Services net sales during the third quarter of 2022.At the end of the third quarter of 2022, the Com pany introduced an all-new MacBook Air and an updated 13-inch  MacBook Pro , both powe red by the new\n",
       "Apple M2 chip.The Company also announced iOS 16, macOS  Ventura, iPadOS  16 and watchOS  9, updates to its operating systems that are expe cted to be\n",
       "available in the fall of 2022.\n",
       "\n",
       "---\n",
       "\n"
      ],
      "text/plain": [
       "<IPython.core.display.Markdown object>"
      ]
     },
     "metadata": {},
     "output_type": "display_data"
    }
   ],
   "source": [
    "# # we are still fitting the search engine on the same document chunks as we did for the TFIDF search engine\n",
    "bm25_search_engine = await BM25SearchEngine().fit(document_chunks)\n",
    "\n",
    "# A wrapper around the search engine that uses the search method\n",
    "class BM25Retriever(Retriever):\n",
    "    pass\n",
    "\n",
    "\n",
    "bm25_retriever = BM25Retriever(search_engine=bm25_search_engine)\n",
    "\n",
    "retrieved_docs = await bm25_retriever.invoke(query=query, top_k=5)\n",
    "\n",
    "for doc in retrieved_docs:\n",
    "    render_doc(doc)\n"
   ]
  },
  {
   "cell_type": "code",
   "execution_count": 30,
   "metadata": {},
   "outputs": [
    {
     "data": {
      "text/html": [
       "<pre style=\"white-space:pre;overflow-x:auto;line-height:normal;font-family:Menlo,'DejaVu Sans Mono',consolas,'Courier New',monospace\">Evaluated <span style=\"color: #008080; text-decoration-color: #008080; font-weight: bold\">1</span> of <span style=\"color: #008080; text-decoration-color: #008080; font-weight: bold\">9</span> examples\n",
       "</pre>\n"
      ],
      "text/plain": [
       "Evaluated \u001b[1;36m1\u001b[0m of \u001b[1;36m9\u001b[0m examples\n"
      ]
     },
     "metadata": {},
     "output_type": "display_data"
    },
    {
     "data": {
      "text/html": [
       "<pre style=\"white-space:pre;overflow-x:auto;line-height:normal;font-family:Menlo,'DejaVu Sans Mono',consolas,'Courier New',monospace\">Evaluated <span style=\"color: #008080; text-decoration-color: #008080; font-weight: bold\">2</span> of <span style=\"color: #008080; text-decoration-color: #008080; font-weight: bold\">9</span> examples\n",
       "</pre>\n"
      ],
      "text/plain": [
       "Evaluated \u001b[1;36m2\u001b[0m of \u001b[1;36m9\u001b[0m examples\n"
      ]
     },
     "metadata": {},
     "output_type": "display_data"
    },
    {
     "data": {
      "text/html": [
       "<pre style=\"white-space:pre;overflow-x:auto;line-height:normal;font-family:Menlo,'DejaVu Sans Mono',consolas,'Courier New',monospace\">Evaluated <span style=\"color: #008080; text-decoration-color: #008080; font-weight: bold\">3</span> of <span style=\"color: #008080; text-decoration-color: #008080; font-weight: bold\">9</span> examples\n",
       "</pre>\n"
      ],
      "text/plain": [
       "Evaluated \u001b[1;36m3\u001b[0m of \u001b[1;36m9\u001b[0m examples\n"
      ]
     },
     "metadata": {},
     "output_type": "display_data"
    },
    {
     "data": {
      "text/html": [
       "<pre style=\"white-space:pre;overflow-x:auto;line-height:normal;font-family:Menlo,'DejaVu Sans Mono',consolas,'Courier New',monospace\">Evaluated <span style=\"color: #008080; text-decoration-color: #008080; font-weight: bold\">4</span> of <span style=\"color: #008080; text-decoration-color: #008080; font-weight: bold\">9</span> examples\n",
       "</pre>\n"
      ],
      "text/plain": [
       "Evaluated \u001b[1;36m4\u001b[0m of \u001b[1;36m9\u001b[0m examples\n"
      ]
     },
     "metadata": {},
     "output_type": "display_data"
    },
    {
     "data": {
      "text/html": [
       "<pre style=\"white-space:pre;overflow-x:auto;line-height:normal;font-family:Menlo,'DejaVu Sans Mono',consolas,'Courier New',monospace\">Evaluated <span style=\"color: #008080; text-decoration-color: #008080; font-weight: bold\">5</span> of <span style=\"color: #008080; text-decoration-color: #008080; font-weight: bold\">9</span> examples\n",
       "</pre>\n"
      ],
      "text/plain": [
       "Evaluated \u001b[1;36m5\u001b[0m of \u001b[1;36m9\u001b[0m examples\n"
      ]
     },
     "metadata": {},
     "output_type": "display_data"
    },
    {
     "data": {
      "text/html": [
       "<pre style=\"white-space:pre;overflow-x:auto;line-height:normal;font-family:Menlo,'DejaVu Sans Mono',consolas,'Courier New',monospace\">Evaluated <span style=\"color: #008080; text-decoration-color: #008080; font-weight: bold\">6</span> of <span style=\"color: #008080; text-decoration-color: #008080; font-weight: bold\">9</span> examples\n",
       "</pre>\n"
      ],
      "text/plain": [
       "Evaluated \u001b[1;36m6\u001b[0m of \u001b[1;36m9\u001b[0m examples\n"
      ]
     },
     "metadata": {},
     "output_type": "display_data"
    },
    {
     "data": {
      "text/html": [
       "<pre style=\"white-space:pre;overflow-x:auto;line-height:normal;font-family:Menlo,'DejaVu Sans Mono',consolas,'Courier New',monospace\">Evaluated <span style=\"color: #008080; text-decoration-color: #008080; font-weight: bold\">7</span> of <span style=\"color: #008080; text-decoration-color: #008080; font-weight: bold\">9</span> examples\n",
       "</pre>\n"
      ],
      "text/plain": [
       "Evaluated \u001b[1;36m7\u001b[0m of \u001b[1;36m9\u001b[0m examples\n"
      ]
     },
     "metadata": {},
     "output_type": "display_data"
    },
    {
     "data": {
      "text/html": [
       "<pre style=\"white-space:pre;overflow-x:auto;line-height:normal;font-family:Menlo,'DejaVu Sans Mono',consolas,'Courier New',monospace\">Evaluated <span style=\"color: #008080; text-decoration-color: #008080; font-weight: bold\">8</span> of <span style=\"color: #008080; text-decoration-color: #008080; font-weight: bold\">9</span> examples\n",
       "</pre>\n"
      ],
      "text/plain": [
       "Evaluated \u001b[1;36m8\u001b[0m of \u001b[1;36m9\u001b[0m examples\n"
      ]
     },
     "metadata": {},
     "output_type": "display_data"
    },
    {
     "data": {
      "text/html": [
       "<pre style=\"white-space:pre;overflow-x:auto;line-height:normal;font-family:Menlo,'DejaVu Sans Mono',consolas,'Courier New',monospace\">Evaluated <span style=\"color: #008080; text-decoration-color: #008080; font-weight: bold\">9</span> of <span style=\"color: #008080; text-decoration-color: #008080; font-weight: bold\">9</span> examples\n",
       "</pre>\n"
      ],
      "text/plain": [
       "Evaluated \u001b[1;36m9\u001b[0m of \u001b[1;36m9\u001b[0m examples\n"
      ]
     },
     "metadata": {},
     "output_type": "display_data"
    },
    {
     "data": {
      "text/html": [
       "<pre style=\"white-space:pre;overflow-x:auto;line-height:normal;font-family:Menlo,'DejaVu Sans Mono',consolas,'Courier New',monospace\">Evaluation summary\n",
       "<span style=\"font-weight: bold\">{</span>\n",
       "    <span style=\"color: #008000; text-decoration-color: #008000\">'retrieval_scorer'</span>: <span style=\"font-weight: bold\">{</span>\n",
       "        <span style=\"color: #008000; text-decoration-color: #008000\">'precision'</span>: <span style=\"font-weight: bold\">{</span><span style=\"color: #008000; text-decoration-color: #008000\">'mean'</span>: <span style=\"color: #008080; text-decoration-color: #008080; font-weight: bold\">0.4666666666666667</span><span style=\"font-weight: bold\">}</span>,\n",
       "        <span style=\"color: #008000; text-decoration-color: #008000\">'hit_rate'</span>: <span style=\"font-weight: bold\">{</span><span style=\"color: #008000; text-decoration-color: #008000\">'mean'</span>: <span style=\"color: #008080; text-decoration-color: #008080; font-weight: bold\">0.4666666666666667</span><span style=\"font-weight: bold\">}</span>,\n",
       "        <span style=\"color: #008000; text-decoration-color: #008000\">'map'</span>: <span style=\"font-weight: bold\">{</span><span style=\"color: #008000; text-decoration-color: #008000\">'mean'</span>: <span style=\"color: #008080; text-decoration-color: #008080; font-weight: bold\">0.5694444444444444</span><span style=\"font-weight: bold\">}</span>,\n",
       "        <span style=\"color: #008000; text-decoration-color: #008000\">'relevance'</span>: <span style=\"font-weight: bold\">{</span><span style=\"color: #008000; text-decoration-color: #008000\">'mean'</span>: <span style=\"color: #008080; text-decoration-color: #008080; font-weight: bold\">0.0</span><span style=\"font-weight: bold\">}</span>,\n",
       "        <span style=\"color: #008000; text-decoration-color: #008000\">'relevance_score'</span>: <span style=\"font-weight: bold\">{</span><span style=\"color: #008000; text-decoration-color: #008000\">'mean'</span>: <span style=\"color: #008080; text-decoration-color: #008080; font-weight: bold\">0.2924333333333333</span><span style=\"font-weight: bold\">}</span>,\n",
       "        <span style=\"color: #008000; text-decoration-color: #008000\">'mrr'</span>: <span style=\"font-weight: bold\">{</span><span style=\"color: #008000; text-decoration-color: #008000\">'mean'</span>: <span style=\"color: #008080; text-decoration-color: #008080; font-weight: bold\">0.2085185185185185</span><span style=\"font-weight: bold\">}</span>,\n",
       "        <span style=\"color: #008000; text-decoration-color: #008000\">'ndcg'</span>: <span style=\"font-weight: bold\">{</span><span style=\"color: #008000; text-decoration-color: #008000\">'mean'</span>: <span style=\"color: #008080; text-decoration-color: #008080; font-weight: bold\">0.465356140554866</span><span style=\"font-weight: bold\">}</span>,\n",
       "        <span style=\"color: #008000; text-decoration-color: #008000\">'f1_score'</span>: <span style=\"font-weight: bold\">{</span><span style=\"color: #008000; text-decoration-color: #008000\">'mean'</span>: <span style=\"color: #008080; text-decoration-color: #008080; font-weight: bold\">0.4444444444444444</span><span style=\"font-weight: bold\">}</span>,\n",
       "        <span style=\"color: #008000; text-decoration-color: #008000\">'recall'</span>: <span style=\"font-weight: bold\">{</span><span style=\"color: #008000; text-decoration-color: #008000\">'mean'</span>: <span style=\"color: #008080; text-decoration-color: #008080; font-weight: bold\">0.4444444444444444</span><span style=\"font-weight: bold\">}</span>\n",
       "    <span style=\"font-weight: bold\">}</span>,\n",
       "    <span style=\"color: #008000; text-decoration-color: #008000\">'model_latency'</span>: <span style=\"font-weight: bold\">{</span><span style=\"color: #008000; text-decoration-color: #008000\">'mean'</span>: <span style=\"color: #008080; text-decoration-color: #008080; font-weight: bold\">0.0025416745079888236</span><span style=\"font-weight: bold\">}</span>\n",
       "<span style=\"font-weight: bold\">}</span>\n",
       "</pre>\n"
      ],
      "text/plain": [
       "Evaluation summary\n",
       "\u001b[1m{\u001b[0m\n",
       "    \u001b[32m'retrieval_scorer'\u001b[0m: \u001b[1m{\u001b[0m\n",
       "        \u001b[32m'precision'\u001b[0m: \u001b[1m{\u001b[0m\u001b[32m'mean'\u001b[0m: \u001b[1;36m0.4666666666666667\u001b[0m\u001b[1m}\u001b[0m,\n",
       "        \u001b[32m'hit_rate'\u001b[0m: \u001b[1m{\u001b[0m\u001b[32m'mean'\u001b[0m: \u001b[1;36m0.4666666666666667\u001b[0m\u001b[1m}\u001b[0m,\n",
       "        \u001b[32m'map'\u001b[0m: \u001b[1m{\u001b[0m\u001b[32m'mean'\u001b[0m: \u001b[1;36m0.5694444444444444\u001b[0m\u001b[1m}\u001b[0m,\n",
       "        \u001b[32m'relevance'\u001b[0m: \u001b[1m{\u001b[0m\u001b[32m'mean'\u001b[0m: \u001b[1;36m0.0\u001b[0m\u001b[1m}\u001b[0m,\n",
       "        \u001b[32m'relevance_score'\u001b[0m: \u001b[1m{\u001b[0m\u001b[32m'mean'\u001b[0m: \u001b[1;36m0.2924333333333333\u001b[0m\u001b[1m}\u001b[0m,\n",
       "        \u001b[32m'mrr'\u001b[0m: \u001b[1m{\u001b[0m\u001b[32m'mean'\u001b[0m: \u001b[1;36m0.2085185185185185\u001b[0m\u001b[1m}\u001b[0m,\n",
       "        \u001b[32m'ndcg'\u001b[0m: \u001b[1m{\u001b[0m\u001b[32m'mean'\u001b[0m: \u001b[1;36m0.465356140554866\u001b[0m\u001b[1m}\u001b[0m,\n",
       "        \u001b[32m'f1_score'\u001b[0m: \u001b[1m{\u001b[0m\u001b[32m'mean'\u001b[0m: \u001b[1;36m0.4444444444444444\u001b[0m\u001b[1m}\u001b[0m,\n",
       "        \u001b[32m'recall'\u001b[0m: \u001b[1m{\u001b[0m\u001b[32m'mean'\u001b[0m: \u001b[1;36m0.4444444444444444\u001b[0m\u001b[1m}\u001b[0m\n",
       "    \u001b[1m}\u001b[0m,\n",
       "    \u001b[32m'model_latency'\u001b[0m: \u001b[1m{\u001b[0m\u001b[32m'mean'\u001b[0m: \u001b[1;36m0.0025416745079888236\u001b[0m\u001b[1m}\u001b[0m\n",
       "\u001b[1m}\u001b[0m\n"
      ]
     },
     "metadata": {},
     "output_type": "display_data"
    },
    {
     "name": "stdout",
     "output_type": "stream",
     "text": [
      "🍩 https://wandb.ai/a-sh0ts/rag-workshop-pc-nyc-3/r/call/01948fbc-850a-72d0-b13f-5d7f3c7e1582\n"
     ]
    }
   ],
   "source": [
    "# we are now ready to evaluate the retrieval performance of the BM25 retrieval algorithm\n",
    "# we are using the same evaluation dataset as we did for the TFIDF retrieval algorithm\n",
    "# this should allow us to compare the performance of the two retrieval algorithms\n",
    "retrieval_scores = await retrieval_evaluation.evaluate(\n",
    "    model=bm25_retriever,\n",
    "    __weave={\"display_name\": \"BM25 Retrieval\"}\n",
    ")"
   ]
  },
  {
   "cell_type": "markdown",
   "metadata": {},
   "source": [
    "While evaluating the retrieval performance is important, we are interested more in the overall performance of the RAG pipeline.\n",
    "\n",
    "Again, we will be using the `SimpleRAGPipeline` class to create a RAG pipeline using the same response generator as we did earlier.\n",
    "\n",
    "We are also using the same evaluation dataset as we did for the TFIDF RAG pipeline. This should allow us to compare the performance of the two pipelines."
   ]
  },
  {
   "cell_type": "code",
   "execution_count": 31,
   "metadata": {},
   "outputs": [
    {
     "name": "stdout",
     "output_type": "stream",
     "text": [
      "🍩 https://wandb.ai/a-sh0ts/rag-workshop-pc-nyc-3/r/call/01948fbc-aae1-7e20-b913-3973da014534\n"
     ]
    },
    {
     "data": {
      "text/markdown": [
       "Based on the provided documents, Apple's total net sales have experienced fluctuations over different quarters and years. Here are some key highlights:\n",
       "\n",
       "1. **Q2 2023**: Apple's total net sales decreased by 3% or $2.4 billion compared to the same quarter in 2022. This decrease was primarily due to lower net sales of Mac, although it was partially offset by higher net sales of Services.\n",
       "\n",
       "2. **Q3 2023**: Total net sales decreased by 1% or $1.2 billion compared to the same quarter in 2022. The decline was driven by lower net sales of iPad and iPhone, again offset by increases in Services.\n",
       "\n",
       "3. **Q3 2022**: Compared to Q3 2021, total net sales increased by 2% or $1.5 billion, primarily driven by higher sales of Services and iPhone, despite lower sales of Mac and Wearables.\n",
       "\n",
       "4. **Q1 2023**: The fiscal year includes seasonal trends, with historically higher net sales in the first quarter due to holiday demand, but specific figures for this quarter are not provided in the documents.\n",
       "\n",
       "Overall, while there have been periods of growth in total net sales, recent quarters have shown a trend of declining sales compared to previous years, particularly influenced by product-specific performance and external factors like currency fluctuations."
      ],
      "text/plain": [
       "<IPython.core.display.Markdown object>"
      ]
     },
     "metadata": {},
     "output_type": "display_data"
    },
    {
     "data": {
      "text/html": [
       "<pre style=\"white-space:pre;overflow-x:auto;line-height:normal;font-family:Menlo,'DejaVu Sans Mono',consolas,'Courier New',monospace\">Evaluated <span style=\"color: #008080; text-decoration-color: #008080; font-weight: bold\">1</span> of <span style=\"color: #008080; text-decoration-color: #008080; font-weight: bold\">9</span> examples\n",
       "</pre>\n"
      ],
      "text/plain": [
       "Evaluated \u001b[1;36m1\u001b[0m of \u001b[1;36m9\u001b[0m examples\n"
      ]
     },
     "metadata": {},
     "output_type": "display_data"
    },
    {
     "data": {
      "text/html": [
       "<pre style=\"white-space:pre;overflow-x:auto;line-height:normal;font-family:Menlo,'DejaVu Sans Mono',consolas,'Courier New',monospace\">Evaluated <span style=\"color: #008080; text-decoration-color: #008080; font-weight: bold\">2</span> of <span style=\"color: #008080; text-decoration-color: #008080; font-weight: bold\">9</span> examples\n",
       "</pre>\n"
      ],
      "text/plain": [
       "Evaluated \u001b[1;36m2\u001b[0m of \u001b[1;36m9\u001b[0m examples\n"
      ]
     },
     "metadata": {},
     "output_type": "display_data"
    },
    {
     "data": {
      "text/html": [
       "<pre style=\"white-space:pre;overflow-x:auto;line-height:normal;font-family:Menlo,'DejaVu Sans Mono',consolas,'Courier New',monospace\">Evaluated <span style=\"color: #008080; text-decoration-color: #008080; font-weight: bold\">3</span> of <span style=\"color: #008080; text-decoration-color: #008080; font-weight: bold\">9</span> examples\n",
       "</pre>\n"
      ],
      "text/plain": [
       "Evaluated \u001b[1;36m3\u001b[0m of \u001b[1;36m9\u001b[0m examples\n"
      ]
     },
     "metadata": {},
     "output_type": "display_data"
    },
    {
     "data": {
      "text/html": [
       "<pre style=\"white-space:pre;overflow-x:auto;line-height:normal;font-family:Menlo,'DejaVu Sans Mono',consolas,'Courier New',monospace\">Evaluated <span style=\"color: #008080; text-decoration-color: #008080; font-weight: bold\">4</span> of <span style=\"color: #008080; text-decoration-color: #008080; font-weight: bold\">9</span> examples\n",
       "</pre>\n"
      ],
      "text/plain": [
       "Evaluated \u001b[1;36m4\u001b[0m of \u001b[1;36m9\u001b[0m examples\n"
      ]
     },
     "metadata": {},
     "output_type": "display_data"
    },
    {
     "data": {
      "text/html": [
       "<pre style=\"white-space:pre;overflow-x:auto;line-height:normal;font-family:Menlo,'DejaVu Sans Mono',consolas,'Courier New',monospace\">Evaluated <span style=\"color: #008080; text-decoration-color: #008080; font-weight: bold\">5</span> of <span style=\"color: #008080; text-decoration-color: #008080; font-weight: bold\">9</span> examples\n",
       "</pre>\n"
      ],
      "text/plain": [
       "Evaluated \u001b[1;36m5\u001b[0m of \u001b[1;36m9\u001b[0m examples\n"
      ]
     },
     "metadata": {},
     "output_type": "display_data"
    },
    {
     "data": {
      "text/html": [
       "<pre style=\"white-space:pre;overflow-x:auto;line-height:normal;font-family:Menlo,'DejaVu Sans Mono',consolas,'Courier New',monospace\">Evaluated <span style=\"color: #008080; text-decoration-color: #008080; font-weight: bold\">6</span> of <span style=\"color: #008080; text-decoration-color: #008080; font-weight: bold\">9</span> examples\n",
       "</pre>\n"
      ],
      "text/plain": [
       "Evaluated \u001b[1;36m6\u001b[0m of \u001b[1;36m9\u001b[0m examples\n"
      ]
     },
     "metadata": {},
     "output_type": "display_data"
    },
    {
     "data": {
      "text/html": [
       "<pre style=\"white-space:pre;overflow-x:auto;line-height:normal;font-family:Menlo,'DejaVu Sans Mono',consolas,'Courier New',monospace\">Evaluated <span style=\"color: #008080; text-decoration-color: #008080; font-weight: bold\">7</span> of <span style=\"color: #008080; text-decoration-color: #008080; font-weight: bold\">9</span> examples\n",
       "</pre>\n"
      ],
      "text/plain": [
       "Evaluated \u001b[1;36m7\u001b[0m of \u001b[1;36m9\u001b[0m examples\n"
      ]
     },
     "metadata": {},
     "output_type": "display_data"
    },
    {
     "data": {
      "text/html": [
       "<pre style=\"white-space:pre;overflow-x:auto;line-height:normal;font-family:Menlo,'DejaVu Sans Mono',consolas,'Courier New',monospace\">Evaluated <span style=\"color: #008080; text-decoration-color: #008080; font-weight: bold\">8</span> of <span style=\"color: #008080; text-decoration-color: #008080; font-weight: bold\">9</span> examples\n",
       "</pre>\n"
      ],
      "text/plain": [
       "Evaluated \u001b[1;36m8\u001b[0m of \u001b[1;36m9\u001b[0m examples\n"
      ]
     },
     "metadata": {},
     "output_type": "display_data"
    },
    {
     "data": {
      "text/html": [
       "<pre style=\"white-space:pre;overflow-x:auto;line-height:normal;font-family:Menlo,'DejaVu Sans Mono',consolas,'Courier New',monospace\">Evaluated <span style=\"color: #008080; text-decoration-color: #008080; font-weight: bold\">9</span> of <span style=\"color: #008080; text-decoration-color: #008080; font-weight: bold\">9</span> examples\n",
       "</pre>\n"
      ],
      "text/plain": [
       "Evaluated \u001b[1;36m9\u001b[0m of \u001b[1;36m9\u001b[0m examples\n"
      ]
     },
     "metadata": {},
     "output_type": "display_data"
    },
    {
     "data": {
      "text/html": [
       "<pre style=\"white-space:pre;overflow-x:auto;line-height:normal;font-family:Menlo,'DejaVu Sans Mono',consolas,'Courier New',monospace\">Evaluation summary\n",
       "<span style=\"font-weight: bold\">{</span>\n",
       "    <span style=\"color: #008000; text-decoration-color: #008000\">'response_scorer'</span>: <span style=\"font-weight: bold\">{</span>\n",
       "        <span style=\"color: #008000; text-decoration-color: #008000\">'levenshtein'</span>: <span style=\"font-weight: bold\">{</span><span style=\"color: #008000; text-decoration-color: #008000\">'mean'</span>: <span style=\"color: #008080; text-decoration-color: #008080; font-weight: bold\">0.46122580299789045</span><span style=\"font-weight: bold\">}</span>,\n",
       "        <span style=\"color: #008000; text-decoration-color: #008000\">'rouge'</span>: <span style=\"font-weight: bold\">{</span><span style=\"color: #008000; text-decoration-color: #008000\">'mean'</span>: <span style=\"color: #008080; text-decoration-color: #008080; font-weight: bold\">0.24124048407882295</span><span style=\"font-weight: bold\">}</span>,\n",
       "        <span style=\"color: #008000; text-decoration-color: #008000\">'correctness'</span>: <span style=\"font-weight: bold\">{</span>\n",
       "            <span style=\"color: #008000; text-decoration-color: #008000\">'correct'</span>: <span style=\"font-weight: bold\">{</span><span style=\"color: #008000; text-decoration-color: #008000\">'true_count'</span>: <span style=\"color: #008080; text-decoration-color: #008080; font-weight: bold\">3</span>, <span style=\"color: #008000; text-decoration-color: #008000\">'true_fraction'</span>: <span style=\"color: #008080; text-decoration-color: #008080; font-weight: bold\">0.3333333333333333</span><span style=\"font-weight: bold\">}</span>,\n",
       "            <span style=\"color: #008000; text-decoration-color: #008000\">'extras'</span>: <span style=\"font-weight: bold\">{</span><span style=\"color: #008000; text-decoration-color: #008000\">'label'</span>: <span style=\"font-weight: bold\">{</span><span style=\"color: #008000; text-decoration-color: #008000\">'mean'</span>: <span style=\"color: #008080; text-decoration-color: #008080; font-weight: bold\">0.3333333333333333</span><span style=\"font-weight: bold\">}</span>, <span style=\"color: #008000; text-decoration-color: #008000\">'score'</span>: <span style=\"font-weight: bold\">{</span><span style=\"color: #008000; text-decoration-color: #008000\">'mean'</span>: <span style=\"color: #008080; text-decoration-color: #008080; font-weight: bold\">0.5612127516004775</span><span style=\"font-weight: bold\">}}</span>\n",
       "        <span style=\"font-weight: bold\">}</span>,\n",
       "        <span style=\"color: #008000; text-decoration-color: #008000\">'helpfulness'</span>: <span style=\"font-weight: bold\">{</span>\n",
       "            <span style=\"color: #008000; text-decoration-color: #008000\">'helpful'</span>: <span style=\"font-weight: bold\">{</span><span style=\"color: #008000; text-decoration-color: #008000\">'true_count'</span>: <span style=\"color: #008080; text-decoration-color: #008080; font-weight: bold\">5</span>, <span style=\"color: #008000; text-decoration-color: #008000\">'true_fraction'</span>: <span style=\"color: #008080; text-decoration-color: #008080; font-weight: bold\">0.5555555555555556</span><span style=\"font-weight: bold\">}</span>,\n",
       "            <span style=\"color: #008000; text-decoration-color: #008000\">'extras'</span>: <span style=\"font-weight: bold\">{</span><span style=\"color: #008000; text-decoration-color: #008000\">'label'</span>: <span style=\"font-weight: bold\">{</span><span style=\"color: #008000; text-decoration-color: #008000\">'mean'</span>: <span style=\"color: #008080; text-decoration-color: #008080; font-weight: bold\">0.5555555555555556</span><span style=\"font-weight: bold\">}</span>, <span style=\"color: #008000; text-decoration-color: #008000\">'score'</span>: <span style=\"font-weight: bold\">{</span><span style=\"color: #008000; text-decoration-color: #008000\">'mean'</span>: <span style=\"color: #008080; text-decoration-color: #008080; font-weight: bold\">0.6966763999727037</span><span style=\"font-weight: bold\">}}</span>\n",
       "        <span style=\"font-weight: bold\">}</span>,\n",
       "        <span style=\"color: #008000; text-decoration-color: #008000\">'bleu'</span>: <span style=\"font-weight: bold\">{</span><span style=\"color: #008000; text-decoration-color: #008000\">'mean'</span>: <span style=\"color: #008080; text-decoration-color: #008080; font-weight: bold\">0.10466258209035638</span><span style=\"font-weight: bold\">}</span>,\n",
       "        <span style=\"color: #008000; text-decoration-color: #008000\">'relevance'</span>: <span style=\"font-weight: bold\">{</span>\n",
       "            <span style=\"color: #008000; text-decoration-color: #008000\">'extras'</span>: <span style=\"font-weight: bold\">{</span><span style=\"color: #008000; text-decoration-color: #008000\">'label'</span>: <span style=\"font-weight: bold\">{</span><span style=\"color: #008000; text-decoration-color: #008000\">'mean'</span>: <span style=\"color: #008080; text-decoration-color: #008080; font-weight: bold\">0.5555555555555556</span><span style=\"font-weight: bold\">}</span>, <span style=\"color: #008000; text-decoration-color: #008000\">'score'</span>: <span style=\"font-weight: bold\">{</span><span style=\"color: #008000; text-decoration-color: #008000\">'mean'</span>: <span style=\"color: #008080; text-decoration-color: #008080; font-weight: bold\">0.6284174654218886</span><span style=\"font-weight: bold\">}}</span>,\n",
       "            <span style=\"color: #008000; text-decoration-color: #008000\">'relevant'</span>: <span style=\"font-weight: bold\">{</span><span style=\"color: #008000; text-decoration-color: #008000\">'true_count'</span>: <span style=\"color: #008080; text-decoration-color: #008080; font-weight: bold\">5</span>, <span style=\"color: #008000; text-decoration-color: #008000\">'true_fraction'</span>: <span style=\"color: #008080; text-decoration-color: #008080; font-weight: bold\">0.5555555555555556</span><span style=\"font-weight: bold\">}</span>\n",
       "        <span style=\"font-weight: bold\">}</span>,\n",
       "        <span style=\"color: #008000; text-decoration-color: #008000\">'diff'</span>: <span style=\"font-weight: bold\">{</span><span style=\"color: #008000; text-decoration-color: #008000\">'mean'</span>: <span style=\"color: #008080; text-decoration-color: #008080; font-weight: bold\">0.0672449432749076</span><span style=\"font-weight: bold\">}</span>,\n",
       "        <span style=\"color: #008000; text-decoration-color: #008000\">'meteor'</span>: <span style=\"font-weight: bold\">{</span><span style=\"color: #008000; text-decoration-color: #008000\">'mean'</span>: <span style=\"color: #008080; text-decoration-color: #008080; font-weight: bold\">0.27196666666666663</span><span style=\"font-weight: bold\">}</span>\n",
       "    <span style=\"font-weight: bold\">}</span>,\n",
       "    <span style=\"color: #008000; text-decoration-color: #008000\">'model_latency'</span>: <span style=\"font-weight: bold\">{</span><span style=\"color: #008000; text-decoration-color: #008000\">'mean'</span>: <span style=\"color: #008080; text-decoration-color: #008080; font-weight: bold\">3.828370147281223</span><span style=\"font-weight: bold\">}</span>\n",
       "<span style=\"font-weight: bold\">}</span>\n",
       "</pre>\n"
      ],
      "text/plain": [
       "Evaluation summary\n",
       "\u001b[1m{\u001b[0m\n",
       "    \u001b[32m'response_scorer'\u001b[0m: \u001b[1m{\u001b[0m\n",
       "        \u001b[32m'levenshtein'\u001b[0m: \u001b[1m{\u001b[0m\u001b[32m'mean'\u001b[0m: \u001b[1;36m0.46122580299789045\u001b[0m\u001b[1m}\u001b[0m,\n",
       "        \u001b[32m'rouge'\u001b[0m: \u001b[1m{\u001b[0m\u001b[32m'mean'\u001b[0m: \u001b[1;36m0.24124048407882295\u001b[0m\u001b[1m}\u001b[0m,\n",
       "        \u001b[32m'correctness'\u001b[0m: \u001b[1m{\u001b[0m\n",
       "            \u001b[32m'correct'\u001b[0m: \u001b[1m{\u001b[0m\u001b[32m'true_count'\u001b[0m: \u001b[1;36m3\u001b[0m, \u001b[32m'true_fraction'\u001b[0m: \u001b[1;36m0.3333333333333333\u001b[0m\u001b[1m}\u001b[0m,\n",
       "            \u001b[32m'extras'\u001b[0m: \u001b[1m{\u001b[0m\u001b[32m'label'\u001b[0m: \u001b[1m{\u001b[0m\u001b[32m'mean'\u001b[0m: \u001b[1;36m0.3333333333333333\u001b[0m\u001b[1m}\u001b[0m, \u001b[32m'score'\u001b[0m: \u001b[1m{\u001b[0m\u001b[32m'mean'\u001b[0m: \u001b[1;36m0.5612127516004775\u001b[0m\u001b[1m}\u001b[0m\u001b[1m}\u001b[0m\n",
       "        \u001b[1m}\u001b[0m,\n",
       "        \u001b[32m'helpfulness'\u001b[0m: \u001b[1m{\u001b[0m\n",
       "            \u001b[32m'helpful'\u001b[0m: \u001b[1m{\u001b[0m\u001b[32m'true_count'\u001b[0m: \u001b[1;36m5\u001b[0m, \u001b[32m'true_fraction'\u001b[0m: \u001b[1;36m0.5555555555555556\u001b[0m\u001b[1m}\u001b[0m,\n",
       "            \u001b[32m'extras'\u001b[0m: \u001b[1m{\u001b[0m\u001b[32m'label'\u001b[0m: \u001b[1m{\u001b[0m\u001b[32m'mean'\u001b[0m: \u001b[1;36m0.5555555555555556\u001b[0m\u001b[1m}\u001b[0m, \u001b[32m'score'\u001b[0m: \u001b[1m{\u001b[0m\u001b[32m'mean'\u001b[0m: \u001b[1;36m0.6966763999727037\u001b[0m\u001b[1m}\u001b[0m\u001b[1m}\u001b[0m\n",
       "        \u001b[1m}\u001b[0m,\n",
       "        \u001b[32m'bleu'\u001b[0m: \u001b[1m{\u001b[0m\u001b[32m'mean'\u001b[0m: \u001b[1;36m0.10466258209035638\u001b[0m\u001b[1m}\u001b[0m,\n",
       "        \u001b[32m'relevance'\u001b[0m: \u001b[1m{\u001b[0m\n",
       "            \u001b[32m'extras'\u001b[0m: \u001b[1m{\u001b[0m\u001b[32m'label'\u001b[0m: \u001b[1m{\u001b[0m\u001b[32m'mean'\u001b[0m: \u001b[1;36m0.5555555555555556\u001b[0m\u001b[1m}\u001b[0m, \u001b[32m'score'\u001b[0m: \u001b[1m{\u001b[0m\u001b[32m'mean'\u001b[0m: \u001b[1;36m0.6284174654218886\u001b[0m\u001b[1m}\u001b[0m\u001b[1m}\u001b[0m,\n",
       "            \u001b[32m'relevant'\u001b[0m: \u001b[1m{\u001b[0m\u001b[32m'true_count'\u001b[0m: \u001b[1;36m5\u001b[0m, \u001b[32m'true_fraction'\u001b[0m: \u001b[1;36m0.5555555555555556\u001b[0m\u001b[1m}\u001b[0m\n",
       "        \u001b[1m}\u001b[0m,\n",
       "        \u001b[32m'diff'\u001b[0m: \u001b[1m{\u001b[0m\u001b[32m'mean'\u001b[0m: \u001b[1;36m0.0672449432749076\u001b[0m\u001b[1m}\u001b[0m,\n",
       "        \u001b[32m'meteor'\u001b[0m: \u001b[1m{\u001b[0m\u001b[32m'mean'\u001b[0m: \u001b[1;36m0.27196666666666663\u001b[0m\u001b[1m}\u001b[0m\n",
       "    \u001b[1m}\u001b[0m,\n",
       "    \u001b[32m'model_latency'\u001b[0m: \u001b[1m{\u001b[0m\u001b[32m'mean'\u001b[0m: \u001b[1;36m3.828370147281223\u001b[0m\u001b[1m}\u001b[0m\n",
       "\u001b[1m}\u001b[0m\n"
      ]
     },
     "metadata": {},
     "output_type": "display_data"
    },
    {
     "name": "stdout",
     "output_type": "stream",
     "text": [
      "🍩 https://wandb.ai/a-sh0ts/rag-workshop-pc-nyc-3/r/call/01948fbc-c04c-7f50-a96b-524df962fd07\n"
     ]
    }
   ],
   "source": [
    "class BM25RAGPipeline(SimpleRAGPipeline):\n",
    "    pass\n",
    "\n",
    "\n",
    "bm25_rag_pipeline = BM25RAGPipeline(\n",
    "    retriever=bm25_retriever,\n",
    "    generator=simple_response_generator\n",
    ")\n",
    "\n",
    "response = await bm25_rag_pipeline.invoke(query=query)\n",
    "\n",
    "printmd(response[\"answer\"])\n",
    "\n",
    "response_scores = await response_evaluation.evaluate(\n",
    "    model=bm25_rag_pipeline,\n",
    "    __weave={\"display_name\": \"BM25 RAG Pipeline\"}\n",
    ")"
   ]
  },
  {
   "cell_type": "markdown",
   "metadata": {},
   "source": [
    "### Using Dense Retrieval\n",
    "\n",
    "Dense retrieval is a retrieval algorithm that uses the embeddings of the documents to retrieve the most relevant documents.\n",
    "\n",
    "While technically we can use any machine learning model to create embeddings, we will use the embeddings created by some pre-trained embedding model here. Specifically, we will use the embeddings created by the `MSFT -> multilingual-e5-large` embed API on Pinecone.\n",
    "\n",
    "We model this using the `DenseSearchEngine` class to create a search engine that uses the embeddings to retrieve the most relevant documents using cosine distance.\n",
    "\n",
    "The retrieved documents are more likely to be semantically relevant than being lexically similar i.e. they are likely to be similar to the query in terms of the semantic meaning of the words rather than the exact words that are used in the query.\n"
   ]
  },
  {
   "cell_type": "code",
   "execution_count": 32,
   "metadata": {},
   "outputs": [
    {
     "name": "stdout",
     "output_type": "stream",
     "text": [
      "🍩 https://wandb.ai/a-sh0ts/rag-workshop-pc-nyc-3/r/call/01948fbf-78bc-72b3-aa68-f2ae8584d3cb\n"
     ]
    },
    {
     "data": {
      "text/markdown": [
       "- score: 0.8334\n",
       "- metadata: WeaveDict({'source': '2022 Q3 AAPL.pdf', 'raw_tokens': 11081, 'file_type': 'pdf'})\n",
       "- chunk_number: 23\n",
       "- chunk_id: d33428f0dd6ff1183372542f1452fdb2\n",
       "- doc_id: d526fb0c9708ec6e7103a267f08b9a6a\n",
       "\n",
       "\n",
       "(2)Wearables, Home and Accessories net sales include sales of AirPods, Apple TV, Apple Watch, Beats products, HomePod mini and accessories.(3)Services net sales include sales from the Company’s advertising, AppleCare, cloud, digital content, payment and other services.Services net sales also include\n",
       "amortization of the deferred value of services bundled in the sales price of certain products.iPhone\n",
       "iPhone net sales increas ed during the third quarter and first nine months of 2022 compared to the same periods in 2021 due primarily to higher net sales from\n",
       "the Company’ s new iPhone models.Mac\n",
       "Mac net sales decrease d during the third quarter of 2022 compared to the third quarter of 2021 due primarily to lower net sales of MacBook Air and iMac ,\n",
       "partially offset by higher net sales of MacBook Pro.Year-over-year Mac net sales increased durin g the first nine months of 2022 due primarily to higher net sales\n",
       "of MacBook Pro, partially of fset by lower net sales of MacBook Air.iPad\n",
       "iPad net sales decrease d during the third quarter of 2022 compared to the third quarter of 2021  due primarily to lower net sales of iPad Pro , partially offset by\n",
       "higher net sales of all other iPad models.Year-ov er-year iPad net sales decreased during the first nine months of 2022 due primarily to lower net sales of the 10-\n",
       "inch version of iPad and iPad Air, partially of fset by higher net sales of iPad mini .Wearables, Home and Accessories\n",
       "Wearables, Home and Accessories net sales decreased during the third quarter of 2022 compared to the third quarter of 2021 due primarily to lower net sales of\n",
       "AirPods and Apple Watch.Year-over-year Wearables, Home and Accessories net sales increased  during the first nine months of 2022 due primarily to higher net\n",
       "sales of Apple W atch and AirPods.(1)\n",
       "(1)\n",
       " (1)\n",
       "(1)(2)\n",
       "(3)\n",
       "®\n",
       "®\n",
       "® ®\n",
       "Apple Inc. | Q3 2022 Form 10-Q | 15Services\n",
       "Services net sales increased during the third quarter of 2022 compared to the third quarter of 2021 due primarily to higher net sales from advertising, cloud\n",
       "services and AppleCare.\n",
       "\n",
       "---\n",
       "\n"
      ],
      "text/plain": [
       "<IPython.core.display.Markdown object>"
      ]
     },
     "metadata": {},
     "output_type": "display_data"
    },
    {
     "data": {
      "text/markdown": [
       "- score: 0.8311\n",
       "- metadata: WeaveDict({'source': '2023 Q2 AAPL.pdf', 'raw_tokens': 10826, 'file_type': 'pdf'})\n",
       "- chunk_number: 26\n",
       "- chunk_id: dcedbab758188c3a7480d2fae442d427\n",
       "- doc_id: 892ac7f7702cd56f574dae211e89bfa9\n",
       "\n",
       "\n",
       "Apple Inc. | Q2 2023 Form 10-Q | 15Products and Services Performance\n",
       "The following table shows net sales by category for the three- and six-month periods ended April 1, 2023 and March 26, 2022 (dollars in millions):\n",
       "Three Months Ended Six Months Ended\n",
       "April 1,\n",
       "2023March 26,\n",
       "2022 ChangeApril 1,\n",
       "2023March 26,\n",
       "2022 Change\n",
       "Net sales by category:\n",
       "iPhone $ 51,334 $ 50,570 2 %$ 117,109 $ 122,198 (4)%\n",
       "Mac 7,168 10,435 (31)% 14,903 21,287 (30)%\n",
       "iPad 6,670 7,646 (13)% 16,066 14,894 8 %\n",
       "Wearables, Home and Accessories 8,757 8,806 (1)% 22,239 23,507 (5)%\n",
       "Services 20,907 19,821 5 % 41,673 39,337 6 %\n",
       "Total net sales $ 94,836 $ 97,278 (3)%$ 211,990 $ 221,223 (4)%\n",
       "iPhone\n",
       "iPhone net sales were relatively flat during the second quarter of 2023 compared to the secon d quarter of 2022.Year-over-year iPhone net sales decreased\n",
       "during the first six months of 2023 due primarily to lower net sales from the Company’ s new iPhone models launched in the fourth quarter of 2022.Mac\n",
       "Mac net sales decreased during the second quarter and first six months of 2023 compared to the same periods in 2022 due primarily to lower net sales of\n",
       "MacBook Pro.iPad\n",
       "iPad net sales decreased during the second quarter of 2023 compared to the second quarter of 2022 due primarily to lower net sales of iPad Pro  and iPad Air.Year-over-year iPad net sales increased during the first six months of 2023 due primarily to higher net sales of iPad, partially offset by lower net sales of iPad\n",
       "mini .Wearables, Home and Accessories\n",
       "Wearables, Home and Accessories net sales were relatively flat during the second quarter of 2023 compared to the second quarter of 2022.\n",
       "\n",
       "---\n",
       "\n"
      ],
      "text/plain": [
       "<IPython.core.display.Markdown object>"
      ]
     },
     "metadata": {},
     "output_type": "display_data"
    },
    {
     "data": {
      "text/markdown": [
       "- score: 0.829\n",
       "- metadata: WeaveDict({'source': '2023 Q2 AAPL.pdf', 'raw_tokens': 10826, 'file_type': 'pdf'})\n",
       "- chunk_number: 25\n",
       "- chunk_id: edcf32124b6d8e0c6c6e4cc143b055a3\n",
       "- doc_id: 892ac7f7702cd56f574dae211e89bfa9\n",
       "\n",
       "\n",
       "During the first six months of 2023, the Europe net sales decrease consis ted primarily of lower net sales of Mac, partially offset by higher\n",
       "net sales of iPhone.Greater China\n",
       "The weakness in the renminbi relative to the U.S. dollar had an unfavorable year-over-year impact on Greater China net sales during the second quarter and\n",
       "first six months of 2023.During the second quarter and first six months of 2023, the Greater China net sales decrease consisted primarily of lower net sales of\n",
       "iPhone and Mac.Japan\n",
       "The weakness in the yen relative to the U.S. dollar had an unfavorable year-over-year impact on Japan net sales during the second quarter and first six months\n",
       "of 2023.During the second quarter of 2023, the Japan net sales decrease consisted primarily of lower net sales of iPad, Services and iPhone.During the first six\n",
       "months of 2023, the Japan net sales decrease consisted primarily of lower net sales of Services, W earables, Home and Accessories and Mac.Rest of Asia Pacific\n",
       "The weakness in foreign currencies relative to the U.S. dollar had an unfavorable year-over-year impact on Rest of Asia Pacific net sales during the second\n",
       "quarter and first six months of 2023.During the second quarter and first six months of 2023, the Rest of Asia Pacific net sales increase consisted primarily of\n",
       "higher net sales of iPhone, partially of fset by lower net sales of Mac.\n",
       "\n",
       "---\n",
       "\n"
      ],
      "text/plain": [
       "<IPython.core.display.Markdown object>"
      ]
     },
     "metadata": {},
     "output_type": "display_data"
    },
    {
     "data": {
      "text/markdown": [
       "- score: 0.8263\n",
       "- metadata: WeaveDict({'source': '2023 Q1 AAPL.pdf', 'raw_tokens': 19713, 'file_type': 'pdf'})\n",
       "- chunk_number: 25\n",
       "- chunk_id: 08b9afbc4602c0acf9a05d7ebed88bb0\n",
       "- doc_id: a1c822cc02697e5675aaa83c47357247\n",
       "\n",
       "\n",
       "Rest of Asia Pacific\n",
       "Rest of Asia Pacific net sales decreased during the first quarter of 2023 compared to the same quarter in 2022 due to the weakness in foreign currencies relative\n",
       "to the U.S. dollar .The weakness in foreign curre ncies contributed to lower net sales of iPhone and Mac, which was partially offset by higher net sales of Services\n",
       "and iPad.Products and Services Performance\n",
       "The following table shows net sales by category for the three months ended December 31, 2022 and December 25, 2021 (dollars in millions):\n",
       "Three Months Ended\n",
       "December 31,\n",
       "2022December 25,\n",
       "2021 Change\n",
       "Net sales by category:\n",
       "iPhone $ 65,775 $ 71,628 (8)%\n",
       "Mac 7,735 10,852 (29)%\n",
       "iPad 9,396 7,248 30 %\n",
       "Wearables, Home and Accessories 13,482 14,701 (8)%\n",
       "Services 20,766 19,516 6 %\n",
       "Total net sales $ 117,154 $ 123,945 (5)%\n",
       "(1)Products net sales include amortization of the deferred value of unspecified software upgrade rights, which are bundled in the sales price of the respective\n",
       "product.(2)Wearables, Home and Accessories net sales include sales of AirPods, Apple TV, Apple Watch, Beats products, HomePod mini and accessories.(3)Services net sales include sales from the Company’s advertising, AppleCare, cloud, digital content, payment and other services.Services net sales also include\n",
       "amortization of the deferred value of services bundled in the sales price of certain products.iPhone\n",
       "iPhone net sales decreased during the first quarter of 2023 compared to the same quarter in 2022 due primarily to lower net sales from the Company’ s new\n",
       "iPhone models launched in the fourth quarter of 2022.Mac\n",
       "Mac net sales decreased during the first quarter of 2023 compared to the same quarter in 2022 due primarily to lower net sales of MacBook Pro .iPad\n",
       "iPad net sales increased during the first quarter of 2023 compared to the same quarter in 2022 due primarily to higher net sales of iPad and iPad Air.\n",
       "\n",
       "---\n",
       "\n"
      ],
      "text/plain": [
       "<IPython.core.display.Markdown object>"
      ]
     },
     "metadata": {},
     "output_type": "display_data"
    },
    {
     "data": {
      "text/markdown": [
       "- score: 0.8237\n",
       "- metadata: WeaveDict({'source': '2023 Q3 AAPL.pdf', 'raw_tokens': 10898, 'file_type': 'pdf'})\n",
       "- chunk_number: 27\n",
       "- chunk_id: d4bde8367402ec76fb4ebd18b5078d6d\n",
       "- doc_id: a4d28158d90e45af01c17fa1bf5fe6f9\n",
       "\n",
       "\n",
       "Apple Inc. | Q3 2023 Form 10-Q | 15Products and Services Performance\n",
       "The following table shows net sales by category for the three- and nine-month periods ended July 1, 2023 and June 25, 2022 (dollars in millions):\n",
       "Three Months Ended Nine Months Ended\n",
       "July 1,\n",
       "2023June 25,\n",
       "2022 ChangeJuly 1,\n",
       "2023June 25,\n",
       "2022 Change\n",
       "Net sales by category:\n",
       "iPhone $ 39,669 $ 40,665 (2)%$ 156,778 $ 162,863 (4)%\n",
       "Mac 6,840 7,382 (7)% 21,743 28,669 (24)%\n",
       "iPad 5,791 7,224 (20)% 21,857 22,118 (1)%\n",
       "Wearables, Home and Accessories 8,284 8,084 2 % 30,523 31,591 (3)%\n",
       "Services 21,213 19,604 8 % 62,886 58,941 7 %\n",
       "Total net sales $ 81,797 $ 82,959 (1)%$ 293,787 $ 304,182 (3)%\n",
       "iPhone\n",
       "iPhone net sales decreased during the third quarter and first nine months of 2023 compared to the same periods in 2022 due primarily to lower net sales from\n",
       "certain iPhone models, partially of fset by higher net sales of iPhone 14 Pro models.Mac\n",
       "Mac net sales decreased during the third quarter and first nine months of 2023 compared to the same periods in 2022 due primarily to lower net sales of laptops.iPad\n",
       "iPad net sales decreased during the third quarter of 2023 compared to the third quarter of 2022 due primarily to lower net sales across most iPad models.Year-\n",
       "over-year iPad net sales were relatively flat during the first nine months of 2023.Wearables, Home and Accessories\n",
       "Wearables, Home and Accessories net sales increased during the third quarter of 2023 compare d to the third quarter of 2022 due primarily to higher net sales of\n",
       "Wearables, which includes AirPods , Apple Watch  and Beats  products, partially offset by lower net sales of accessories.\n",
       "\n",
       "---\n",
       "\n"
      ],
      "text/plain": [
       "<IPython.core.display.Markdown object>"
      ]
     },
     "metadata": {},
     "output_type": "display_data"
    },
    {
     "data": {
      "text/html": [
       "<pre style=\"white-space:pre;overflow-x:auto;line-height:normal;font-family:Menlo,'DejaVu Sans Mono',consolas,'Courier New',monospace\">Evaluated <span style=\"color: #008080; text-decoration-color: #008080; font-weight: bold\">1</span> of <span style=\"color: #008080; text-decoration-color: #008080; font-weight: bold\">9</span> examples\n",
       "</pre>\n"
      ],
      "text/plain": [
       "Evaluated \u001b[1;36m1\u001b[0m of \u001b[1;36m9\u001b[0m examples\n"
      ]
     },
     "metadata": {},
     "output_type": "display_data"
    },
    {
     "data": {
      "text/html": [
       "<pre style=\"white-space:pre;overflow-x:auto;line-height:normal;font-family:Menlo,'DejaVu Sans Mono',consolas,'Courier New',monospace\">Evaluated <span style=\"color: #008080; text-decoration-color: #008080; font-weight: bold\">2</span> of <span style=\"color: #008080; text-decoration-color: #008080; font-weight: bold\">9</span> examples\n",
       "</pre>\n"
      ],
      "text/plain": [
       "Evaluated \u001b[1;36m2\u001b[0m of \u001b[1;36m9\u001b[0m examples\n"
      ]
     },
     "metadata": {},
     "output_type": "display_data"
    },
    {
     "data": {
      "text/html": [
       "<pre style=\"white-space:pre;overflow-x:auto;line-height:normal;font-family:Menlo,'DejaVu Sans Mono',consolas,'Courier New',monospace\">Evaluated <span style=\"color: #008080; text-decoration-color: #008080; font-weight: bold\">3</span> of <span style=\"color: #008080; text-decoration-color: #008080; font-weight: bold\">9</span> examples\n",
       "</pre>\n"
      ],
      "text/plain": [
       "Evaluated \u001b[1;36m3\u001b[0m of \u001b[1;36m9\u001b[0m examples\n"
      ]
     },
     "metadata": {},
     "output_type": "display_data"
    },
    {
     "data": {
      "text/html": [
       "<pre style=\"white-space:pre;overflow-x:auto;line-height:normal;font-family:Menlo,'DejaVu Sans Mono',consolas,'Courier New',monospace\">Evaluated <span style=\"color: #008080; text-decoration-color: #008080; font-weight: bold\">4</span> of <span style=\"color: #008080; text-decoration-color: #008080; font-weight: bold\">9</span> examples\n",
       "</pre>\n"
      ],
      "text/plain": [
       "Evaluated \u001b[1;36m4\u001b[0m of \u001b[1;36m9\u001b[0m examples\n"
      ]
     },
     "metadata": {},
     "output_type": "display_data"
    },
    {
     "data": {
      "text/html": [
       "<pre style=\"white-space:pre;overflow-x:auto;line-height:normal;font-family:Menlo,'DejaVu Sans Mono',consolas,'Courier New',monospace\">Evaluated <span style=\"color: #008080; text-decoration-color: #008080; font-weight: bold\">5</span> of <span style=\"color: #008080; text-decoration-color: #008080; font-weight: bold\">9</span> examples\n",
       "</pre>\n"
      ],
      "text/plain": [
       "Evaluated \u001b[1;36m5\u001b[0m of \u001b[1;36m9\u001b[0m examples\n"
      ]
     },
     "metadata": {},
     "output_type": "display_data"
    },
    {
     "data": {
      "text/html": [
       "<pre style=\"white-space:pre;overflow-x:auto;line-height:normal;font-family:Menlo,'DejaVu Sans Mono',consolas,'Courier New',monospace\">Evaluated <span style=\"color: #008080; text-decoration-color: #008080; font-weight: bold\">6</span> of <span style=\"color: #008080; text-decoration-color: #008080; font-weight: bold\">9</span> examples\n",
       "</pre>\n"
      ],
      "text/plain": [
       "Evaluated \u001b[1;36m6\u001b[0m of \u001b[1;36m9\u001b[0m examples\n"
      ]
     },
     "metadata": {},
     "output_type": "display_data"
    },
    {
     "data": {
      "text/html": [
       "<pre style=\"white-space:pre;overflow-x:auto;line-height:normal;font-family:Menlo,'DejaVu Sans Mono',consolas,'Courier New',monospace\">Evaluated <span style=\"color: #008080; text-decoration-color: #008080; font-weight: bold\">7</span> of <span style=\"color: #008080; text-decoration-color: #008080; font-weight: bold\">9</span> examples\n",
       "</pre>\n"
      ],
      "text/plain": [
       "Evaluated \u001b[1;36m7\u001b[0m of \u001b[1;36m9\u001b[0m examples\n"
      ]
     },
     "metadata": {},
     "output_type": "display_data"
    },
    {
     "data": {
      "text/html": [
       "<pre style=\"white-space:pre;overflow-x:auto;line-height:normal;font-family:Menlo,'DejaVu Sans Mono',consolas,'Courier New',monospace\">Evaluated <span style=\"color: #008080; text-decoration-color: #008080; font-weight: bold\">8</span> of <span style=\"color: #008080; text-decoration-color: #008080; font-weight: bold\">9</span> examples\n",
       "</pre>\n"
      ],
      "text/plain": [
       "Evaluated \u001b[1;36m8\u001b[0m of \u001b[1;36m9\u001b[0m examples\n"
      ]
     },
     "metadata": {},
     "output_type": "display_data"
    },
    {
     "data": {
      "text/html": [
       "<pre style=\"white-space:pre;overflow-x:auto;line-height:normal;font-family:Menlo,'DejaVu Sans Mono',consolas,'Courier New',monospace\">Evaluated <span style=\"color: #008080; text-decoration-color: #008080; font-weight: bold\">9</span> of <span style=\"color: #008080; text-decoration-color: #008080; font-weight: bold\">9</span> examples\n",
       "</pre>\n"
      ],
      "text/plain": [
       "Evaluated \u001b[1;36m9\u001b[0m of \u001b[1;36m9\u001b[0m examples\n"
      ]
     },
     "metadata": {},
     "output_type": "display_data"
    },
    {
     "data": {
      "text/html": [
       "<pre style=\"white-space:pre;overflow-x:auto;line-height:normal;font-family:Menlo,'DejaVu Sans Mono',consolas,'Courier New',monospace\">Evaluation summary\n",
       "<span style=\"font-weight: bold\">{</span>\n",
       "    <span style=\"color: #008000; text-decoration-color: #008000\">'retrieval_scorer'</span>: <span style=\"font-weight: bold\">{</span>\n",
       "        <span style=\"color: #008000; text-decoration-color: #008000\">'precision'</span>: <span style=\"font-weight: bold\">{</span><span style=\"color: #008000; text-decoration-color: #008000\">'mean'</span>: <span style=\"color: #008080; text-decoration-color: #008080; font-weight: bold\">0.43333333333333335</span><span style=\"font-weight: bold\">}</span>,\n",
       "        <span style=\"color: #008000; text-decoration-color: #008000\">'hit_rate'</span>: <span style=\"font-weight: bold\">{</span><span style=\"color: #008000; text-decoration-color: #008000\">'mean'</span>: <span style=\"color: #008080; text-decoration-color: #008080; font-weight: bold\">0.4444444444444444</span><span style=\"font-weight: bold\">}</span>,\n",
       "        <span style=\"color: #008000; text-decoration-color: #008000\">'map'</span>: <span style=\"font-weight: bold\">{</span><span style=\"color: #008000; text-decoration-color: #008000\">'mean'</span>: <span style=\"color: #008080; text-decoration-color: #008080; font-weight: bold\">0.5675925925925925</span><span style=\"font-weight: bold\">}</span>,\n",
       "        <span style=\"color: #008000; text-decoration-color: #008000\">'relevance'</span>: <span style=\"font-weight: bold\">{</span><span style=\"color: #008000; text-decoration-color: #008000\">'mean'</span>: <span style=\"color: #008080; text-decoration-color: #008080; font-weight: bold\">0.0</span><span style=\"font-weight: bold\">}</span>,\n",
       "        <span style=\"color: #008000; text-decoration-color: #008000\">'relevance_score'</span>: <span style=\"font-weight: bold\">{</span><span style=\"color: #008000; text-decoration-color: #008000\">'mean'</span>: <span style=\"color: #008080; text-decoration-color: #008080; font-weight: bold\">0.28873333333333334</span><span style=\"font-weight: bold\">}</span>,\n",
       "        <span style=\"color: #008000; text-decoration-color: #008000\">'mrr'</span>: <span style=\"font-weight: bold\">{</span><span style=\"color: #008000; text-decoration-color: #008000\">'mean'</span>: <span style=\"color: #008080; text-decoration-color: #008080; font-weight: bold\">0.20962962962962964</span><span style=\"font-weight: bold\">}</span>,\n",
       "        <span style=\"color: #008000; text-decoration-color: #008000\">'ndcg'</span>: <span style=\"font-weight: bold\">{</span><span style=\"color: #008000; text-decoration-color: #008000\">'mean'</span>: <span style=\"color: #008080; text-decoration-color: #008080; font-weight: bold\">0.44047974417752894</span><span style=\"font-weight: bold\">}</span>,\n",
       "        <span style=\"color: #008000; text-decoration-color: #008000\">'f1_score'</span>: <span style=\"font-weight: bold\">{</span><span style=\"color: #008000; text-decoration-color: #008000\">'mean'</span>: <span style=\"color: #008080; text-decoration-color: #008080; font-weight: bold\">0.4611992945326279</span><span style=\"font-weight: bold\">}</span>,\n",
       "        <span style=\"color: #008000; text-decoration-color: #008000\">'recall'</span>: <span style=\"font-weight: bold\">{</span><span style=\"color: #008000; text-decoration-color: #008000\">'mean'</span>: <span style=\"color: #008080; text-decoration-color: #008080; font-weight: bold\">0.5833333333333334</span><span style=\"font-weight: bold\">}</span>\n",
       "    <span style=\"font-weight: bold\">}</span>,\n",
       "    <span style=\"color: #008000; text-decoration-color: #008000\">'model_latency'</span>: <span style=\"font-weight: bold\">{</span><span style=\"color: #008000; text-decoration-color: #008000\">'mean'</span>: <span style=\"color: #008080; text-decoration-color: #008080; font-weight: bold\">0.7926590177747939</span><span style=\"font-weight: bold\">}</span>\n",
       "<span style=\"font-weight: bold\">}</span>\n",
       "</pre>\n"
      ],
      "text/plain": [
       "Evaluation summary\n",
       "\u001b[1m{\u001b[0m\n",
       "    \u001b[32m'retrieval_scorer'\u001b[0m: \u001b[1m{\u001b[0m\n",
       "        \u001b[32m'precision'\u001b[0m: \u001b[1m{\u001b[0m\u001b[32m'mean'\u001b[0m: \u001b[1;36m0.43333333333333335\u001b[0m\u001b[1m}\u001b[0m,\n",
       "        \u001b[32m'hit_rate'\u001b[0m: \u001b[1m{\u001b[0m\u001b[32m'mean'\u001b[0m: \u001b[1;36m0.4444444444444444\u001b[0m\u001b[1m}\u001b[0m,\n",
       "        \u001b[32m'map'\u001b[0m: \u001b[1m{\u001b[0m\u001b[32m'mean'\u001b[0m: \u001b[1;36m0.5675925925925925\u001b[0m\u001b[1m}\u001b[0m,\n",
       "        \u001b[32m'relevance'\u001b[0m: \u001b[1m{\u001b[0m\u001b[32m'mean'\u001b[0m: \u001b[1;36m0.0\u001b[0m\u001b[1m}\u001b[0m,\n",
       "        \u001b[32m'relevance_score'\u001b[0m: \u001b[1m{\u001b[0m\u001b[32m'mean'\u001b[0m: \u001b[1;36m0.28873333333333334\u001b[0m\u001b[1m}\u001b[0m,\n",
       "        \u001b[32m'mrr'\u001b[0m: \u001b[1m{\u001b[0m\u001b[32m'mean'\u001b[0m: \u001b[1;36m0.20962962962962964\u001b[0m\u001b[1m}\u001b[0m,\n",
       "        \u001b[32m'ndcg'\u001b[0m: \u001b[1m{\u001b[0m\u001b[32m'mean'\u001b[0m: \u001b[1;36m0.44047974417752894\u001b[0m\u001b[1m}\u001b[0m,\n",
       "        \u001b[32m'f1_score'\u001b[0m: \u001b[1m{\u001b[0m\u001b[32m'mean'\u001b[0m: \u001b[1;36m0.4611992945326279\u001b[0m\u001b[1m}\u001b[0m,\n",
       "        \u001b[32m'recall'\u001b[0m: \u001b[1m{\u001b[0m\u001b[32m'mean'\u001b[0m: \u001b[1;36m0.5833333333333334\u001b[0m\u001b[1m}\u001b[0m\n",
       "    \u001b[1m}\u001b[0m,\n",
       "    \u001b[32m'model_latency'\u001b[0m: \u001b[1m{\u001b[0m\u001b[32m'mean'\u001b[0m: \u001b[1;36m0.7926590177747939\u001b[0m\u001b[1m}\u001b[0m\n",
       "\u001b[1m}\u001b[0m\n"
      ]
     },
     "metadata": {},
     "output_type": "display_data"
    },
    {
     "name": "stdout",
     "output_type": "stream",
     "text": [
      "🍩 https://wandb.ai/a-sh0ts/rag-workshop-pc-nyc-3/r/call/01948fbf-7b6e-7be3-a470-1a7975f139fc\n"
     ]
    },
    {
     "data": {
      "text/html": [
       "<pre style=\"white-space:pre;overflow-x:auto;line-height:normal;font-family:Menlo,'DejaVu Sans Mono',consolas,'Courier New',monospace\">Evaluated <span style=\"color: #008080; text-decoration-color: #008080; font-weight: bold\">1</span> of <span style=\"color: #008080; text-decoration-color: #008080; font-weight: bold\">9</span> examples\n",
       "</pre>\n"
      ],
      "text/plain": [
       "Evaluated \u001b[1;36m1\u001b[0m of \u001b[1;36m9\u001b[0m examples\n"
      ]
     },
     "metadata": {},
     "output_type": "display_data"
    },
    {
     "data": {
      "text/html": [
       "<pre style=\"white-space:pre;overflow-x:auto;line-height:normal;font-family:Menlo,'DejaVu Sans Mono',consolas,'Courier New',monospace\">Evaluated <span style=\"color: #008080; text-decoration-color: #008080; font-weight: bold\">2</span> of <span style=\"color: #008080; text-decoration-color: #008080; font-weight: bold\">9</span> examples\n",
       "</pre>\n"
      ],
      "text/plain": [
       "Evaluated \u001b[1;36m2\u001b[0m of \u001b[1;36m9\u001b[0m examples\n"
      ]
     },
     "metadata": {},
     "output_type": "display_data"
    },
    {
     "data": {
      "text/html": [
       "<pre style=\"white-space:pre;overflow-x:auto;line-height:normal;font-family:Menlo,'DejaVu Sans Mono',consolas,'Courier New',monospace\">Evaluated <span style=\"color: #008080; text-decoration-color: #008080; font-weight: bold\">3</span> of <span style=\"color: #008080; text-decoration-color: #008080; font-weight: bold\">9</span> examples\n",
       "</pre>\n"
      ],
      "text/plain": [
       "Evaluated \u001b[1;36m3\u001b[0m of \u001b[1;36m9\u001b[0m examples\n"
      ]
     },
     "metadata": {},
     "output_type": "display_data"
    },
    {
     "data": {
      "text/html": [
       "<pre style=\"white-space:pre;overflow-x:auto;line-height:normal;font-family:Menlo,'DejaVu Sans Mono',consolas,'Courier New',monospace\">Evaluated <span style=\"color: #008080; text-decoration-color: #008080; font-weight: bold\">4</span> of <span style=\"color: #008080; text-decoration-color: #008080; font-weight: bold\">9</span> examples\n",
       "</pre>\n"
      ],
      "text/plain": [
       "Evaluated \u001b[1;36m4\u001b[0m of \u001b[1;36m9\u001b[0m examples\n"
      ]
     },
     "metadata": {},
     "output_type": "display_data"
    },
    {
     "data": {
      "text/html": [
       "<pre style=\"white-space:pre;overflow-x:auto;line-height:normal;font-family:Menlo,'DejaVu Sans Mono',consolas,'Courier New',monospace\">Evaluated <span style=\"color: #008080; text-decoration-color: #008080; font-weight: bold\">5</span> of <span style=\"color: #008080; text-decoration-color: #008080; font-weight: bold\">9</span> examples\n",
       "</pre>\n"
      ],
      "text/plain": [
       "Evaluated \u001b[1;36m5\u001b[0m of \u001b[1;36m9\u001b[0m examples\n"
      ]
     },
     "metadata": {},
     "output_type": "display_data"
    },
    {
     "data": {
      "text/html": [
       "<pre style=\"white-space:pre;overflow-x:auto;line-height:normal;font-family:Menlo,'DejaVu Sans Mono',consolas,'Courier New',monospace\">Evaluated <span style=\"color: #008080; text-decoration-color: #008080; font-weight: bold\">6</span> of <span style=\"color: #008080; text-decoration-color: #008080; font-weight: bold\">9</span> examples\n",
       "</pre>\n"
      ],
      "text/plain": [
       "Evaluated \u001b[1;36m6\u001b[0m of \u001b[1;36m9\u001b[0m examples\n"
      ]
     },
     "metadata": {},
     "output_type": "display_data"
    },
    {
     "data": {
      "text/html": [
       "<pre style=\"white-space:pre;overflow-x:auto;line-height:normal;font-family:Menlo,'DejaVu Sans Mono',consolas,'Courier New',monospace\">Evaluated <span style=\"color: #008080; text-decoration-color: #008080; font-weight: bold\">7</span> of <span style=\"color: #008080; text-decoration-color: #008080; font-weight: bold\">9</span> examples\n",
       "</pre>\n"
      ],
      "text/plain": [
       "Evaluated \u001b[1;36m7\u001b[0m of \u001b[1;36m9\u001b[0m examples\n"
      ]
     },
     "metadata": {},
     "output_type": "display_data"
    },
    {
     "data": {
      "text/html": [
       "<pre style=\"white-space:pre;overflow-x:auto;line-height:normal;font-family:Menlo,'DejaVu Sans Mono',consolas,'Courier New',monospace\">Evaluated <span style=\"color: #008080; text-decoration-color: #008080; font-weight: bold\">8</span> of <span style=\"color: #008080; text-decoration-color: #008080; font-weight: bold\">9</span> examples\n",
       "</pre>\n"
      ],
      "text/plain": [
       "Evaluated \u001b[1;36m8\u001b[0m of \u001b[1;36m9\u001b[0m examples\n"
      ]
     },
     "metadata": {},
     "output_type": "display_data"
    },
    {
     "data": {
      "text/html": [
       "<pre style=\"white-space:pre;overflow-x:auto;line-height:normal;font-family:Menlo,'DejaVu Sans Mono',consolas,'Courier New',monospace\">Evaluated <span style=\"color: #008080; text-decoration-color: #008080; font-weight: bold\">9</span> of <span style=\"color: #008080; text-decoration-color: #008080; font-weight: bold\">9</span> examples\n",
       "</pre>\n"
      ],
      "text/plain": [
       "Evaluated \u001b[1;36m9\u001b[0m of \u001b[1;36m9\u001b[0m examples\n"
      ]
     },
     "metadata": {},
     "output_type": "display_data"
    },
    {
     "data": {
      "text/html": [
       "<pre style=\"white-space:pre;overflow-x:auto;line-height:normal;font-family:Menlo,'DejaVu Sans Mono',consolas,'Courier New',monospace\">Evaluation summary\n",
       "<span style=\"font-weight: bold\">{</span>\n",
       "    <span style=\"color: #008000; text-decoration-color: #008000\">'response_scorer'</span>: <span style=\"font-weight: bold\">{</span>\n",
       "        <span style=\"color: #008000; text-decoration-color: #008000\">'levenshtein'</span>: <span style=\"font-weight: bold\">{</span><span style=\"color: #008000; text-decoration-color: #008000\">'mean'</span>: <span style=\"color: #008080; text-decoration-color: #008080; font-weight: bold\">0.42383276036565865</span><span style=\"font-weight: bold\">}</span>,\n",
       "        <span style=\"color: #008000; text-decoration-color: #008000\">'rouge'</span>: <span style=\"font-weight: bold\">{</span><span style=\"color: #008000; text-decoration-color: #008000\">'mean'</span>: <span style=\"color: #008080; text-decoration-color: #008080; font-weight: bold\">0.22455481785426695</span><span style=\"font-weight: bold\">}</span>,\n",
       "        <span style=\"color: #008000; text-decoration-color: #008000\">'correctness'</span>: <span style=\"font-weight: bold\">{</span>\n",
       "            <span style=\"color: #008000; text-decoration-color: #008000\">'correct'</span>: <span style=\"font-weight: bold\">{</span><span style=\"color: #008000; text-decoration-color: #008000\">'true_count'</span>: <span style=\"color: #008080; text-decoration-color: #008080; font-weight: bold\">3</span>, <span style=\"color: #008000; text-decoration-color: #008000\">'true_fraction'</span>: <span style=\"color: #008080; text-decoration-color: #008080; font-weight: bold\">0.3333333333333333</span><span style=\"font-weight: bold\">}</span>,\n",
       "            <span style=\"color: #008000; text-decoration-color: #008000\">'extras'</span>: <span style=\"font-weight: bold\">{</span><span style=\"color: #008000; text-decoration-color: #008000\">'label'</span>: <span style=\"font-weight: bold\">{</span><span style=\"color: #008000; text-decoration-color: #008000\">'mean'</span>: <span style=\"color: #008080; text-decoration-color: #008080; font-weight: bold\">0.3333333333333333</span><span style=\"font-weight: bold\">}</span>, <span style=\"color: #008000; text-decoration-color: #008000\">'score'</span>: <span style=\"font-weight: bold\">{</span><span style=\"color: #008000; text-decoration-color: #008000\">'mean'</span>: <span style=\"color: #008080; text-decoration-color: #008080; font-weight: bold\">0.5715938210487366</span><span style=\"font-weight: bold\">}}</span>\n",
       "        <span style=\"font-weight: bold\">}</span>,\n",
       "        <span style=\"color: #008000; text-decoration-color: #008000\">'helpfulness'</span>: <span style=\"font-weight: bold\">{</span>\n",
       "            <span style=\"color: #008000; text-decoration-color: #008000\">'helpful'</span>: <span style=\"font-weight: bold\">{</span><span style=\"color: #008000; text-decoration-color: #008000\">'true_count'</span>: <span style=\"color: #008080; text-decoration-color: #008080; font-weight: bold\">7</span>, <span style=\"color: #008000; text-decoration-color: #008000\">'true_fraction'</span>: <span style=\"color: #008080; text-decoration-color: #008080; font-weight: bold\">0.7777777777777778</span><span style=\"font-weight: bold\">}</span>,\n",
       "            <span style=\"color: #008000; text-decoration-color: #008000\">'extras'</span>: <span style=\"font-weight: bold\">{</span><span style=\"color: #008000; text-decoration-color: #008000\">'label'</span>: <span style=\"font-weight: bold\">{</span><span style=\"color: #008000; text-decoration-color: #008000\">'mean'</span>: <span style=\"color: #008080; text-decoration-color: #008080; font-weight: bold\">0.7777777777777778</span><span style=\"font-weight: bold\">}</span>, <span style=\"color: #008000; text-decoration-color: #008000\">'score'</span>: <span style=\"font-weight: bold\">{</span><span style=\"color: #008000; text-decoration-color: #008000\">'mean'</span>: <span style=\"color: #008080; text-decoration-color: #008080; font-weight: bold\">0.8763572573661804</span><span style=\"font-weight: bold\">}}</span>\n",
       "        <span style=\"font-weight: bold\">}</span>,\n",
       "        <span style=\"color: #008000; text-decoration-color: #008000\">'bleu'</span>: <span style=\"font-weight: bold\">{</span><span style=\"color: #008000; text-decoration-color: #008000\">'mean'</span>: <span style=\"color: #008080; text-decoration-color: #008080; font-weight: bold\">0.07777881029510328</span><span style=\"font-weight: bold\">}</span>,\n",
       "        <span style=\"color: #008000; text-decoration-color: #008000\">'relevance'</span>: <span style=\"font-weight: bold\">{</span>\n",
       "            <span style=\"color: #008000; text-decoration-color: #008000\">'extras'</span>: <span style=\"font-weight: bold\">{</span><span style=\"color: #008000; text-decoration-color: #008000\">'label'</span>: <span style=\"font-weight: bold\">{</span><span style=\"color: #008000; text-decoration-color: #008000\">'mean'</span>: <span style=\"color: #008080; text-decoration-color: #008080; font-weight: bold\">0.7777777777777778</span><span style=\"font-weight: bold\">}</span>, <span style=\"color: #008000; text-decoration-color: #008000\">'score'</span>: <span style=\"font-weight: bold\">{</span><span style=\"color: #008000; text-decoration-color: #008000\">'mean'</span>: <span style=\"color: #008080; text-decoration-color: #008080; font-weight: bold\">0.8035142289267646</span><span style=\"font-weight: bold\">}}</span>,\n",
       "            <span style=\"color: #008000; text-decoration-color: #008000\">'relevant'</span>: <span style=\"font-weight: bold\">{</span><span style=\"color: #008000; text-decoration-color: #008000\">'true_count'</span>: <span style=\"color: #008080; text-decoration-color: #008080; font-weight: bold\">7</span>, <span style=\"color: #008000; text-decoration-color: #008000\">'true_fraction'</span>: <span style=\"color: #008080; text-decoration-color: #008080; font-weight: bold\">0.7777777777777778</span><span style=\"font-weight: bold\">}</span>\n",
       "        <span style=\"font-weight: bold\">}</span>,\n",
       "        <span style=\"color: #008000; text-decoration-color: #008000\">'diff'</span>: <span style=\"font-weight: bold\">{</span><span style=\"color: #008000; text-decoration-color: #008000\">'mean'</span>: <span style=\"color: #008080; text-decoration-color: #008080; font-weight: bold\">0.06045990605326787</span><span style=\"font-weight: bold\">}</span>,\n",
       "        <span style=\"color: #008000; text-decoration-color: #008000\">'meteor'</span>: <span style=\"font-weight: bold\">{</span><span style=\"color: #008000; text-decoration-color: #008000\">'mean'</span>: <span style=\"color: #008080; text-decoration-color: #008080; font-weight: bold\">0.23565555555555553</span><span style=\"font-weight: bold\">}</span>\n",
       "    <span style=\"font-weight: bold\">}</span>,\n",
       "    <span style=\"color: #008000; text-decoration-color: #008000\">'model_latency'</span>: <span style=\"font-weight: bold\">{</span><span style=\"color: #008000; text-decoration-color: #008000\">'mean'</span>: <span style=\"color: #008080; text-decoration-color: #008080; font-weight: bold\">9.077929284837511</span><span style=\"font-weight: bold\">}</span>\n",
       "<span style=\"font-weight: bold\">}</span>\n",
       "</pre>\n"
      ],
      "text/plain": [
       "Evaluation summary\n",
       "\u001b[1m{\u001b[0m\n",
       "    \u001b[32m'response_scorer'\u001b[0m: \u001b[1m{\u001b[0m\n",
       "        \u001b[32m'levenshtein'\u001b[0m: \u001b[1m{\u001b[0m\u001b[32m'mean'\u001b[0m: \u001b[1;36m0.42383276036565865\u001b[0m\u001b[1m}\u001b[0m,\n",
       "        \u001b[32m'rouge'\u001b[0m: \u001b[1m{\u001b[0m\u001b[32m'mean'\u001b[0m: \u001b[1;36m0.22455481785426695\u001b[0m\u001b[1m}\u001b[0m,\n",
       "        \u001b[32m'correctness'\u001b[0m: \u001b[1m{\u001b[0m\n",
       "            \u001b[32m'correct'\u001b[0m: \u001b[1m{\u001b[0m\u001b[32m'true_count'\u001b[0m: \u001b[1;36m3\u001b[0m, \u001b[32m'true_fraction'\u001b[0m: \u001b[1;36m0.3333333333333333\u001b[0m\u001b[1m}\u001b[0m,\n",
       "            \u001b[32m'extras'\u001b[0m: \u001b[1m{\u001b[0m\u001b[32m'label'\u001b[0m: \u001b[1m{\u001b[0m\u001b[32m'mean'\u001b[0m: \u001b[1;36m0.3333333333333333\u001b[0m\u001b[1m}\u001b[0m, \u001b[32m'score'\u001b[0m: \u001b[1m{\u001b[0m\u001b[32m'mean'\u001b[0m: \u001b[1;36m0.5715938210487366\u001b[0m\u001b[1m}\u001b[0m\u001b[1m}\u001b[0m\n",
       "        \u001b[1m}\u001b[0m,\n",
       "        \u001b[32m'helpfulness'\u001b[0m: \u001b[1m{\u001b[0m\n",
       "            \u001b[32m'helpful'\u001b[0m: \u001b[1m{\u001b[0m\u001b[32m'true_count'\u001b[0m: \u001b[1;36m7\u001b[0m, \u001b[32m'true_fraction'\u001b[0m: \u001b[1;36m0.7777777777777778\u001b[0m\u001b[1m}\u001b[0m,\n",
       "            \u001b[32m'extras'\u001b[0m: \u001b[1m{\u001b[0m\u001b[32m'label'\u001b[0m: \u001b[1m{\u001b[0m\u001b[32m'mean'\u001b[0m: \u001b[1;36m0.7777777777777778\u001b[0m\u001b[1m}\u001b[0m, \u001b[32m'score'\u001b[0m: \u001b[1m{\u001b[0m\u001b[32m'mean'\u001b[0m: \u001b[1;36m0.8763572573661804\u001b[0m\u001b[1m}\u001b[0m\u001b[1m}\u001b[0m\n",
       "        \u001b[1m}\u001b[0m,\n",
       "        \u001b[32m'bleu'\u001b[0m: \u001b[1m{\u001b[0m\u001b[32m'mean'\u001b[0m: \u001b[1;36m0.07777881029510328\u001b[0m\u001b[1m}\u001b[0m,\n",
       "        \u001b[32m'relevance'\u001b[0m: \u001b[1m{\u001b[0m\n",
       "            \u001b[32m'extras'\u001b[0m: \u001b[1m{\u001b[0m\u001b[32m'label'\u001b[0m: \u001b[1m{\u001b[0m\u001b[32m'mean'\u001b[0m: \u001b[1;36m0.7777777777777778\u001b[0m\u001b[1m}\u001b[0m, \u001b[32m'score'\u001b[0m: \u001b[1m{\u001b[0m\u001b[32m'mean'\u001b[0m: \u001b[1;36m0.8035142289267646\u001b[0m\u001b[1m}\u001b[0m\u001b[1m}\u001b[0m,\n",
       "            \u001b[32m'relevant'\u001b[0m: \u001b[1m{\u001b[0m\u001b[32m'true_count'\u001b[0m: \u001b[1;36m7\u001b[0m, \u001b[32m'true_fraction'\u001b[0m: \u001b[1;36m0.7777777777777778\u001b[0m\u001b[1m}\u001b[0m\n",
       "        \u001b[1m}\u001b[0m,\n",
       "        \u001b[32m'diff'\u001b[0m: \u001b[1m{\u001b[0m\u001b[32m'mean'\u001b[0m: \u001b[1;36m0.06045990605326787\u001b[0m\u001b[1m}\u001b[0m,\n",
       "        \u001b[32m'meteor'\u001b[0m: \u001b[1m{\u001b[0m\u001b[32m'mean'\u001b[0m: \u001b[1;36m0.23565555555555553\u001b[0m\u001b[1m}\u001b[0m\n",
       "    \u001b[1m}\u001b[0m,\n",
       "    \u001b[32m'model_latency'\u001b[0m: \u001b[1m{\u001b[0m\u001b[32m'mean'\u001b[0m: \u001b[1;36m9.077929284837511\u001b[0m\u001b[1m}\u001b[0m\n",
       "\u001b[1m}\u001b[0m\n"
      ]
     },
     "metadata": {},
     "output_type": "display_data"
    },
    {
     "name": "stdout",
     "output_type": "stream",
     "text": [
      "🍩 https://wandb.ai/a-sh0ts/rag-workshop-pc-nyc-3/r/call/01948fbf-c860-7c70-a107-b3b33e11dd13\n"
     ]
    }
   ],
   "source": [
    "# we are fitting the search engine on the same document chunks as we did earlier\n",
    "dense_search_engine = DenseSearchEngine()\n",
    "dense_search_engine = await dense_search_engine.fit(document_chunks)\n",
    "\n",
    "# Another wrapper around the search engine\n",
    "class DenseRetriever(Retriever):\n",
    "    pass\n",
    "\n",
    "dense_retriever = DenseRetriever(search_engine=dense_search_engine)\n",
    "\n",
    "retrieved_docs = await dense_retriever.invoke(query=query, top_k=5)\n",
    "for doc in retrieved_docs:\n",
    "    render_doc(doc)\n",
    "\n",
    "\n",
    "# Let's evaluate the retrieval performance of the dense retrieval algorithm\n",
    "retrieval_scores = await retrieval_evaluation.evaluate(\n",
    "    model=dense_retriever,\n",
    "    __weave={\"display_name\": \"Dense Retrieval\"}\n",
    ")\n",
    "\n",
    "\n",
    "# The same drill, we create a RAG pipeline and evaluate it.\n",
    "class DenseRAGPipeline(SimpleRAGPipeline):\n",
    "    pass\n",
    "\n",
    "dense_rag_pipeline = DenseRAGPipeline(\n",
    "    retriever=dense_retriever,\n",
    "    generator=simple_response_generator\n",
    ")\n",
    "\n",
    "response_scores = await response_evaluation.evaluate(\n",
    "    model=dense_rag_pipeline,\n",
    "    __weave={\"display_name\": \"Dense RAG Pipeline\"}\n",
    ")\n"
   ]
  },
  {
   "cell_type": "markdown",
   "metadata": {},
   "source": [
    "### Reranking the contexts\n",
    "\n",
    "What if we can retrive documents ? i.e we cast a wider net and retrieve more documents to improve the recall of the retrieval step.\n",
    "\n",
    "However, with more contexts it is important to pick the ones that adds the most knowledge about the given query into the LLM context. i.e. we need to improve the precision of the retrieval step.\n",
    "\n",
    "![](./imgs/Reranking.png)\n",
    "\n",
    "For this, a re-ranking model (a separate machine learning model) can be used to calculate a matching score for a given query and document pair.\n",
    "This score can then be used to rearrange vector search results, ensuring that the most relevant results are prioritized at the top of the list.\n",
    "Cohere comes with it's own re-ranking model and is quite popular.\n",
    "\n",
    "\n",
    "The `DenseRerankedRetriever` class below uses a re-ranking model over dense search engine to retrieve the most relevant documents and then re-rank them.\n"
   ]
  },
  {
   "cell_type": "code",
   "execution_count": 33,
   "metadata": {},
   "outputs": [
    {
     "name": "stdout",
     "output_type": "stream",
     "text": [
      "🍩 https://wandb.ai/a-sh0ts/rag-workshop-pc-nyc-3/r/call/01948fc0-0e75-7c03-98e0-965ba07837a4\n"
     ]
    },
    {
     "data": {
      "text/markdown": [
       "- score: 0.6976\n",
       "- metadata: WeaveDict({'source': '2023 Q2 AAPL.pdf', 'raw_tokens': 10826, 'file_type': 'pdf'})\n",
       "- chunk_number: 26\n",
       "- chunk_id: dcedbab758188c3a7480d2fae442d427\n",
       "- doc_id: 892ac7f7702cd56f574dae211e89bfa9\n",
       "\n",
       "\n",
       "Apple Inc. | Q2 2023 Form 10-Q | 15Products and Services Performance\n",
       "The following table shows net sales by category for the three- and six-month periods ended April 1, 2023 and March 26, 2022 (dollars in millions):\n",
       "Three Months Ended Six Months Ended\n",
       "April 1,\n",
       "2023March 26,\n",
       "2022 ChangeApril 1,\n",
       "2023March 26,\n",
       "2022 Change\n",
       "Net sales by category:\n",
       "iPhone $ 51,334 $ 50,570 2 %$ 117,109 $ 122,198 (4)%\n",
       "Mac 7,168 10,435 (31)% 14,903 21,287 (30)%\n",
       "iPad 6,670 7,646 (13)% 16,066 14,894 8 %\n",
       "Wearables, Home and Accessories 8,757 8,806 (1)% 22,239 23,507 (5)%\n",
       "Services 20,907 19,821 5 % 41,673 39,337 6 %\n",
       "Total net sales $ 94,836 $ 97,278 (3)%$ 211,990 $ 221,223 (4)%\n",
       "iPhone\n",
       "iPhone net sales were relatively flat during the second quarter of 2023 compared to the secon d quarter of 2022.Year-over-year iPhone net sales decreased\n",
       "during the first six months of 2023 due primarily to lower net sales from the Company’ s new iPhone models launched in the fourth quarter of 2022.Mac\n",
       "Mac net sales decreased during the second quarter and first six months of 2023 compared to the same periods in 2022 due primarily to lower net sales of\n",
       "MacBook Pro.iPad\n",
       "iPad net sales decreased during the second quarter of 2023 compared to the second quarter of 2022 due primarily to lower net sales of iPad Pro  and iPad Air.Year-over-year iPad net sales increased during the first six months of 2023 due primarily to higher net sales of iPad, partially offset by lower net sales of iPad\n",
       "mini .Wearables, Home and Accessories\n",
       "Wearables, Home and Accessories net sales were relatively flat during the second quarter of 2023 compared to the second quarter of 2022.\n",
       "\n",
       "---\n",
       "\n"
      ],
      "text/plain": [
       "<IPython.core.display.Markdown object>"
      ]
     },
     "metadata": {},
     "output_type": "display_data"
    },
    {
     "data": {
      "text/markdown": [
       "- score: 0.6518\n",
       "- metadata: WeaveDict({'source': '2023 Q3 AAPL.pdf', 'raw_tokens': 10898, 'file_type': 'pdf'})\n",
       "- chunk_number: 27\n",
       "- chunk_id: d4bde8367402ec76fb4ebd18b5078d6d\n",
       "- doc_id: a4d28158d90e45af01c17fa1bf5fe6f9\n",
       "\n",
       "\n",
       "Apple Inc. | Q3 2023 Form 10-Q | 15Products and Services Performance\n",
       "The following table shows net sales by category for the three- and nine-month periods ended July 1, 2023 and June 25, 2022 (dollars in millions):\n",
       "Three Months Ended Nine Months Ended\n",
       "July 1,\n",
       "2023June 25,\n",
       "2022 ChangeJuly 1,\n",
       "2023June 25,\n",
       "2022 Change\n",
       "Net sales by category:\n",
       "iPhone $ 39,669 $ 40,665 (2)%$ 156,778 $ 162,863 (4)%\n",
       "Mac 6,840 7,382 (7)% 21,743 28,669 (24)%\n",
       "iPad 5,791 7,224 (20)% 21,857 22,118 (1)%\n",
       "Wearables, Home and Accessories 8,284 8,084 2 % 30,523 31,591 (3)%\n",
       "Services 21,213 19,604 8 % 62,886 58,941 7 %\n",
       "Total net sales $ 81,797 $ 82,959 (1)%$ 293,787 $ 304,182 (3)%\n",
       "iPhone\n",
       "iPhone net sales decreased during the third quarter and first nine months of 2023 compared to the same periods in 2022 due primarily to lower net sales from\n",
       "certain iPhone models, partially of fset by higher net sales of iPhone 14 Pro models.Mac\n",
       "Mac net sales decreased during the third quarter and first nine months of 2023 compared to the same periods in 2022 due primarily to lower net sales of laptops.iPad\n",
       "iPad net sales decreased during the third quarter of 2023 compared to the third quarter of 2022 due primarily to lower net sales across most iPad models.Year-\n",
       "over-year iPad net sales were relatively flat during the first nine months of 2023.Wearables, Home and Accessories\n",
       "Wearables, Home and Accessories net sales increased during the third quarter of 2023 compare d to the third quarter of 2022 due primarily to higher net sales of\n",
       "Wearables, which includes AirPods , Apple Watch  and Beats  products, partially offset by lower net sales of accessories.\n",
       "\n",
       "---\n",
       "\n"
      ],
      "text/plain": [
       "<IPython.core.display.Markdown object>"
      ]
     },
     "metadata": {},
     "output_type": "display_data"
    },
    {
     "data": {
      "text/markdown": [
       "- score: 0.6391\n",
       "- metadata: WeaveDict({'source': '2022 Q3 AAPL.pdf', 'raw_tokens': 11081, 'file_type': 'pdf'})\n",
       "- chunk_number: 25\n",
       "- chunk_id: fed3877be83a64ed1694fddbcf141f7c\n",
       "- doc_id: d526fb0c9708ec6e7103a267f08b9a6a\n",
       "\n",
       "\n",
       "Furth er informat ion regarding the Com pany’ s reportable segments can be found in Part I, Item 1 of this Form 10-Q in the Notes to Condensed\n",
       "Consolidated Financial Statements in Note 9, “Segment Information and Geographic Data.”\n",
       "The following table shows net sales by reportable segment for the three- and nine-month periods ended June 25, 2022 and June 26, 2021 (dollars in millions):\n",
       "Three Months Ended Nine Months Ended\n",
       "June 25,\n",
       "2022June 26,\n",
       "2021 ChangeJune 25,\n",
       "2022June 26,\n",
       "2021 Change\n",
       "Net sales by reportable segment:\n",
       "Americas $ 37,472 $ 35,870 4 %$ 129,850 $ 116,486 11 %\n",
       "Europe 19,287 18,943 2 % 72,323 68,513 6 %\n",
       "Greater China 14,604 14,762 (1)% 58,730 53,803 9 %\n",
       "Japan 5,446 6,464 (16)% 20,277 22,491 (10)%\n",
       "Rest of Asia Pacific 6,150 5,395 14 % 23,002 21,164 9 %\n",
       "Total net sales $ 82,959 $ 81,434 2 %$ 304,182 $ 282,457 8 %\n",
       "Americas\n",
       "Americas net sales increased during the third quarter of 2022 compared to the third quarter of 2021 due primarily to higher net sales of Services and iPhone,\n",
       "partially offset by lower net sales of Mac and Wearables, Home and Accessories.Year-over-ye ar Americas net sales increased during the first nine months of\n",
       "2022 due primarily to higher net sales of iPhone, Services and W earables, Home and Accessories.Europe\n",
       "Europe net sales increas ed during the third quarter of 2022 compared to the third quarter of 2021 due primarily to higher net sales of iPhone, partially offset by\n",
       "lower net sales of Mac.Year-over-year Europe net sales increased during the first nine months of 2022 due primarily to higher net sales of Services and iPhone.The weakness in foreign  currencies relative to the U.S. dollar had a net unfavorable impact on Europe net sales during the third quarter and first nine months of\n",
       "2022.\n",
       "\n",
       "---\n",
       "\n"
      ],
      "text/plain": [
       "<IPython.core.display.Markdown object>"
      ]
     },
     "metadata": {},
     "output_type": "display_data"
    },
    {
     "data": {
      "text/markdown": [
       "- score: 0.6043\n",
       "- metadata: WeaveDict({'source': '2023 Q2 AAPL.pdf', 'raw_tokens': 10826, 'file_type': 'pdf'})\n",
       "- chunk_number: 24\n",
       "- chunk_id: 7327384e8668320d09f2e673d772545a\n",
       "- doc_id: 892ac7f7702cd56f574dae211e89bfa9\n",
       "\n",
       "\n",
       "The Company repurchased $19.1 billion of its common stock and paid dividends and dividend equivalents of $3.7 billion during the second quarter of 2023.®\n",
       "®\n",
       "®\n",
       "Apple Inc. | Q2 2023 Form 10-Q | 14Macroeconomic Conditions\n",
       "Macroeconomic conditions, including inflation, changes in interest rates, and currency fluctuations, have directly and indirectly impacted, and could in the future\n",
       "materially impact, the Company’ s results of operations and financial condition.Segment Operating Performance\n",
       "The following table shows net sales by reportable segment for the three- and six-month periods ended April 1, 2023 and March 26, 2022 (dollars in millions):\n",
       "Three Months Ended Six Months Ended\n",
       "April 1,\n",
       "2023March 26,\n",
       "2022 ChangeApril 1,\n",
       "2023March 26,\n",
       "2022 Change\n",
       "Net sales by reportable segment:\n",
       "Americas $ 37,784 $ 40,882 (8)%$ 87,062 $ 92,378 (6)%\n",
       "Europe 23,945 23,287 3 % 51,626 53,036 (3)%\n",
       "Greater China 17,812 18,343 (3)% 41,717 44,126 (5)%\n",
       "Japan 7,176 7,724 (7)% 13,931 14,831 (6)%\n",
       "Rest of Asia Pacific 8,119 7,042 15 % 17,654 16,852 5 %\n",
       "Total net sales $ 94,836 $ 97,278 (3)%$ 211,990 $ 221,223 (4)%\n",
       "Americas\n",
       "Americas net sales decreased during the second  quarter and first six months of 2023 compared to the same periods in 2022 due primarily to lower net sales of\n",
       "iPhone and Mac, partially of fset by higher net sales of Services.Europe\n",
       "The weakness in foreign  currencies relative to the U.S. dollar had a net unfavorable year-over-y ear impact on Europe net sales during the second quarter and\n",
       "first six months of 2023.During the second quarter of 2023, the Europe net sales increase consisted primarily of higher net sales of iPhone, partially offset by\n",
       "lower net sales of Mac.\n",
       "\n",
       "---\n",
       "\n"
      ],
      "text/plain": [
       "<IPython.core.display.Markdown object>"
      ]
     },
     "metadata": {},
     "output_type": "display_data"
    },
    {
     "data": {
      "text/markdown": [
       "- score: 0.5302\n",
       "- metadata: WeaveDict({'source': '2023 Q1 AAPL.pdf', 'raw_tokens': 19713, 'file_type': 'pdf'})\n",
       "- chunk_number: 25\n",
       "- chunk_id: 08b9afbc4602c0acf9a05d7ebed88bb0\n",
       "- doc_id: a1c822cc02697e5675aaa83c47357247\n",
       "\n",
       "\n",
       "Rest of Asia Pacific\n",
       "Rest of Asia Pacific net sales decreased during the first quarter of 2023 compared to the same quarter in 2022 due to the weakness in foreign currencies relative\n",
       "to the U.S. dollar .The weakness in foreign curre ncies contributed to lower net sales of iPhone and Mac, which was partially offset by higher net sales of Services\n",
       "and iPad.Products and Services Performance\n",
       "The following table shows net sales by category for the three months ended December 31, 2022 and December 25, 2021 (dollars in millions):\n",
       "Three Months Ended\n",
       "December 31,\n",
       "2022December 25,\n",
       "2021 Change\n",
       "Net sales by category:\n",
       "iPhone $ 65,775 $ 71,628 (8)%\n",
       "Mac 7,735 10,852 (29)%\n",
       "iPad 9,396 7,248 30 %\n",
       "Wearables, Home and Accessories 13,482 14,701 (8)%\n",
       "Services 20,766 19,516 6 %\n",
       "Total net sales $ 117,154 $ 123,945 (5)%\n",
       "(1)Products net sales include amortization of the deferred value of unspecified software upgrade rights, which are bundled in the sales price of the respective\n",
       "product.(2)Wearables, Home and Accessories net sales include sales of AirPods, Apple TV, Apple Watch, Beats products, HomePod mini and accessories.(3)Services net sales include sales from the Company’s advertising, AppleCare, cloud, digital content, payment and other services.Services net sales also include\n",
       "amortization of the deferred value of services bundled in the sales price of certain products.iPhone\n",
       "iPhone net sales decreased during the first quarter of 2023 compared to the same quarter in 2022 due primarily to lower net sales from the Company’ s new\n",
       "iPhone models launched in the fourth quarter of 2022.Mac\n",
       "Mac net sales decreased during the first quarter of 2023 compared to the same quarter in 2022 due primarily to lower net sales of MacBook Pro .iPad\n",
       "iPad net sales increased during the first quarter of 2023 compared to the same quarter in 2022 due primarily to higher net sales of iPad and iPad Air.\n",
       "\n",
       "---\n",
       "\n"
      ],
      "text/plain": [
       "<IPython.core.display.Markdown object>"
      ]
     },
     "metadata": {},
     "output_type": "display_data"
    },
    {
     "data": {
      "text/html": [
       "<pre style=\"white-space:pre;overflow-x:auto;line-height:normal;font-family:Menlo,'DejaVu Sans Mono',consolas,'Courier New',monospace\">Evaluated <span style=\"color: #008080; text-decoration-color: #008080; font-weight: bold\">1</span> of <span style=\"color: #008080; text-decoration-color: #008080; font-weight: bold\">9</span> examples\n",
       "</pre>\n"
      ],
      "text/plain": [
       "Evaluated \u001b[1;36m1\u001b[0m of \u001b[1;36m9\u001b[0m examples\n"
      ]
     },
     "metadata": {},
     "output_type": "display_data"
    },
    {
     "data": {
      "text/html": [
       "<pre style=\"white-space:pre;overflow-x:auto;line-height:normal;font-family:Menlo,'DejaVu Sans Mono',consolas,'Courier New',monospace\">Evaluated <span style=\"color: #008080; text-decoration-color: #008080; font-weight: bold\">2</span> of <span style=\"color: #008080; text-decoration-color: #008080; font-weight: bold\">9</span> examples\n",
       "</pre>\n"
      ],
      "text/plain": [
       "Evaluated \u001b[1;36m2\u001b[0m of \u001b[1;36m9\u001b[0m examples\n"
      ]
     },
     "metadata": {},
     "output_type": "display_data"
    },
    {
     "data": {
      "text/html": [
       "<pre style=\"white-space:pre;overflow-x:auto;line-height:normal;font-family:Menlo,'DejaVu Sans Mono',consolas,'Courier New',monospace\">Evaluated <span style=\"color: #008080; text-decoration-color: #008080; font-weight: bold\">3</span> of <span style=\"color: #008080; text-decoration-color: #008080; font-weight: bold\">9</span> examples\n",
       "</pre>\n"
      ],
      "text/plain": [
       "Evaluated \u001b[1;36m3\u001b[0m of \u001b[1;36m9\u001b[0m examples\n"
      ]
     },
     "metadata": {},
     "output_type": "display_data"
    },
    {
     "data": {
      "text/html": [
       "<pre style=\"white-space:pre;overflow-x:auto;line-height:normal;font-family:Menlo,'DejaVu Sans Mono',consolas,'Courier New',monospace\">Evaluated <span style=\"color: #008080; text-decoration-color: #008080; font-weight: bold\">4</span> of <span style=\"color: #008080; text-decoration-color: #008080; font-weight: bold\">9</span> examples\n",
       "</pre>\n"
      ],
      "text/plain": [
       "Evaluated \u001b[1;36m4\u001b[0m of \u001b[1;36m9\u001b[0m examples\n"
      ]
     },
     "metadata": {},
     "output_type": "display_data"
    },
    {
     "data": {
      "text/html": [
       "<pre style=\"white-space:pre;overflow-x:auto;line-height:normal;font-family:Menlo,'DejaVu Sans Mono',consolas,'Courier New',monospace\">Evaluated <span style=\"color: #008080; text-decoration-color: #008080; font-weight: bold\">5</span> of <span style=\"color: #008080; text-decoration-color: #008080; font-weight: bold\">9</span> examples\n",
       "</pre>\n"
      ],
      "text/plain": [
       "Evaluated \u001b[1;36m5\u001b[0m of \u001b[1;36m9\u001b[0m examples\n"
      ]
     },
     "metadata": {},
     "output_type": "display_data"
    },
    {
     "data": {
      "text/html": [
       "<pre style=\"white-space:pre;overflow-x:auto;line-height:normal;font-family:Menlo,'DejaVu Sans Mono',consolas,'Courier New',monospace\">Evaluated <span style=\"color: #008080; text-decoration-color: #008080; font-weight: bold\">6</span> of <span style=\"color: #008080; text-decoration-color: #008080; font-weight: bold\">9</span> examples\n",
       "</pre>\n"
      ],
      "text/plain": [
       "Evaluated \u001b[1;36m6\u001b[0m of \u001b[1;36m9\u001b[0m examples\n"
      ]
     },
     "metadata": {},
     "output_type": "display_data"
    },
    {
     "data": {
      "text/html": [
       "<pre style=\"white-space:pre;overflow-x:auto;line-height:normal;font-family:Menlo,'DejaVu Sans Mono',consolas,'Courier New',monospace\">Evaluated <span style=\"color: #008080; text-decoration-color: #008080; font-weight: bold\">7</span> of <span style=\"color: #008080; text-decoration-color: #008080; font-weight: bold\">9</span> examples\n",
       "</pre>\n"
      ],
      "text/plain": [
       "Evaluated \u001b[1;36m7\u001b[0m of \u001b[1;36m9\u001b[0m examples\n"
      ]
     },
     "metadata": {},
     "output_type": "display_data"
    },
    {
     "data": {
      "text/html": [
       "<pre style=\"white-space:pre;overflow-x:auto;line-height:normal;font-family:Menlo,'DejaVu Sans Mono',consolas,'Courier New',monospace\">Evaluated <span style=\"color: #008080; text-decoration-color: #008080; font-weight: bold\">8</span> of <span style=\"color: #008080; text-decoration-color: #008080; font-weight: bold\">9</span> examples\n",
       "</pre>\n"
      ],
      "text/plain": [
       "Evaluated \u001b[1;36m8\u001b[0m of \u001b[1;36m9\u001b[0m examples\n"
      ]
     },
     "metadata": {},
     "output_type": "display_data"
    },
    {
     "data": {
      "text/html": [
       "<pre style=\"white-space:pre;overflow-x:auto;line-height:normal;font-family:Menlo,'DejaVu Sans Mono',consolas,'Courier New',monospace\">Evaluated <span style=\"color: #008080; text-decoration-color: #008080; font-weight: bold\">9</span> of <span style=\"color: #008080; text-decoration-color: #008080; font-weight: bold\">9</span> examples\n",
       "</pre>\n"
      ],
      "text/plain": [
       "Evaluated \u001b[1;36m9\u001b[0m of \u001b[1;36m9\u001b[0m examples\n"
      ]
     },
     "metadata": {},
     "output_type": "display_data"
    },
    {
     "data": {
      "text/html": [
       "<pre style=\"white-space:pre;overflow-x:auto;line-height:normal;font-family:Menlo,'DejaVu Sans Mono',consolas,'Courier New',monospace\">Evaluation summary\n",
       "<span style=\"font-weight: bold\">{</span>\n",
       "    <span style=\"color: #008000; text-decoration-color: #008000\">'retrieval_scorer'</span>: <span style=\"font-weight: bold\">{</span>\n",
       "        <span style=\"color: #008000; text-decoration-color: #008000\">'precision'</span>: <span style=\"font-weight: bold\">{</span><span style=\"color: #008000; text-decoration-color: #008000\">'mean'</span>: <span style=\"color: #008080; text-decoration-color: #008080; font-weight: bold\">0.5148148148148147</span><span style=\"font-weight: bold\">}</span>,\n",
       "        <span style=\"color: #008000; text-decoration-color: #008000\">'hit_rate'</span>: <span style=\"font-weight: bold\">{</span><span style=\"color: #008000; text-decoration-color: #008000\">'mean'</span>: <span style=\"color: #008080; text-decoration-color: #008080; font-weight: bold\">0.5111111111111112</span><span style=\"font-weight: bold\">}</span>,\n",
       "        <span style=\"color: #008000; text-decoration-color: #008000\">'map'</span>: <span style=\"font-weight: bold\">{</span><span style=\"color: #008000; text-decoration-color: #008000\">'mean'</span>: <span style=\"color: #008080; text-decoration-color: #008080; font-weight: bold\">0.6851851851851852</span><span style=\"font-weight: bold\">}</span>,\n",
       "        <span style=\"color: #008000; text-decoration-color: #008000\">'relevance'</span>: <span style=\"font-weight: bold\">{</span><span style=\"color: #008000; text-decoration-color: #008000\">'mean'</span>: <span style=\"color: #008080; text-decoration-color: #008080; font-weight: bold\">0.0</span><span style=\"font-weight: bold\">}</span>,\n",
       "        <span style=\"color: #008000; text-decoration-color: #008000\">'relevance_score'</span>: <span style=\"font-weight: bold\">{</span><span style=\"color: #008000; text-decoration-color: #008000\">'mean'</span>: <span style=\"color: #008080; text-decoration-color: #008080; font-weight: bold\">0.31664444444444445</span><span style=\"font-weight: bold\">}</span>,\n",
       "        <span style=\"color: #008000; text-decoration-color: #008000\">'mrr'</span>: <span style=\"font-weight: bold\">{</span><span style=\"color: #008000; text-decoration-color: #008000\">'mean'</span>: <span style=\"color: #008080; text-decoration-color: #008080; font-weight: bold\">0.24481481481481485</span><span style=\"font-weight: bold\">}</span>,\n",
       "        <span style=\"color: #008000; text-decoration-color: #008000\">'ndcg'</span>: <span style=\"font-weight: bold\">{</span><span style=\"color: #008000; text-decoration-color: #008000\">'mean'</span>: <span style=\"color: #008080; text-decoration-color: #008080; font-weight: bold\">0.5020315890372786</span><span style=\"font-weight: bold\">}</span>,\n",
       "        <span style=\"color: #008000; text-decoration-color: #008000\">'f1_score'</span>: <span style=\"font-weight: bold\">{</span><span style=\"color: #008000; text-decoration-color: #008000\">'mean'</span>: <span style=\"color: #008080; text-decoration-color: #008080; font-weight: bold\">0.5207231040564374</span><span style=\"font-weight: bold\">}</span>,\n",
       "        <span style=\"color: #008000; text-decoration-color: #008000\">'recall'</span>: <span style=\"font-weight: bold\">{</span><span style=\"color: #008000; text-decoration-color: #008000\">'mean'</span>: <span style=\"color: #008080; text-decoration-color: #008080; font-weight: bold\">0.5833333333333334</span><span style=\"font-weight: bold\">}</span>\n",
       "    <span style=\"font-weight: bold\">}</span>,\n",
       "    <span style=\"color: #008000; text-decoration-color: #008000\">'model_latency'</span>: <span style=\"font-weight: bold\">{</span><span style=\"color: #008000; text-decoration-color: #008000\">'mean'</span>: <span style=\"color: #008080; text-decoration-color: #008080; font-weight: bold\">1.270492050382826</span><span style=\"font-weight: bold\">}</span>\n",
       "<span style=\"font-weight: bold\">}</span>\n",
       "</pre>\n"
      ],
      "text/plain": [
       "Evaluation summary\n",
       "\u001b[1m{\u001b[0m\n",
       "    \u001b[32m'retrieval_scorer'\u001b[0m: \u001b[1m{\u001b[0m\n",
       "        \u001b[32m'precision'\u001b[0m: \u001b[1m{\u001b[0m\u001b[32m'mean'\u001b[0m: \u001b[1;36m0.5148148148148147\u001b[0m\u001b[1m}\u001b[0m,\n",
       "        \u001b[32m'hit_rate'\u001b[0m: \u001b[1m{\u001b[0m\u001b[32m'mean'\u001b[0m: \u001b[1;36m0.5111111111111112\u001b[0m\u001b[1m}\u001b[0m,\n",
       "        \u001b[32m'map'\u001b[0m: \u001b[1m{\u001b[0m\u001b[32m'mean'\u001b[0m: \u001b[1;36m0.6851851851851852\u001b[0m\u001b[1m}\u001b[0m,\n",
       "        \u001b[32m'relevance'\u001b[0m: \u001b[1m{\u001b[0m\u001b[32m'mean'\u001b[0m: \u001b[1;36m0.0\u001b[0m\u001b[1m}\u001b[0m,\n",
       "        \u001b[32m'relevance_score'\u001b[0m: \u001b[1m{\u001b[0m\u001b[32m'mean'\u001b[0m: \u001b[1;36m0.31664444444444445\u001b[0m\u001b[1m}\u001b[0m,\n",
       "        \u001b[32m'mrr'\u001b[0m: \u001b[1m{\u001b[0m\u001b[32m'mean'\u001b[0m: \u001b[1;36m0.24481481481481485\u001b[0m\u001b[1m}\u001b[0m,\n",
       "        \u001b[32m'ndcg'\u001b[0m: \u001b[1m{\u001b[0m\u001b[32m'mean'\u001b[0m: \u001b[1;36m0.5020315890372786\u001b[0m\u001b[1m}\u001b[0m,\n",
       "        \u001b[32m'f1_score'\u001b[0m: \u001b[1m{\u001b[0m\u001b[32m'mean'\u001b[0m: \u001b[1;36m0.5207231040564374\u001b[0m\u001b[1m}\u001b[0m,\n",
       "        \u001b[32m'recall'\u001b[0m: \u001b[1m{\u001b[0m\u001b[32m'mean'\u001b[0m: \u001b[1;36m0.5833333333333334\u001b[0m\u001b[1m}\u001b[0m\n",
       "    \u001b[1m}\u001b[0m,\n",
       "    \u001b[32m'model_latency'\u001b[0m: \u001b[1m{\u001b[0m\u001b[32m'mean'\u001b[0m: \u001b[1;36m1.270492050382826\u001b[0m\u001b[1m}\u001b[0m\n",
       "\u001b[1m}\u001b[0m\n"
      ]
     },
     "metadata": {},
     "output_type": "display_data"
    },
    {
     "name": "stdout",
     "output_type": "stream",
     "text": [
      "🍩 https://wandb.ai/a-sh0ts/rag-workshop-pc-nyc-3/r/call/01948fc0-12d2-7732-9415-8ed334c3a714\n"
     ]
    },
    {
     "data": {
      "text/html": [
       "<pre style=\"white-space:pre;overflow-x:auto;line-height:normal;font-family:Menlo,'DejaVu Sans Mono',consolas,'Courier New',monospace\">Evaluated <span style=\"color: #008080; text-decoration-color: #008080; font-weight: bold\">1</span> of <span style=\"color: #008080; text-decoration-color: #008080; font-weight: bold\">9</span> examples\n",
       "</pre>\n"
      ],
      "text/plain": [
       "Evaluated \u001b[1;36m1\u001b[0m of \u001b[1;36m9\u001b[0m examples\n"
      ]
     },
     "metadata": {},
     "output_type": "display_data"
    },
    {
     "data": {
      "text/html": [
       "<pre style=\"white-space:pre;overflow-x:auto;line-height:normal;font-family:Menlo,'DejaVu Sans Mono',consolas,'Courier New',monospace\">Evaluated <span style=\"color: #008080; text-decoration-color: #008080; font-weight: bold\">2</span> of <span style=\"color: #008080; text-decoration-color: #008080; font-weight: bold\">9</span> examples\n",
       "</pre>\n"
      ],
      "text/plain": [
       "Evaluated \u001b[1;36m2\u001b[0m of \u001b[1;36m9\u001b[0m examples\n"
      ]
     },
     "metadata": {},
     "output_type": "display_data"
    },
    {
     "data": {
      "text/html": [
       "<pre style=\"white-space:pre;overflow-x:auto;line-height:normal;font-family:Menlo,'DejaVu Sans Mono',consolas,'Courier New',monospace\">Evaluated <span style=\"color: #008080; text-decoration-color: #008080; font-weight: bold\">3</span> of <span style=\"color: #008080; text-decoration-color: #008080; font-weight: bold\">9</span> examples\n",
       "</pre>\n"
      ],
      "text/plain": [
       "Evaluated \u001b[1;36m3\u001b[0m of \u001b[1;36m9\u001b[0m examples\n"
      ]
     },
     "metadata": {},
     "output_type": "display_data"
    },
    {
     "data": {
      "text/html": [
       "<pre style=\"white-space:pre;overflow-x:auto;line-height:normal;font-family:Menlo,'DejaVu Sans Mono',consolas,'Courier New',monospace\">Evaluated <span style=\"color: #008080; text-decoration-color: #008080; font-weight: bold\">4</span> of <span style=\"color: #008080; text-decoration-color: #008080; font-weight: bold\">9</span> examples\n",
       "</pre>\n"
      ],
      "text/plain": [
       "Evaluated \u001b[1;36m4\u001b[0m of \u001b[1;36m9\u001b[0m examples\n"
      ]
     },
     "metadata": {},
     "output_type": "display_data"
    },
    {
     "data": {
      "text/html": [
       "<pre style=\"white-space:pre;overflow-x:auto;line-height:normal;font-family:Menlo,'DejaVu Sans Mono',consolas,'Courier New',monospace\">Evaluated <span style=\"color: #008080; text-decoration-color: #008080; font-weight: bold\">5</span> of <span style=\"color: #008080; text-decoration-color: #008080; font-weight: bold\">9</span> examples\n",
       "</pre>\n"
      ],
      "text/plain": [
       "Evaluated \u001b[1;36m5\u001b[0m of \u001b[1;36m9\u001b[0m examples\n"
      ]
     },
     "metadata": {},
     "output_type": "display_data"
    },
    {
     "data": {
      "text/html": [
       "<pre style=\"white-space:pre;overflow-x:auto;line-height:normal;font-family:Menlo,'DejaVu Sans Mono',consolas,'Courier New',monospace\">Evaluated <span style=\"color: #008080; text-decoration-color: #008080; font-weight: bold\">6</span> of <span style=\"color: #008080; text-decoration-color: #008080; font-weight: bold\">9</span> examples\n",
       "</pre>\n"
      ],
      "text/plain": [
       "Evaluated \u001b[1;36m6\u001b[0m of \u001b[1;36m9\u001b[0m examples\n"
      ]
     },
     "metadata": {},
     "output_type": "display_data"
    },
    {
     "data": {
      "text/html": [
       "<pre style=\"white-space:pre;overflow-x:auto;line-height:normal;font-family:Menlo,'DejaVu Sans Mono',consolas,'Courier New',monospace\">Evaluated <span style=\"color: #008080; text-decoration-color: #008080; font-weight: bold\">7</span> of <span style=\"color: #008080; text-decoration-color: #008080; font-weight: bold\">9</span> examples\n",
       "</pre>\n"
      ],
      "text/plain": [
       "Evaluated \u001b[1;36m7\u001b[0m of \u001b[1;36m9\u001b[0m examples\n"
      ]
     },
     "metadata": {},
     "output_type": "display_data"
    },
    {
     "data": {
      "text/html": [
       "<pre style=\"white-space:pre;overflow-x:auto;line-height:normal;font-family:Menlo,'DejaVu Sans Mono',consolas,'Courier New',monospace\">Evaluated <span style=\"color: #008080; text-decoration-color: #008080; font-weight: bold\">8</span> of <span style=\"color: #008080; text-decoration-color: #008080; font-weight: bold\">9</span> examples\n",
       "</pre>\n"
      ],
      "text/plain": [
       "Evaluated \u001b[1;36m8\u001b[0m of \u001b[1;36m9\u001b[0m examples\n"
      ]
     },
     "metadata": {},
     "output_type": "display_data"
    },
    {
     "data": {
      "text/html": [
       "<pre style=\"white-space:pre;overflow-x:auto;line-height:normal;font-family:Menlo,'DejaVu Sans Mono',consolas,'Courier New',monospace\">Evaluated <span style=\"color: #008080; text-decoration-color: #008080; font-weight: bold\">9</span> of <span style=\"color: #008080; text-decoration-color: #008080; font-weight: bold\">9</span> examples\n",
       "</pre>\n"
      ],
      "text/plain": [
       "Evaluated \u001b[1;36m9\u001b[0m of \u001b[1;36m9\u001b[0m examples\n"
      ]
     },
     "metadata": {},
     "output_type": "display_data"
    },
    {
     "data": {
      "text/html": [
       "<pre style=\"white-space:pre;overflow-x:auto;line-height:normal;font-family:Menlo,'DejaVu Sans Mono',consolas,'Courier New',monospace\">Evaluation summary\n",
       "<span style=\"font-weight: bold\">{</span>\n",
       "    <span style=\"color: #008000; text-decoration-color: #008000\">'response_scorer'</span>: <span style=\"font-weight: bold\">{</span>\n",
       "        <span style=\"color: #008000; text-decoration-color: #008000\">'levenshtein'</span>: <span style=\"font-weight: bold\">{</span><span style=\"color: #008000; text-decoration-color: #008000\">'mean'</span>: <span style=\"color: #008080; text-decoration-color: #008080; font-weight: bold\">0.43245938147741814</span><span style=\"font-weight: bold\">}</span>,\n",
       "        <span style=\"color: #008000; text-decoration-color: #008000\">'rouge'</span>: <span style=\"font-weight: bold\">{</span><span style=\"color: #008000; text-decoration-color: #008000\">'mean'</span>: <span style=\"color: #008080; text-decoration-color: #008080; font-weight: bold\">0.22035437105373934</span><span style=\"font-weight: bold\">}</span>,\n",
       "        <span style=\"color: #008000; text-decoration-color: #008000\">'correctness'</span>: <span style=\"font-weight: bold\">{</span>\n",
       "            <span style=\"color: #008000; text-decoration-color: #008000\">'correct'</span>: <span style=\"font-weight: bold\">{</span><span style=\"color: #008000; text-decoration-color: #008000\">'true_count'</span>: <span style=\"color: #008080; text-decoration-color: #008080; font-weight: bold\">4</span>, <span style=\"color: #008000; text-decoration-color: #008000\">'true_fraction'</span>: <span style=\"color: #008080; text-decoration-color: #008080; font-weight: bold\">0.4444444444444444</span><span style=\"font-weight: bold\">}</span>,\n",
       "            <span style=\"color: #008000; text-decoration-color: #008000\">'extras'</span>: <span style=\"font-weight: bold\">{</span><span style=\"color: #008000; text-decoration-color: #008000\">'label'</span>: <span style=\"font-weight: bold\">{</span><span style=\"color: #008000; text-decoration-color: #008000\">'mean'</span>: <span style=\"color: #008080; text-decoration-color: #008080; font-weight: bold\">0.4444444444444444</span><span style=\"font-weight: bold\">}</span>, <span style=\"color: #008000; text-decoration-color: #008000\">'score'</span>: <span style=\"font-weight: bold\">{</span><span style=\"color: #008000; text-decoration-color: #008000\">'mean'</span>: <span style=\"color: #008080; text-decoration-color: #008080; font-weight: bold\">0.630999743938446</span><span style=\"font-weight: bold\">}}</span>\n",
       "        <span style=\"font-weight: bold\">}</span>,\n",
       "        <span style=\"color: #008000; text-decoration-color: #008000\">'helpfulness'</span>: <span style=\"font-weight: bold\">{</span>\n",
       "            <span style=\"color: #008000; text-decoration-color: #008000\">'helpful'</span>: <span style=\"font-weight: bold\">{</span><span style=\"color: #008000; text-decoration-color: #008000\">'true_count'</span>: <span style=\"color: #008080; text-decoration-color: #008080; font-weight: bold\">7</span>, <span style=\"color: #008000; text-decoration-color: #008000\">'true_fraction'</span>: <span style=\"color: #008080; text-decoration-color: #008080; font-weight: bold\">0.7777777777777778</span><span style=\"font-weight: bold\">}</span>,\n",
       "            <span style=\"color: #008000; text-decoration-color: #008000\">'extras'</span>: <span style=\"font-weight: bold\">{</span><span style=\"color: #008000; text-decoration-color: #008000\">'label'</span>: <span style=\"font-weight: bold\">{</span><span style=\"color: #008000; text-decoration-color: #008000\">'mean'</span>: <span style=\"color: #008080; text-decoration-color: #008080; font-weight: bold\">0.7777777777777778</span><span style=\"font-weight: bold\">}</span>, <span style=\"color: #008000; text-decoration-color: #008000\">'score'</span>: <span style=\"font-weight: bold\">{</span><span style=\"color: #008000; text-decoration-color: #008000\">'mean'</span>: <span style=\"color: #008080; text-decoration-color: #008080; font-weight: bold\">0.875082532564799</span><span style=\"font-weight: bold\">}}</span>\n",
       "        <span style=\"font-weight: bold\">}</span>,\n",
       "        <span style=\"color: #008000; text-decoration-color: #008000\">'bleu'</span>: <span style=\"font-weight: bold\">{</span><span style=\"color: #008000; text-decoration-color: #008000\">'mean'</span>: <span style=\"color: #008080; text-decoration-color: #008080; font-weight: bold\">0.08692802905100354</span><span style=\"font-weight: bold\">}</span>,\n",
       "        <span style=\"color: #008000; text-decoration-color: #008000\">'relevance'</span>: <span style=\"font-weight: bold\">{</span>\n",
       "            <span style=\"color: #008000; text-decoration-color: #008000\">'extras'</span>: <span style=\"font-weight: bold\">{</span><span style=\"color: #008000; text-decoration-color: #008000\">'label'</span>: <span style=\"font-weight: bold\">{</span><span style=\"color: #008000; text-decoration-color: #008000\">'mean'</span>: <span style=\"color: #008080; text-decoration-color: #008080; font-weight: bold\">0.6666666666666666</span><span style=\"font-weight: bold\">}</span>, <span style=\"color: #008000; text-decoration-color: #008000\">'score'</span>: <span style=\"font-weight: bold\">{</span><span style=\"color: #008000; text-decoration-color: #008000\">'mean'</span>: <span style=\"color: #008080; text-decoration-color: #008080; font-weight: bold\">0.7353867689768473</span><span style=\"font-weight: bold\">}}</span>,\n",
       "            <span style=\"color: #008000; text-decoration-color: #008000\">'relevant'</span>: <span style=\"font-weight: bold\">{</span><span style=\"color: #008000; text-decoration-color: #008000\">'true_count'</span>: <span style=\"color: #008080; text-decoration-color: #008080; font-weight: bold\">6</span>, <span style=\"color: #008000; text-decoration-color: #008000\">'true_fraction'</span>: <span style=\"color: #008080; text-decoration-color: #008080; font-weight: bold\">0.6666666666666666</span><span style=\"font-weight: bold\">}</span>\n",
       "        <span style=\"font-weight: bold\">}</span>,\n",
       "        <span style=\"color: #008000; text-decoration-color: #008000\">'diff'</span>: <span style=\"font-weight: bold\">{</span><span style=\"color: #008000; text-decoration-color: #008000\">'mean'</span>: <span style=\"color: #008080; text-decoration-color: #008080; font-weight: bold\">0.06487963488494794</span><span style=\"font-weight: bold\">}</span>,\n",
       "        <span style=\"color: #008000; text-decoration-color: #008000\">'meteor'</span>: <span style=\"font-weight: bold\">{</span><span style=\"color: #008000; text-decoration-color: #008000\">'mean'</span>: <span style=\"color: #008080; text-decoration-color: #008080; font-weight: bold\">0.23995555555555553</span><span style=\"font-weight: bold\">}</span>\n",
       "    <span style=\"font-weight: bold\">}</span>,\n",
       "    <span style=\"color: #008000; text-decoration-color: #008000\">'model_latency'</span>: <span style=\"font-weight: bold\">{</span><span style=\"color: #008000; text-decoration-color: #008000\">'mean'</span>: <span style=\"color: #008080; text-decoration-color: #008080; font-weight: bold\">12.067407899432713</span><span style=\"font-weight: bold\">}</span>\n",
       "<span style=\"font-weight: bold\">}</span>\n",
       "</pre>\n"
      ],
      "text/plain": [
       "Evaluation summary\n",
       "\u001b[1m{\u001b[0m\n",
       "    \u001b[32m'response_scorer'\u001b[0m: \u001b[1m{\u001b[0m\n",
       "        \u001b[32m'levenshtein'\u001b[0m: \u001b[1m{\u001b[0m\u001b[32m'mean'\u001b[0m: \u001b[1;36m0.43245938147741814\u001b[0m\u001b[1m}\u001b[0m,\n",
       "        \u001b[32m'rouge'\u001b[0m: \u001b[1m{\u001b[0m\u001b[32m'mean'\u001b[0m: \u001b[1;36m0.22035437105373934\u001b[0m\u001b[1m}\u001b[0m,\n",
       "        \u001b[32m'correctness'\u001b[0m: \u001b[1m{\u001b[0m\n",
       "            \u001b[32m'correct'\u001b[0m: \u001b[1m{\u001b[0m\u001b[32m'true_count'\u001b[0m: \u001b[1;36m4\u001b[0m, \u001b[32m'true_fraction'\u001b[0m: \u001b[1;36m0.4444444444444444\u001b[0m\u001b[1m}\u001b[0m,\n",
       "            \u001b[32m'extras'\u001b[0m: \u001b[1m{\u001b[0m\u001b[32m'label'\u001b[0m: \u001b[1m{\u001b[0m\u001b[32m'mean'\u001b[0m: \u001b[1;36m0.4444444444444444\u001b[0m\u001b[1m}\u001b[0m, \u001b[32m'score'\u001b[0m: \u001b[1m{\u001b[0m\u001b[32m'mean'\u001b[0m: \u001b[1;36m0.630999743938446\u001b[0m\u001b[1m}\u001b[0m\u001b[1m}\u001b[0m\n",
       "        \u001b[1m}\u001b[0m,\n",
       "        \u001b[32m'helpfulness'\u001b[0m: \u001b[1m{\u001b[0m\n",
       "            \u001b[32m'helpful'\u001b[0m: \u001b[1m{\u001b[0m\u001b[32m'true_count'\u001b[0m: \u001b[1;36m7\u001b[0m, \u001b[32m'true_fraction'\u001b[0m: \u001b[1;36m0.7777777777777778\u001b[0m\u001b[1m}\u001b[0m,\n",
       "            \u001b[32m'extras'\u001b[0m: \u001b[1m{\u001b[0m\u001b[32m'label'\u001b[0m: \u001b[1m{\u001b[0m\u001b[32m'mean'\u001b[0m: \u001b[1;36m0.7777777777777778\u001b[0m\u001b[1m}\u001b[0m, \u001b[32m'score'\u001b[0m: \u001b[1m{\u001b[0m\u001b[32m'mean'\u001b[0m: \u001b[1;36m0.875082532564799\u001b[0m\u001b[1m}\u001b[0m\u001b[1m}\u001b[0m\n",
       "        \u001b[1m}\u001b[0m,\n",
       "        \u001b[32m'bleu'\u001b[0m: \u001b[1m{\u001b[0m\u001b[32m'mean'\u001b[0m: \u001b[1;36m0.08692802905100354\u001b[0m\u001b[1m}\u001b[0m,\n",
       "        \u001b[32m'relevance'\u001b[0m: \u001b[1m{\u001b[0m\n",
       "            \u001b[32m'extras'\u001b[0m: \u001b[1m{\u001b[0m\u001b[32m'label'\u001b[0m: \u001b[1m{\u001b[0m\u001b[32m'mean'\u001b[0m: \u001b[1;36m0.6666666666666666\u001b[0m\u001b[1m}\u001b[0m, \u001b[32m'score'\u001b[0m: \u001b[1m{\u001b[0m\u001b[32m'mean'\u001b[0m: \u001b[1;36m0.7353867689768473\u001b[0m\u001b[1m}\u001b[0m\u001b[1m}\u001b[0m,\n",
       "            \u001b[32m'relevant'\u001b[0m: \u001b[1m{\u001b[0m\u001b[32m'true_count'\u001b[0m: \u001b[1;36m6\u001b[0m, \u001b[32m'true_fraction'\u001b[0m: \u001b[1;36m0.6666666666666666\u001b[0m\u001b[1m}\u001b[0m\n",
       "        \u001b[1m}\u001b[0m,\n",
       "        \u001b[32m'diff'\u001b[0m: \u001b[1m{\u001b[0m\u001b[32m'mean'\u001b[0m: \u001b[1;36m0.06487963488494794\u001b[0m\u001b[1m}\u001b[0m,\n",
       "        \u001b[32m'meteor'\u001b[0m: \u001b[1m{\u001b[0m\u001b[32m'mean'\u001b[0m: \u001b[1;36m0.23995555555555553\u001b[0m\u001b[1m}\u001b[0m\n",
       "    \u001b[1m}\u001b[0m,\n",
       "    \u001b[32m'model_latency'\u001b[0m: \u001b[1m{\u001b[0m\u001b[32m'mean'\u001b[0m: \u001b[1;36m12.067407899432713\u001b[0m\u001b[1m}\u001b[0m\n",
       "\u001b[1m}\u001b[0m\n"
      ]
     },
     "metadata": {},
     "output_type": "display_data"
    },
    {
     "name": "stdout",
     "output_type": "stream",
     "text": [
      "🍩 https://wandb.ai/a-sh0ts/rag-workshop-pc-nyc-3/r/call/01948fc0-64a6-7201-bd64-556a08308591\n"
     ]
    }
   ],
   "source": [
    "# Essentially the search engine remains the same but the retrieved documents are re-ranked using a re-ranking model.\n",
    "\n",
    "class DenseRerankedRetriever(RetrieverWithReranker):\n",
    "    pass\n",
    "\n",
    "dense_reranked_retriever = DenseRerankedRetriever(search_engine=dense_search_engine,)\n",
    "\n",
    "\n",
    "retrieved_docs = await dense_reranked_retriever.invoke(query=query, top_k=5)\n",
    "for doc in retrieved_docs:\n",
    "    render_doc(doc)\n",
    "\n",
    "# Evaluate and compare again with the reranked pipeline.\n",
    "\n",
    "retrieval_scores = await retrieval_evaluation.evaluate(\n",
    "    model=dense_reranked_retriever,\n",
    "    __weave={\"display_name\": \"Dense Reranked Retrieval\"}\n",
    ")\n",
    "\n",
    "class DenseRerankedRAGPipeline(SimpleRAGPipeline):\n",
    "    pass\n",
    "\n",
    "dense_reranked_rag_pipeline = DenseRerankedRAGPipeline(\n",
    "    retriever=dense_reranked_retriever,\n",
    "    generator=simple_response_generator\n",
    ")\n",
    "\n",
    "response_scores = await response_evaluation.evaluate(\n",
    "    model=dense_reranked_rag_pipeline,\n",
    "    __weave={\"display_name\": \"Dense Reranked RAG Pipeline\"}\n",
    ")\n"
   ]
  },
  {
   "cell_type": "markdown",
   "metadata": {},
   "source": [
    "### Hybrid Retrieveal\n",
    "\n",
    "Even though BM25 is an old model used for retrieval tasks, it is still the state-of-the-art on various benchmark. In machine learning, we ensemble a few weak classifiers to build a stronger classifier, we can adopt the same idea to our retriever pipeline.\n",
    "\n",
    "Here we show the concept of hybrid retriever which uses two or more retrievers and retrieves chunks from all of them followed by re-ranking.\n",
    "\n",
    "![](./imgs/HybridRetrieval.png)\n",
    "\n",
    "We use both the BM25 and Dense retrieval algorithms to retrieve chunks from both of them and then re-rank them.\n",
    "\n",
    "One additional thing to note here is to deduplicate the chunks retrieved from both the retrievers before re-ranking. This is because repeated chunks are not useful and can lead to a worse performance if not deduplicated."
   ]
  },
  {
   "cell_type": "code",
   "execution_count": 34,
   "metadata": {},
   "outputs": [
    {
     "name": "stdout",
     "output_type": "stream",
     "text": [
      "🍩 https://wandb.ai/a-sh0ts/rag-workshop-pc-nyc-3/r/call/01948fc0-bb3c-7770-bd1a-2a21ae0a3355\n"
     ]
    },
    {
     "data": {
      "text/markdown": [
       "- score: 0.7216\n",
       "- metadata: WeaveDict({'source': '2022 Q3 AAPL.pdf', 'raw_tokens': 11081, 'file_type': 'pdf'})\n",
       "- chunk_number: 21\n",
       "- chunk_id: b2d7313fb7914541a5f775519a2a3fe5\n",
       "- doc_id: d526fb0c9708ec6e7103a267f08b9a6a\n",
       "\n",
       "\n",
       "Available Information\n",
       "The Company periodically provides certain information for investors on its corporate website, www .apple.com, and its investor relations website,\n",
       "investor .apple.com.This includes press releases and other information about financial performance, information on environmental, social and corporate\n",
       "governance matters, and details related to the Company’ s annual meeting of shareholders.The information contained on the websites referenced in this Form\n",
       "10-Q is not incorporated by reference into this filing.Further , the Company’ s references to website URLs are intended to be inactive textual references only .Business Seasonality and Product Introductions\n",
       "The Company has historically experienced higher net sales in its first quarter compared to other quarters in its fiscal year due in part to seasonal holiday\n",
       "demand.Additionally , new product and service introductions can significantly impact net sales , cost of sales and operating expenses.The timing of product\n",
       "introductions can also impact the Company’ s net sales to its indirect distribution channels as these channels are filled with new inventory following a product\n",
       "launch, and channel inventory of an older product often declines as the launch of a newer produ ct approaches.Net sales can also be affected when consumers\n",
       "and distributors anticipate a product introduction.Quarterly Highlights\n",
       "Total net sales increased 2% or $1.5 billion during the third quarter of 2022 compared to the same quarter in 2021, driven primarily by higher net sales of\n",
       "Services and iPhone, partially offset by lower net sales of Mac and Wearables, Home and Accessories.The weakness in foreign currencies relative to the U.S.\n",
       "dollar had an unfavorable impact on all Products and Services net sales during the third quarter of 2022.At the end of the third quarter of 2022, the Com pany introduced an all-new MacBook Air and an updated 13-inch  MacBook Pro , both powe red by the new\n",
       "Apple M2 chip.The Company also announced iOS 16, macOS  Ventura, iPadOS  16 and watchOS  9, updates to its operating systems that are expe cted to be\n",
       "available in the fall of 2022.\n",
       "\n",
       "---\n",
       "\n"
      ],
      "text/plain": [
       "<IPython.core.display.Markdown object>"
      ]
     },
     "metadata": {},
     "output_type": "display_data"
    },
    {
     "data": {
      "text/markdown": [
       "- score: 0.7012\n",
       "- metadata: WeaveDict({'source': '2023 Q2 AAPL.pdf', 'raw_tokens': 10826, 'file_type': 'pdf'})\n",
       "- chunk_number: 26\n",
       "- chunk_id: dcedbab758188c3a7480d2fae442d427\n",
       "- doc_id: 892ac7f7702cd56f574dae211e89bfa9\n",
       "\n",
       "\n",
       "Apple Inc. | Q2 2023 Form 10-Q | 15Products and Services Performance\n",
       "The following table shows net sales by category for the three- and six-month periods ended April 1, 2023 and March 26, 2022 (dollars in millions):\n",
       "Three Months Ended Six Months Ended\n",
       "April 1,\n",
       "2023March 26,\n",
       "2022 ChangeApril 1,\n",
       "2023March 26,\n",
       "2022 Change\n",
       "Net sales by category:\n",
       "iPhone $ 51,334 $ 50,570 2 %$ 117,109 $ 122,198 (4)%\n",
       "Mac 7,168 10,435 (31)% 14,903 21,287 (30)%\n",
       "iPad 6,670 7,646 (13)% 16,066 14,894 8 %\n",
       "Wearables, Home and Accessories 8,757 8,806 (1)% 22,239 23,507 (5)%\n",
       "Services 20,907 19,821 5 % 41,673 39,337 6 %\n",
       "Total net sales $ 94,836 $ 97,278 (3)%$ 211,990 $ 221,223 (4)%\n",
       "iPhone\n",
       "iPhone net sales were relatively flat during the second quarter of 2023 compared to the secon d quarter of 2022.Year-over-year iPhone net sales decreased\n",
       "during the first six months of 2023 due primarily to lower net sales from the Company’ s new iPhone models launched in the fourth quarter of 2022.Mac\n",
       "Mac net sales decreased during the second quarter and first six months of 2023 compared to the same periods in 2022 due primarily to lower net sales of\n",
       "MacBook Pro.iPad\n",
       "iPad net sales decreased during the second quarter of 2023 compared to the second quarter of 2022 due primarily to lower net sales of iPad Pro  and iPad Air.Year-over-year iPad net sales increased during the first six months of 2023 due primarily to higher net sales of iPad, partially offset by lower net sales of iPad\n",
       "mini .Wearables, Home and Accessories\n",
       "Wearables, Home and Accessories net sales were relatively flat during the second quarter of 2023 compared to the second quarter of 2022.\n",
       "\n",
       "---\n",
       "\n"
      ],
      "text/plain": [
       "<IPython.core.display.Markdown object>"
      ]
     },
     "metadata": {},
     "output_type": "display_data"
    },
    {
     "data": {
      "text/markdown": [
       "- score: 0.6783\n",
       "- metadata: WeaveDict({'source': '2023 Q1 AAPL.pdf', 'raw_tokens': 19713, 'file_type': 'pdf'})\n",
       "- chunk_number: 22\n",
       "- chunk_id: befc7b2d0770ac61076f9121f259d82b\n",
       "- doc_id: a1c822cc02697e5675aaa83c47357247\n",
       "\n",
       "\n",
       "Additionally , new product and service introductions can significantly impact net sales , cost of sales and operating expenses.The timing of product\n",
       "introductions can also impact the Company’ s net sales to its indirect distribution channels as these channels are filled with new inventory following a product\n",
       "launch, and channel inventory of an older product often declines as the launch of a newer produ ct approaches.Net sales can also be affected when consumers\n",
       "and distributors anticipate a product introduction.Fiscal Period\n",
       "The Compan y’s fiscal year is the 52- or 53-week period that ends on the last Saturday of September .An additional week is included in the first fiscal quarter\n",
       "every five or six years to realign the Company’ s fiscal quarters with calendar quarters, which occurred in the first quarter of 2023.The Company’ s fiscal years\n",
       "2023 and 2022 span 53 and 52 weeks, respectively .Quarterly Highlights\n",
       "Total net sales decrease d 5% or $6.8 billion during the first quarter of 2023 compared to the same quarter in 2022 due to the weakness in foreign currencies\n",
       "relative to the U.S. dolla r. The weakness in foreign currencies contributed to lower net sales of iPhone and Mac, which was partially offset by higher net sales of\n",
       "iPad.During the first quarter of 2023, the Company announced a new iPad, a new iPad Pro  powered by the Apple M2 chip, and a new Apple TV 4K.The Company repurchased $19.0 billion of its common stock and paid dividends and dividend equivalents of $3.8 billion during the first quarter of 2023.®\n",
       "Apple Inc. | Q1 2023 Form 10-Q | 15COVID-19\n",
       "The COVID-19 pandemic has had, and continue s to have, a significant impact around the world, prompting governments and businesses to take unprecedented\n",
       "measures, such as restrictions on travel and business operations, temporary closures of busines ses, and quarantine and shelter-in-place orders.The COVID-19\n",
       "pandemic has at times significantly curtailed global economic activity and caused significant volatility and disruption in global financial markets.The COVID-19\n",
       "pandemic and the meas ures taken by many countries in response have affected and could in the future materially impact the Company’ s business, results of\n",
       "operations and financial condition.\n",
       "\n",
       "---\n",
       "\n"
      ],
      "text/plain": [
       "<IPython.core.display.Markdown object>"
      ]
     },
     "metadata": {},
     "output_type": "display_data"
    },
    {
     "data": {
      "text/markdown": [
       "- score: 0.6447\n",
       "- metadata: WeaveDict({'source': '2023 Q3 AAPL.pdf', 'raw_tokens': 10898, 'file_type': 'pdf'})\n",
       "- chunk_number: 27\n",
       "- chunk_id: d4bde8367402ec76fb4ebd18b5078d6d\n",
       "- doc_id: a4d28158d90e45af01c17fa1bf5fe6f9\n",
       "\n",
       "\n",
       "Apple Inc. | Q3 2023 Form 10-Q | 15Products and Services Performance\n",
       "The following table shows net sales by category for the three- and nine-month periods ended July 1, 2023 and June 25, 2022 (dollars in millions):\n",
       "Three Months Ended Nine Months Ended\n",
       "July 1,\n",
       "2023June 25,\n",
       "2022 ChangeJuly 1,\n",
       "2023June 25,\n",
       "2022 Change\n",
       "Net sales by category:\n",
       "iPhone $ 39,669 $ 40,665 (2)%$ 156,778 $ 162,863 (4)%\n",
       "Mac 6,840 7,382 (7)% 21,743 28,669 (24)%\n",
       "iPad 5,791 7,224 (20)% 21,857 22,118 (1)%\n",
       "Wearables, Home and Accessories 8,284 8,084 2 % 30,523 31,591 (3)%\n",
       "Services 21,213 19,604 8 % 62,886 58,941 7 %\n",
       "Total net sales $ 81,797 $ 82,959 (1)%$ 293,787 $ 304,182 (3)%\n",
       "iPhone\n",
       "iPhone net sales decreased during the third quarter and first nine months of 2023 compared to the same periods in 2022 due primarily to lower net sales from\n",
       "certain iPhone models, partially of fset by higher net sales of iPhone 14 Pro models.Mac\n",
       "Mac net sales decreased during the third quarter and first nine months of 2023 compared to the same periods in 2022 due primarily to lower net sales of laptops.iPad\n",
       "iPad net sales decreased during the third quarter of 2023 compared to the third quarter of 2022 due primarily to lower net sales across most iPad models.Year-\n",
       "over-year iPad net sales were relatively flat during the first nine months of 2023.Wearables, Home and Accessories\n",
       "Wearables, Home and Accessories net sales increased during the third quarter of 2023 compare d to the third quarter of 2022 due primarily to higher net sales of\n",
       "Wearables, which includes AirPods , Apple Watch  and Beats  products, partially offset by lower net sales of accessories.\n",
       "\n",
       "---\n",
       "\n"
      ],
      "text/plain": [
       "<IPython.core.display.Markdown object>"
      ]
     },
     "metadata": {},
     "output_type": "display_data"
    },
    {
     "data": {
      "text/markdown": [
       "- score: 0.6421\n",
       "- metadata: WeaveDict({'source': '2022 Q3 AAPL.pdf', 'raw_tokens': 11081, 'file_type': 'pdf'})\n",
       "- chunk_number: 25\n",
       "- chunk_id: fed3877be83a64ed1694fddbcf141f7c\n",
       "- doc_id: d526fb0c9708ec6e7103a267f08b9a6a\n",
       "\n",
       "\n",
       "Furth er informat ion regarding the Com pany’ s reportable segments can be found in Part I, Item 1 of this Form 10-Q in the Notes to Condensed\n",
       "Consolidated Financial Statements in Note 9, “Segment Information and Geographic Data.”\n",
       "The following table shows net sales by reportable segment for the three- and nine-month periods ended June 25, 2022 and June 26, 2021 (dollars in millions):\n",
       "Three Months Ended Nine Months Ended\n",
       "June 25,\n",
       "2022June 26,\n",
       "2021 ChangeJune 25,\n",
       "2022June 26,\n",
       "2021 Change\n",
       "Net sales by reportable segment:\n",
       "Americas $ 37,472 $ 35,870 4 %$ 129,850 $ 116,486 11 %\n",
       "Europe 19,287 18,943 2 % 72,323 68,513 6 %\n",
       "Greater China 14,604 14,762 (1)% 58,730 53,803 9 %\n",
       "Japan 5,446 6,464 (16)% 20,277 22,491 (10)%\n",
       "Rest of Asia Pacific 6,150 5,395 14 % 23,002 21,164 9 %\n",
       "Total net sales $ 82,959 $ 81,434 2 %$ 304,182 $ 282,457 8 %\n",
       "Americas\n",
       "Americas net sales increased during the third quarter of 2022 compared to the third quarter of 2021 due primarily to higher net sales of Services and iPhone,\n",
       "partially offset by lower net sales of Mac and Wearables, Home and Accessories.Year-over-ye ar Americas net sales increased during the first nine months of\n",
       "2022 due primarily to higher net sales of iPhone, Services and W earables, Home and Accessories.Europe\n",
       "Europe net sales increas ed during the third quarter of 2022 compared to the third quarter of 2021 due primarily to higher net sales of iPhone, partially offset by\n",
       "lower net sales of Mac.Year-over-year Europe net sales increased during the first nine months of 2022 due primarily to higher net sales of Services and iPhone.The weakness in foreign  currencies relative to the U.S. dollar had a net unfavorable impact on Europe net sales during the third quarter and first nine months of\n",
       "2022.\n",
       "\n",
       "---\n",
       "\n"
      ],
      "text/plain": [
       "<IPython.core.display.Markdown object>"
      ]
     },
     "metadata": {},
     "output_type": "display_data"
    },
    {
     "data": {
      "text/html": [
       "<pre style=\"white-space:pre;overflow-x:auto;line-height:normal;font-family:Menlo,'DejaVu Sans Mono',consolas,'Courier New',monospace\">Evaluated <span style=\"color: #008080; text-decoration-color: #008080; font-weight: bold\">1</span> of <span style=\"color: #008080; text-decoration-color: #008080; font-weight: bold\">9</span> examples\n",
       "</pre>\n"
      ],
      "text/plain": [
       "Evaluated \u001b[1;36m1\u001b[0m of \u001b[1;36m9\u001b[0m examples\n"
      ]
     },
     "metadata": {},
     "output_type": "display_data"
    },
    {
     "data": {
      "text/html": [
       "<pre style=\"white-space:pre;overflow-x:auto;line-height:normal;font-family:Menlo,'DejaVu Sans Mono',consolas,'Courier New',monospace\">Evaluated <span style=\"color: #008080; text-decoration-color: #008080; font-weight: bold\">2</span> of <span style=\"color: #008080; text-decoration-color: #008080; font-weight: bold\">9</span> examples\n",
       "</pre>\n"
      ],
      "text/plain": [
       "Evaluated \u001b[1;36m2\u001b[0m of \u001b[1;36m9\u001b[0m examples\n"
      ]
     },
     "metadata": {},
     "output_type": "display_data"
    },
    {
     "data": {
      "text/html": [
       "<pre style=\"white-space:pre;overflow-x:auto;line-height:normal;font-family:Menlo,'DejaVu Sans Mono',consolas,'Courier New',monospace\">Evaluated <span style=\"color: #008080; text-decoration-color: #008080; font-weight: bold\">3</span> of <span style=\"color: #008080; text-decoration-color: #008080; font-weight: bold\">9</span> examples\n",
       "</pre>\n"
      ],
      "text/plain": [
       "Evaluated \u001b[1;36m3\u001b[0m of \u001b[1;36m9\u001b[0m examples\n"
      ]
     },
     "metadata": {},
     "output_type": "display_data"
    },
    {
     "data": {
      "text/html": [
       "<pre style=\"white-space:pre;overflow-x:auto;line-height:normal;font-family:Menlo,'DejaVu Sans Mono',consolas,'Courier New',monospace\">Evaluated <span style=\"color: #008080; text-decoration-color: #008080; font-weight: bold\">4</span> of <span style=\"color: #008080; text-decoration-color: #008080; font-weight: bold\">9</span> examples\n",
       "</pre>\n"
      ],
      "text/plain": [
       "Evaluated \u001b[1;36m4\u001b[0m of \u001b[1;36m9\u001b[0m examples\n"
      ]
     },
     "metadata": {},
     "output_type": "display_data"
    },
    {
     "data": {
      "text/html": [
       "<pre style=\"white-space:pre;overflow-x:auto;line-height:normal;font-family:Menlo,'DejaVu Sans Mono',consolas,'Courier New',monospace\">Evaluated <span style=\"color: #008080; text-decoration-color: #008080; font-weight: bold\">5</span> of <span style=\"color: #008080; text-decoration-color: #008080; font-weight: bold\">9</span> examples\n",
       "</pre>\n"
      ],
      "text/plain": [
       "Evaluated \u001b[1;36m5\u001b[0m of \u001b[1;36m9\u001b[0m examples\n"
      ]
     },
     "metadata": {},
     "output_type": "display_data"
    },
    {
     "data": {
      "text/html": [
       "<pre style=\"white-space:pre;overflow-x:auto;line-height:normal;font-family:Menlo,'DejaVu Sans Mono',consolas,'Courier New',monospace\">Evaluated <span style=\"color: #008080; text-decoration-color: #008080; font-weight: bold\">6</span> of <span style=\"color: #008080; text-decoration-color: #008080; font-weight: bold\">9</span> examples\n",
       "</pre>\n"
      ],
      "text/plain": [
       "Evaluated \u001b[1;36m6\u001b[0m of \u001b[1;36m9\u001b[0m examples\n"
      ]
     },
     "metadata": {},
     "output_type": "display_data"
    },
    {
     "data": {
      "text/html": [
       "<pre style=\"white-space:pre;overflow-x:auto;line-height:normal;font-family:Menlo,'DejaVu Sans Mono',consolas,'Courier New',monospace\">Evaluated <span style=\"color: #008080; text-decoration-color: #008080; font-weight: bold\">7</span> of <span style=\"color: #008080; text-decoration-color: #008080; font-weight: bold\">9</span> examples\n",
       "</pre>\n"
      ],
      "text/plain": [
       "Evaluated \u001b[1;36m7\u001b[0m of \u001b[1;36m9\u001b[0m examples\n"
      ]
     },
     "metadata": {},
     "output_type": "display_data"
    },
    {
     "data": {
      "text/html": [
       "<pre style=\"white-space:pre;overflow-x:auto;line-height:normal;font-family:Menlo,'DejaVu Sans Mono',consolas,'Courier New',monospace\">Evaluated <span style=\"color: #008080; text-decoration-color: #008080; font-weight: bold\">8</span> of <span style=\"color: #008080; text-decoration-color: #008080; font-weight: bold\">9</span> examples\n",
       "</pre>\n"
      ],
      "text/plain": [
       "Evaluated \u001b[1;36m8\u001b[0m of \u001b[1;36m9\u001b[0m examples\n"
      ]
     },
     "metadata": {},
     "output_type": "display_data"
    },
    {
     "data": {
      "text/html": [
       "<pre style=\"white-space:pre;overflow-x:auto;line-height:normal;font-family:Menlo,'DejaVu Sans Mono',consolas,'Courier New',monospace\">Evaluated <span style=\"color: #008080; text-decoration-color: #008080; font-weight: bold\">9</span> of <span style=\"color: #008080; text-decoration-color: #008080; font-weight: bold\">9</span> examples\n",
       "</pre>\n"
      ],
      "text/plain": [
       "Evaluated \u001b[1;36m9\u001b[0m of \u001b[1;36m9\u001b[0m examples\n"
      ]
     },
     "metadata": {},
     "output_type": "display_data"
    },
    {
     "data": {
      "text/html": [
       "<pre style=\"white-space:pre;overflow-x:auto;line-height:normal;font-family:Menlo,'DejaVu Sans Mono',consolas,'Courier New',monospace\">Evaluation summary\n",
       "<span style=\"font-weight: bold\">{</span>\n",
       "    <span style=\"color: #008000; text-decoration-color: #008000\">'retrieval_scorer'</span>: <span style=\"font-weight: bold\">{</span>\n",
       "        <span style=\"color: #008000; text-decoration-color: #008000\">'precision'</span>: <span style=\"font-weight: bold\">{</span><span style=\"color: #008000; text-decoration-color: #008000\">'mean'</span>: <span style=\"color: #008080; text-decoration-color: #008080; font-weight: bold\">0.5851851851851851</span><span style=\"font-weight: bold\">}</span>,\n",
       "        <span style=\"color: #008000; text-decoration-color: #008000\">'hit_rate'</span>: <span style=\"font-weight: bold\">{</span><span style=\"color: #008000; text-decoration-color: #008000\">'mean'</span>: <span style=\"color: #008080; text-decoration-color: #008080; font-weight: bold\">0.5777777777777778</span><span style=\"font-weight: bold\">}</span>,\n",
       "        <span style=\"color: #008000; text-decoration-color: #008000\">'map'</span>: <span style=\"font-weight: bold\">{</span><span style=\"color: #008000; text-decoration-color: #008000\">'mean'</span>: <span style=\"color: #008080; text-decoration-color: #008080; font-weight: bold\">0.7611111111111111</span><span style=\"font-weight: bold\">}</span>,\n",
       "        <span style=\"color: #008000; text-decoration-color: #008000\">'relevance'</span>: <span style=\"font-weight: bold\">{</span><span style=\"color: #008000; text-decoration-color: #008000\">'mean'</span>: <span style=\"color: #008080; text-decoration-color: #008080; font-weight: bold\">0.0</span><span style=\"font-weight: bold\">}</span>,\n",
       "        <span style=\"color: #008000; text-decoration-color: #008000\">'relevance_score'</span>: <span style=\"font-weight: bold\">{</span><span style=\"color: #008000; text-decoration-color: #008000\">'mean'</span>: <span style=\"color: #008080; text-decoration-color: #008080; font-weight: bold\">0.35927777777777775</span><span style=\"font-weight: bold\">}</span>,\n",
       "        <span style=\"color: #008000; text-decoration-color: #008000\">'mrr'</span>: <span style=\"font-weight: bold\">{</span><span style=\"color: #008000; text-decoration-color: #008000\">'mean'</span>: <span style=\"color: #008080; text-decoration-color: #008080; font-weight: bold\">0.2659259259259259</span><span style=\"font-weight: bold\">}</span>,\n",
       "        <span style=\"color: #008000; text-decoration-color: #008000\">'ndcg'</span>: <span style=\"font-weight: bold\">{</span><span style=\"color: #008000; text-decoration-color: #008000\">'mean'</span>: <span style=\"color: #008080; text-decoration-color: #008080; font-weight: bold\">0.573722800371186</span><span style=\"font-weight: bold\">}</span>,\n",
       "        <span style=\"color: #008000; text-decoration-color: #008000\">'f1_score'</span>: <span style=\"font-weight: bold\">{</span><span style=\"color: #008000; text-decoration-color: #008000\">'mean'</span>: <span style=\"color: #008080; text-decoration-color: #008080; font-weight: bold\">0.5938271604938272</span><span style=\"font-weight: bold\">}</span>,\n",
       "        <span style=\"color: #008000; text-decoration-color: #008000\">'recall'</span>: <span style=\"font-weight: bold\">{</span><span style=\"color: #008000; text-decoration-color: #008000\">'mean'</span>: <span style=\"color: #008080; text-decoration-color: #008080; font-weight: bold\">0.6666666666666666</span><span style=\"font-weight: bold\">}</span>\n",
       "    <span style=\"font-weight: bold\">}</span>,\n",
       "    <span style=\"color: #008000; text-decoration-color: #008000\">'model_latency'</span>: <span style=\"font-weight: bold\">{</span><span style=\"color: #008000; text-decoration-color: #008000\">'mean'</span>: <span style=\"color: #008080; text-decoration-color: #008080; font-weight: bold\">1.7241240077548556</span><span style=\"font-weight: bold\">}</span>\n",
       "<span style=\"font-weight: bold\">}</span>\n",
       "</pre>\n"
      ],
      "text/plain": [
       "Evaluation summary\n",
       "\u001b[1m{\u001b[0m\n",
       "    \u001b[32m'retrieval_scorer'\u001b[0m: \u001b[1m{\u001b[0m\n",
       "        \u001b[32m'precision'\u001b[0m: \u001b[1m{\u001b[0m\u001b[32m'mean'\u001b[0m: \u001b[1;36m0.5851851851851851\u001b[0m\u001b[1m}\u001b[0m,\n",
       "        \u001b[32m'hit_rate'\u001b[0m: \u001b[1m{\u001b[0m\u001b[32m'mean'\u001b[0m: \u001b[1;36m0.5777777777777778\u001b[0m\u001b[1m}\u001b[0m,\n",
       "        \u001b[32m'map'\u001b[0m: \u001b[1m{\u001b[0m\u001b[32m'mean'\u001b[0m: \u001b[1;36m0.7611111111111111\u001b[0m\u001b[1m}\u001b[0m,\n",
       "        \u001b[32m'relevance'\u001b[0m: \u001b[1m{\u001b[0m\u001b[32m'mean'\u001b[0m: \u001b[1;36m0.0\u001b[0m\u001b[1m}\u001b[0m,\n",
       "        \u001b[32m'relevance_score'\u001b[0m: \u001b[1m{\u001b[0m\u001b[32m'mean'\u001b[0m: \u001b[1;36m0.35927777777777775\u001b[0m\u001b[1m}\u001b[0m,\n",
       "        \u001b[32m'mrr'\u001b[0m: \u001b[1m{\u001b[0m\u001b[32m'mean'\u001b[0m: \u001b[1;36m0.2659259259259259\u001b[0m\u001b[1m}\u001b[0m,\n",
       "        \u001b[32m'ndcg'\u001b[0m: \u001b[1m{\u001b[0m\u001b[32m'mean'\u001b[0m: \u001b[1;36m0.573722800371186\u001b[0m\u001b[1m}\u001b[0m,\n",
       "        \u001b[32m'f1_score'\u001b[0m: \u001b[1m{\u001b[0m\u001b[32m'mean'\u001b[0m: \u001b[1;36m0.5938271604938272\u001b[0m\u001b[1m}\u001b[0m,\n",
       "        \u001b[32m'recall'\u001b[0m: \u001b[1m{\u001b[0m\u001b[32m'mean'\u001b[0m: \u001b[1;36m0.6666666666666666\u001b[0m\u001b[1m}\u001b[0m\n",
       "    \u001b[1m}\u001b[0m,\n",
       "    \u001b[32m'model_latency'\u001b[0m: \u001b[1m{\u001b[0m\u001b[32m'mean'\u001b[0m: \u001b[1;36m1.7241240077548556\u001b[0m\u001b[1m}\u001b[0m\n",
       "\u001b[1m}\u001b[0m\n"
      ]
     },
     "metadata": {},
     "output_type": "display_data"
    },
    {
     "name": "stdout",
     "output_type": "stream",
     "text": [
      "🍩 https://wandb.ai/a-sh0ts/rag-workshop-pc-nyc-3/r/call/01948fc0-c091-7441-9b9b-c0d97cf6dec2\n"
     ]
    }
   ],
   "source": [
    "# Setup the hybrid retriever with the sparse and dense search engines.\n",
    "hybrid_retriever = HybridRetrieverWithReranker(\n",
    "    sparse_search_engine=bm25_search_engine,\n",
    "    dense_search_engine=dense_search_engine\n",
    ")\n",
    "\n",
    "retrieved_docs = await hybrid_retriever.invoke(query=query, top_k=10, top_n=5)\n",
    "\n",
    "for doc in retrieved_docs:\n",
    "    render_doc(doc)\n",
    "\n",
    "\n",
    "hybrid_retrieval_scores = await retrieval_evaluation.evaluate(\n",
    "    model=hybrid_retriever,\n",
    "    __weave={\"display_name\": \"Hybrid Retrieval\"}\n",
    ")\n",
    "\n",
    "class HybridRAGPipeline(SimpleRAGPipeline):\n",
    "    pass\n",
    "\n",
    "hybrid_rag_pipeline = HybridRAGPipeline(\n",
    "    retriever=hybrid_retriever,\n",
    "    generator=simple_response_generator\n",
    ")\n",
    "\n",
    "hybrid_response_scores = await response_evaluation.evaluate(\n",
    "    model=hybrid_rag_pipeline,\n",
    "    __weave={\"display_name\": \"Hybrid RAG Pipeline\"}\n",
    ")\n",
    "\n"
   ]
  },
  {
   "cell_type": "markdown",
   "metadata": {},
   "source": [
    "## Can we do better ?\n",
    "\n",
    "What if we have more data ? We initially used only the W&B documentation for our RAG pipeline. What if we use more data sources, like the `Weave Documentation`, `W&B Tutorials` and `Examples`, `W&B Blog posts`, `W&B Course content` etc. \n",
    "\n",
    "While it might improve the performance of the RAG pipeline, it might also increase the cost and complexity the pipeline. \n",
    "Our naive `DenseSearchEngine` might not be able to handle such a large corpus of documents because it requires storing the embeddings in memory.\n",
    "\n",
    "One specific way to handle some of these issues is to use a vector database to store the embeddings of the documents and then use a retriever to retrieve the most relevant documents.\n",
    "Vector databases are optimized for storing and querying embeddings and are a good way to handle large corpora of documents. \n",
    "This allows us to work with a large corpus of documents without dealing with the complexity of storing the embeddings in memory.\n",
    "\n",
    "We will be using the `VectorStoreSearchEngine` class to create a vector store search engine."
   ]
  },
  {
   "cell_type": "code",
   "execution_count": 35,
   "metadata": {},
   "outputs": [],
   "source": [
    "from utils import prepare_documents_for_pinecone"
   ]
  },
  {
   "cell_type": "code",
   "execution_count": 36,
   "metadata": {},
   "outputs": [],
   "source": [
    "pinecone_docs = prepare_documents_for_pinecone(document_chunks)"
   ]
  },
  {
   "cell_type": "code",
   "execution_count": 39,
   "metadata": {},
   "outputs": [],
   "source": [
    "vectorstore_search_engine = VectorStoreSearchEngine()\n",
    "if STORE_INTO_PINECONE:\n",
    "    vectorstore_search_engine = await vectorstore_search_engine.fit(pinecone_docs)\n",
    "else:\n",
    "    vectorstore_search_engine = await vectorstore_search_engine.load()"
   ]
  },
  {
   "cell_type": "markdown",
   "metadata": {},
   "source": [
    "One additional advantage of using a vector database is we can run more complex queries that include metadata filters.\n",
    "\n",
    "For instance, we can retrieve all the markdown and notebook files from the dataset without retrieving the code documents. This can be useful if we are interested in retrieving a specific type of document or subset of documents before preforming the retrieval."
   ]
  },
  {
   "cell_type": "code",
   "execution_count": null,
   "metadata": {},
   "outputs": [],
   "source": [
    "results = await vectorstore_search_engine.search(\n",
    "    query=query,\n",
    "    top_k=5,\n",
    "    filters={\"file_type\": {\"$in\": [\"pdf\"]}}\n",
    ")\n",
    "for doc in results:\n",
    "    render_doc(doc)"
   ]
  },
  {
   "cell_type": "code",
   "execution_count": null,
   "metadata": {},
   "outputs": [],
   "source": [
    "results[0]"
   ]
  },
  {
   "cell_type": "code",
   "execution_count": null,
   "metadata": {},
   "outputs": [],
   "source": [
    "class VectorStoreRetriever(RetrieverWithReranker):\n",
    "    pass\n",
    "\n",
    "vectorstore_retriever = VectorStoreRetriever(search_engine=vectorstore_search_engine)\n",
    "\n",
    "#TODO: Appropriate filters\n",
    "results = await vectorstore_retriever.invoke(query=query, top_k=10, top_n=5, filters={\"file_type\": {\"$in\": [\"pdf\"]}})\n",
    "for doc in results:\n",
    "    render_doc(doc)\n",
    "\n",
    "class VectorStoreRAGPipeline(SimpleRAGPipeline):\n",
    "    pass\n",
    "\n",
    "vectorstore_rag_pipeline = VectorStoreRAGPipeline(\n",
    "    retriever=vectorstore_retriever,\n",
    "    generator=simple_response_generator)\n",
    "\n",
    "response = await vectorstore_rag_pipeline.invoke(query=query)\n",
    "\n",
    "printmd(response[\"answer\"])\n",
    "\n",
    "# We can now evaluate the response generation performance of the vector store RAG pipeline.\n",
    "vectorstore_response_scores = await response_evaluation.evaluate(\n",
    "    model=vectorstore_rag_pipeline,\n",
    "    __weave={\"display_name\": \"Vector Store RAG Pipeline\"}\n",
    ")\n",
    "# Compare the scores of the vector store RAG pipeline with the earlier pipelines."
   ]
  },
  {
   "cell_type": "markdown",
   "metadata": {},
   "source": [
    "## Query Enhancement\n",
    "\n",
    "Next let's look at another way to improve our RAG pipeline.\n",
    "We will be implementing a *query enhancement* stage in out pipeline.  Our `QueryEnhancer` will perform two key tasks:\n",
    "\n",
    "\n",
    "![QueryEnhancer](./imgs/AdvancedRAG.png)\n",
    "\n",
    "1. **Intent Classification**: Determine the user's intent of based on the query. This helps us better understand the user's query and improve the response generation step.\n",
    "\n",
    "2. **Query Expansion**: Break down queries into more focused sub-queries for retrieval. This improves retrieval by capturing different aspects of the original question.\n",
    "\n",
    "These enhancements serve two primary purposes:\n",
    "- Inform the response generator, allowing it to tailor its output based on language and intent.\n",
    "- Improve the retrieval process by using more targeted sub-queries.\n",
    "\n",
    "Let's implement our `QueryEnhancer` and see it in action:"
   ]
  },
  {
   "cell_type": "code",
   "execution_count": null,
   "metadata": {},
   "outputs": [],
   "source": [
    "# Again the `QueryEnhancer` is a `weave.Model`\n",
    "# it contains two methods, one to get the intent prediction and one to generate search queries.\n",
    "# the invoke method is a wrapper around the two methods.\n",
    "# let's see how it works for a sample query.\n",
    "query_enhancer = QueryEnhancer()\n",
    "results = await query_enhancer.invoke(query=query)\n",
    "results\n"
   ]
  },
  {
   "cell_type": "markdown",
   "metadata": {},
   "source": [
    "We can now use the `QueryEnhancer` to create a `QueryEnhancedRAGPipeline`. However, unlike the `SimpleRAGPipeline`, this pipeline requires a `response_generator` that can handle the user's intent and query. Additionally, the `retriever` must now be able to handle the search queries generated by the `QueryEnhancer` and rerank and collate the results.\n",
    "\n",
    "The `QueryEnhancedRAGPipeline` encapsulates this logic and provides a way to unify the pipeline with the `QueryEnhancer` and the response generator."
   ]
  },
  {
   "cell_type": "code",
   "execution_count": null,
   "metadata": {},
   "outputs": [],
   "source": [
    "# Instantiate the `QueryEnhancedRAGPipeline` with the `QueryEnhancer`, `retriever` and `QueryEnhancedResponseGenerator`.\n",
    "query_enhanced_rag_pipeline = QueryEnhancedRAGPipeline(\n",
    "    query_enhancer=query_enhancer,\n",
    "    retriever=vectorstore_retriever,\n",
    "    generator=QueryEnhancedResponseGenerator()\n",
    ")\n",
    "# We can now evaluate the response generation performance of the query enhanced RAG pipeline.\n",
    "response = await query_enhanced_rag_pipeline.invoke(query=query)\n",
    "printmd(response[\"answer\"])\n",
    "\n",
    "query_enhanced_response_scores = await response_evaluation.evaluate(\n",
    "    model=query_enhanced_rag_pipeline,\n",
    "    __weave={\"display_name\": \"Query Enhanced RAG Pipeline\"}\n",
    ")"
   ]
  },
  {
   "cell_type": "markdown",
   "metadata": {},
   "source": [
    "## Agentic RAG\n",
    "\n",
    "So far we have seen a few ways to improve our RAG pipeline. \n",
    "The query enhanced RAG pipeline is already a little agentic in the sense that it uses the `QueryEnhancer` to generate search queries and then uses the `retriever` to retrieve the most relevant documents. The query enhancer uses a LLM to generate the search queries and intents predictions. We then manually route these to the retriever and response generator. It also made use of Structured Outputs to return the results in a structured format. - This was an example of an llm using tool calling. \n",
    "\n",
    "Tool use allows for greater flexibility in accessing and utilizing data sources, thus unlocking new use cases not possible with a standard RAG approach.\n",
    "\n",
    "In a setting where data sources are diverse with non-homogeneous formats (structured/semi-structured/unstructured), this approach becomes even more important.\n",
    "\n",
    "We'll look at how we can implement an agentic RAG system using a tool use approach. The agent can search for information about how to use the product, retrieve information from the internet, and search code examples\n",
    "\n",
    "Concretely, we'll cover the following use cases:\n",
    "\n",
    "- `search_docs`: Searches the filing documents in the SEC database\n",
    "- `search_internet`: Searches the internet for general queries\n",
    "\n",
    "With tool use we can take out pipeline a step further and create an agentic system.\n",
    "We will be using the `Agent` class to create an agentic RAG pipeline. \n",
    "\n",
    "The `Agent` class is a `weave.Model` that encapsulates some tools and llm calls and their routing logic. Let's see how it works.\n",
    "\n"
   ]
  },
  {
   "cell_type": "code",
   "execution_count": 45,
   "metadata": {},
   "outputs": [],
   "source": [
    "from agent import Agent"
   ]
  },
  {
   "cell_type": "code",
   "execution_count": null,
   "metadata": {},
   "outputs": [],
   "source": [
    "agent = Agent()\n",
    "\n",
    "answer = await agent.invoke(query=\"Compare the latest APPL filing to the TSLA filing in our database\")\n",
    "printmd(answer[\"answer\"])\n"
   ]
  },
  {
   "cell_type": "code",
   "execution_count": null,
   "metadata": {},
   "outputs": [],
   "source": []
  }
 ],
 "metadata": {
  "kernelspec": {
   "display_name": ".venv",
   "language": "python",
   "name": "python3"
  },
  "language_info": {
   "codemirror_mode": {
    "name": "ipython",
    "version": 3
   },
   "file_extension": ".py",
   "mimetype": "text/x-python",
   "name": "python",
   "nbconvert_exporter": "python",
   "pygments_lexer": "ipython3",
   "version": "3.11.9"
  }
 },
 "nbformat": 4,
 "nbformat_minor": 2
}
